{
 "cells": [
  {
   "cell_type": "markdown",
   "id": "dd926bc6",
   "metadata": {},
   "source": [
    "# Карты кохонена"
   ]
  },
  {
   "cell_type": "markdown",
   "id": "deda99d8",
   "metadata": {},
   "source": [
    "## Подключение библиотек"
   ]
  },
  {
   "cell_type": "code",
   "execution_count": 1,
   "id": "f9d2a6f6",
   "metadata": {},
   "outputs": [
    {
     "data": {
      "text/html": [
       "<style type='text/css'>\n",
       ".datatable table.frame { margin-bottom: 0; }\n",
       ".datatable table.frame thead { border-bottom: none; }\n",
       ".datatable table.frame tr.coltypes td {  color: #FFFFFF;  line-height: 6px;  padding: 0 0.5em;}\n",
       ".datatable .bool    { background: #DDDD99; }\n",
       ".datatable .object  { background: #565656; }\n",
       ".datatable .int     { background: #5D9E5D; }\n",
       ".datatable .float   { background: #4040CC; }\n",
       ".datatable .str     { background: #CC4040; }\n",
       ".datatable .time    { background: #40CC40; }\n",
       ".datatable .row_index {  background: var(--jp-border-color3);  border-right: 1px solid var(--jp-border-color0);  color: var(--jp-ui-font-color3);  font-size: 9px;}\n",
       ".datatable .frame tbody td { text-align: left; }\n",
       ".datatable .frame tr.coltypes .row_index {  background: var(--jp-border-color0);}\n",
       ".datatable th:nth-child(2) { padding-left: 12px; }\n",
       ".datatable .hellipsis {  color: var(--jp-cell-editor-border-color);}\n",
       ".datatable .vellipsis {  background: var(--jp-layout-color0);  color: var(--jp-cell-editor-border-color);}\n",
       ".datatable .na {  color: var(--jp-cell-editor-border-color);  font-size: 80%;}\n",
       ".datatable .sp {  opacity: 0.25;}\n",
       ".datatable .footer { font-size: 9px; }\n",
       ".datatable .frame_dimensions {  background: var(--jp-border-color3);  border-top: 1px solid var(--jp-border-color0);  color: var(--jp-ui-font-color3);  display: inline-block;  opacity: 0.6;  padding: 1px 10px 1px 5px;}\n",
       "</style>\n"
      ],
      "text/plain": [
       "<IPython.core.display.HTML object>"
      ]
     },
     "metadata": {},
     "output_type": "display_data"
    }
   ],
   "source": [
    "import pandas as pd\n",
    "import numpy as np\n",
    "import datatable as dt\n",
    "from tqdm import tqdm\n",
    "import matplotlib.pyplot as plt\n",
    "from copy import deepcopy, copy\n",
    "\n",
    "from sklearn.metrics import accuracy_score\n",
    "from sklearn.model_selection import train_test_split\n",
    "\n",
    "from warnings import filterwarnings\n",
    "\n",
    "np.random.seed(50)"
   ]
  },
  {
   "cell_type": "markdown",
   "id": "2f41a992",
   "metadata": {},
   "source": [
    "## Загрузка данных"
   ]
  },
  {
   "cell_type": "code",
   "execution_count": 2,
   "id": "e71f4abb",
   "metadata": {},
   "outputs": [
    {
     "data": {
      "text/html": [
       "<div class='datatable'>\n",
       "  <table class='frame'>\n",
       "  <thead>\n",
       "    <tr class='colnames'><td class='row_index'></td><th>C0</th><th>C1</th><th>C2</th><th>C3</th><th>C4</th><th>C5</th><th>C6</th><th>C7</th><th>C8</th><th>C9</th><th>C10</th><th>C11</th><th>C12</th><th>C13</th><th>C14</th></tr>\n",
       "    <tr class='coltypes'><td class='row_index'></td><td class='str' title='str32'>&#x25AA;&#x25AA;&#x25AA;&#x25AA;</td><td class='float' title='float64'>&#x25AA;&#x25AA;&#x25AA;&#x25AA;&#x25AA;&#x25AA;&#x25AA;&#x25AA;</td><td class='float' title='float64'>&#x25AA;&#x25AA;&#x25AA;&#x25AA;&#x25AA;&#x25AA;&#x25AA;&#x25AA;</td><td class='float' title='float64'>&#x25AA;&#x25AA;&#x25AA;&#x25AA;&#x25AA;&#x25AA;&#x25AA;&#x25AA;</td><td class='float' title='float64'>&#x25AA;&#x25AA;&#x25AA;&#x25AA;&#x25AA;&#x25AA;&#x25AA;&#x25AA;</td><td class='float' title='float64'>&#x25AA;&#x25AA;&#x25AA;&#x25AA;&#x25AA;&#x25AA;&#x25AA;&#x25AA;</td><td class='float' title='float64'>&#x25AA;&#x25AA;&#x25AA;&#x25AA;&#x25AA;&#x25AA;&#x25AA;&#x25AA;</td><td class='float' title='float64'>&#x25AA;&#x25AA;&#x25AA;&#x25AA;&#x25AA;&#x25AA;&#x25AA;&#x25AA;</td><td class='float' title='float64'>&#x25AA;&#x25AA;&#x25AA;&#x25AA;&#x25AA;&#x25AA;&#x25AA;&#x25AA;</td><td class='bool' title='bool8'>&#x25AA;</td><td class='bool' title='bool8'>&#x25AA;</td><td class='bool' title='bool8'>&#x25AA;</td><td class='bool' title='bool8'>&#x25AA;</td><td class='bool' title='bool8'>&#x25AA;</td><td class='bool' title='bool8'>&#x25AA;</td></tr>\n",
       "  </thead>\n",
       "  <tbody>\n",
       "    <tr><td class='row_index'>0</td><td>bool_in=0</td><td><span class=na>NA</span></td><td><span class=na>NA</span></td><td><span class=na>NA</span></td><td><span class=na>NA</span></td><td><span class=na>NA</span></td><td><span class=na>NA</span></td><td><span class=na>NA</span></td><td><span class=na>NA</span></td><td><span class=na>NA</span></td><td><span class=na>NA</span></td><td><span class=na>NA</span></td><td><span class=na>NA</span></td><td><span class=na>NA</span></td><td><span class=na>NA</span></td></tr>\n",
       "    <tr><td class='row_index'>1</td><td>real_in=9</td><td><span class=na>NA</span></td><td><span class=na>NA</span></td><td><span class=na>NA</span></td><td><span class=na>NA</span></td><td><span class=na>NA</span></td><td><span class=na>NA</span></td><td><span class=na>NA</span></td><td><span class=na>NA</span></td><td><span class=na>NA</span></td><td><span class=na>NA</span></td><td><span class=na>NA</span></td><td><span class=na>NA</span></td><td><span class=na>NA</span></td><td><span class=na>NA</span></td></tr>\n",
       "    <tr><td class='row_index'>2</td><td>bool_out=6</td><td><span class=na>NA</span></td><td><span class=na>NA</span></td><td><span class=na>NA</span></td><td><span class=na>NA</span></td><td><span class=na>NA</span></td><td><span class=na>NA</span></td><td><span class=na>NA</span></td><td><span class=na>NA</span></td><td><span class=na>NA</span></td><td><span class=na>NA</span></td><td><span class=na>NA</span></td><td><span class=na>NA</span></td><td><span class=na>NA</span></td><td><span class=na>NA</span></td></tr>\n",
       "    <tr><td class='row_index'>3</td><td>real_out=0</td><td><span class=na>NA</span></td><td><span class=na>NA</span></td><td><span class=na>NA</span></td><td><span class=na>NA</span></td><td><span class=na>NA</span></td><td><span class=na>NA</span></td><td><span class=na>NA</span></td><td><span class=na>NA</span></td><td><span class=na>NA</span></td><td><span class=na>NA</span></td><td><span class=na>NA</span></td><td><span class=na>NA</span></td><td><span class=na>NA</span></td><td><span class=na>NA</span></td></tr>\n",
       "    <tr><td class='row_index'>4</td><td>training_examples=107</td><td><span class=na>NA</span></td><td><span class=na>NA</span></td><td><span class=na>NA</span></td><td><span class=na>NA</span></td><td><span class=na>NA</span></td><td><span class=na>NA</span></td><td><span class=na>NA</span></td><td><span class=na>NA</span></td><td><span class=na>NA</span></td><td><span class=na>NA</span></td><td><span class=na>NA</span></td><td><span class=na>NA</span></td><td><span class=na>NA</span></td><td><span class=na>NA</span></td></tr>\n",
       "    <tr><td class='row_index'>5</td><td>validation_examples=54</td><td><span class=na>NA</span></td><td><span class=na>NA</span></td><td><span class=na>NA</span></td><td><span class=na>NA</span></td><td><span class=na>NA</span></td><td><span class=na>NA</span></td><td><span class=na>NA</span></td><td><span class=na>NA</span></td><td><span class=na>NA</span></td><td><span class=na>NA</span></td><td><span class=na>NA</span></td><td><span class=na>NA</span></td><td><span class=na>NA</span></td><td><span class=na>NA</span></td></tr>\n",
       "    <tr><td class='row_index'>6</td><td>test_examples=53</td><td><span class=na>NA</span></td><td><span class=na>NA</span></td><td><span class=na>NA</span></td><td><span class=na>NA</span></td><td><span class=na>NA</span></td><td><span class=na>NA</span></td><td><span class=na>NA</span></td><td><span class=na>NA</span></td><td><span class=na>NA</span></td><td><span class=na>NA</span></td><td><span class=na>NA</span></td><td><span class=na>NA</span></td><td><span class=na>NA</span></td><td><span class=na>NA</span></td></tr>\n",
       "    <tr><td class='row_index'>7</td><td>0.226514</td><td>0.392481</td><td>0.7951</td><td>0.398754</td><td>0.574109</td><td>0.0982287</td><td>0.228625</td><td>0</td><td>0</td><td>0</td><td>1</td><td>0</td><td>0</td><td>0</td><td>0</td></tr>\n",
       "    <tr><td class='row_index'>8</td><td>0.283582</td><td>0.475188</td><td>0.801782</td><td>0.333333</td><td>0.547842</td><td>0.0772947</td><td>0.223048</td><td>0</td><td>0</td><td>1</td><td>0</td><td>0</td><td>0</td><td>0</td><td>0</td></tr>\n",
       "    <tr><td class='row_index'>9</td><td>0.243635</td><td>0.377444</td><td>0.7951</td><td>0.339564</td><td>0.542214</td><td>0.0901771</td><td>0.27974</td><td>0</td><td>0.196078</td><td>0</td><td>0</td><td>1</td><td>0</td><td>0</td><td>0</td></tr>\n",
       "    <tr><td class='row_index'>10</td><td>0.308604</td><td>0.449624</td><td>0</td><td>0.0841121</td><td>0.870544</td><td>0</td><td>0.516729</td><td>0</td><td>0</td><td>0</td><td>1</td><td>0</td><td>0</td><td>0</td><td>0</td></tr>\n",
       "    <tr><td class='row_index'>11</td><td>0.287094</td><td>0.439098</td><td>0.815145</td><td>0.255452</td><td>0.555347</td><td>0.0177134</td><td>0.29461</td><td>0</td><td>0</td><td>0</td><td>0</td><td>1</td><td>0</td><td>0</td><td>0</td></tr>\n",
       "    <tr><td class='row_index'>12</td><td>0.216857</td><td>0.643609</td><td>0</td><td>0.691589</td><td>0.60788</td><td>0.00805153</td><td>0.315985</td><td>0.168254</td><td>0</td><td>0</td><td>0</td><td>0</td><td>0</td><td>0</td><td>1</td></tr>\n",
       "    <tr><td class='row_index'>13</td><td>0.41396</td><td>0.318797</td><td>0.358575</td><td>0.58567</td><td>0.444653</td><td>0.122383</td><td>0.39684</td><td>0.0761905</td><td>1</td><td>0</td><td>0</td><td>0</td><td>1</td><td>0</td><td>0</td></tr>\n",
       "    <tr><td class='row_index'>14</td><td>0.0882353</td><td>0.344361</td><td>0</td><td>0.856698</td><td>0.125704</td><td>1</td><td>0.142193</td><td>0</td><td>0</td><td>0</td><td>0</td><td>0</td><td>1</td><td>0</td><td>0</td></tr>\n",
       "    <tr><td class='row_index'>&#x22EE;</td><td class='hellipsis'>&#x22EE;</td><td class='hellipsis'>&#x22EE;</td><td class='hellipsis'>&#x22EE;</td><td class='hellipsis'>&#x22EE;</td><td class='hellipsis'>&#x22EE;</td><td class='hellipsis'>&#x22EE;</td><td class='hellipsis'>&#x22EE;</td><td class='hellipsis'>&#x22EE;</td><td class='hellipsis'>&#x22EE;</td><td class='hellipsis'>&#x22EE;</td><td class='hellipsis'>&#x22EE;</td><td class='hellipsis'>&#x22EE;</td><td class='hellipsis'>&#x22EE;</td><td class='hellipsis'>&#x22EE;</td><td class='hellipsis'>&#x22EE;</td></tr>\n",
       "    <tr><td class='row_index'>216</td><td>0.291045</td><td>0.372932</td><td>0.625835</td><td>0.311526</td><td>0.594747</td><td>0.0821256</td><td>0.333643</td><td>0</td><td>0.176471</td><td>1</td><td>0</td><td>0</td><td>0</td><td>0</td><td>0</td></tr>\n",
       "    <tr><td class='row_index'>217</td><td>0.28007</td><td>0.276692</td><td>0.772829</td><td>0.339564</td><td>0.67167</td><td>0.0966184</td><td>0.289963</td><td>0</td><td>0.117647</td><td>1</td><td>0</td><td>0</td><td>0</td><td>0</td><td>0</td></tr>\n",
       "    <tr><td class='row_index'>218</td><td>0.882353</td><td>0</td><td>0</td><td>0.563863</td><td>0</td><td>0.0933977</td><td>0.731413</td><td>1</td><td>0.54902</td><td>0</td><td>1</td><td>0</td><td>0</td><td>0</td><td>0</td></tr>\n",
       "    <tr><td class='row_index'>219</td><td>0.265145</td><td>0.604511</td><td>0</td><td>0.53271</td><td>0.602251</td><td>0</td><td>0.288104</td><td>0.504762</td><td>0.156863</td><td>0</td><td>0</td><td>0</td><td>0</td><td>0</td><td>1</td></tr>\n",
       "    <tr><td class='row_index'>220</td><td>0.441615</td><td>0.496241</td><td>0.837416</td><td>0.0903427</td><td>0.371482</td><td>0.0177134</td><td>0.392193</td><td>0</td><td>0</td><td>0</td><td>0</td><td>1</td><td>0</td><td>0</td><td>0</td></tr>\n",
       "  </tbody>\n",
       "  </table>\n",
       "  <div class='footer'>\n",
       "    <div class='frame_dimensions'>221 rows &times; 15 columns</div>\n",
       "  </div>\n",
       "</div>\n"
      ],
      "text/plain": [
       "<Frame#2aa9f462ed0 221x15>"
      ]
     },
     "execution_count": 2,
     "metadata": {},
     "output_type": "execute_result"
    }
   ],
   "source": [
    "DT = dt.fread('data/glass3.dt')\n",
    "DT"
   ]
  },
  {
   "cell_type": "markdown",
   "id": "6b23133c",
   "metadata": {},
   "source": [
    "## Подготовка данных"
   ]
  },
  {
   "cell_type": "markdown",
   "id": "58ee6edb",
   "metadata": {},
   "source": [
    "Удалим лишние строки"
   ]
  },
  {
   "cell_type": "code",
   "execution_count": 3,
   "id": "9b88c1f7",
   "metadata": {},
   "outputs": [
    {
     "data": {
      "text/html": [
       "<div class='datatable'>\n",
       "  <table class='frame'>\n",
       "  <thead>\n",
       "    <tr class='colnames'><td class='row_index'></td><th>C0</th><th>C1</th><th>C2</th><th>C3</th><th>C4</th><th>C5</th><th>C6</th><th>C7</th><th>C8</th><th>C9</th><th>C10</th><th>C11</th><th>C12</th><th>C13</th><th>C14</th></tr>\n",
       "    <tr class='coltypes'><td class='row_index'></td><td class='str' title='str32'>&#x25AA;&#x25AA;&#x25AA;&#x25AA;</td><td class='float' title='float64'>&#x25AA;&#x25AA;&#x25AA;&#x25AA;&#x25AA;&#x25AA;&#x25AA;&#x25AA;</td><td class='float' title='float64'>&#x25AA;&#x25AA;&#x25AA;&#x25AA;&#x25AA;&#x25AA;&#x25AA;&#x25AA;</td><td class='float' title='float64'>&#x25AA;&#x25AA;&#x25AA;&#x25AA;&#x25AA;&#x25AA;&#x25AA;&#x25AA;</td><td class='float' title='float64'>&#x25AA;&#x25AA;&#x25AA;&#x25AA;&#x25AA;&#x25AA;&#x25AA;&#x25AA;</td><td class='float' title='float64'>&#x25AA;&#x25AA;&#x25AA;&#x25AA;&#x25AA;&#x25AA;&#x25AA;&#x25AA;</td><td class='float' title='float64'>&#x25AA;&#x25AA;&#x25AA;&#x25AA;&#x25AA;&#x25AA;&#x25AA;&#x25AA;</td><td class='float' title='float64'>&#x25AA;&#x25AA;&#x25AA;&#x25AA;&#x25AA;&#x25AA;&#x25AA;&#x25AA;</td><td class='float' title='float64'>&#x25AA;&#x25AA;&#x25AA;&#x25AA;&#x25AA;&#x25AA;&#x25AA;&#x25AA;</td><td class='bool' title='bool8'>&#x25AA;</td><td class='bool' title='bool8'>&#x25AA;</td><td class='bool' title='bool8'>&#x25AA;</td><td class='bool' title='bool8'>&#x25AA;</td><td class='bool' title='bool8'>&#x25AA;</td><td class='bool' title='bool8'>&#x25AA;</td></tr>\n",
       "  </thead>\n",
       "  <tbody>\n",
       "    <tr><td class='row_index'>0</td><td>0.226514</td><td>0.392481</td><td>0.7951</td><td>0.398754</td><td>0.574109</td><td>0.0982287</td><td>0.228625</td><td>0</td><td>0</td><td>0</td><td>1</td><td>0</td><td>0</td><td>0</td><td>0</td></tr>\n",
       "    <tr><td class='row_index'>1</td><td>0.283582</td><td>0.475188</td><td>0.801782</td><td>0.333333</td><td>0.547842</td><td>0.0772947</td><td>0.223048</td><td>0</td><td>0</td><td>1</td><td>0</td><td>0</td><td>0</td><td>0</td><td>0</td></tr>\n",
       "    <tr><td class='row_index'>2</td><td>0.243635</td><td>0.377444</td><td>0.7951</td><td>0.339564</td><td>0.542214</td><td>0.0901771</td><td>0.27974</td><td>0</td><td>0.196078</td><td>0</td><td>0</td><td>1</td><td>0</td><td>0</td><td>0</td></tr>\n",
       "    <tr><td class='row_index'>3</td><td>0.308604</td><td>0.449624</td><td>0</td><td>0.0841121</td><td>0.870544</td><td>0</td><td>0.516729</td><td>0</td><td>0</td><td>0</td><td>1</td><td>0</td><td>0</td><td>0</td><td>0</td></tr>\n",
       "    <tr><td class='row_index'>4</td><td>0.287094</td><td>0.439098</td><td>0.815145</td><td>0.255452</td><td>0.555347</td><td>0.0177134</td><td>0.29461</td><td>0</td><td>0</td><td>0</td><td>0</td><td>1</td><td>0</td><td>0</td><td>0</td></tr>\n",
       "    <tr><td class='row_index'>5</td><td>0.216857</td><td>0.643609</td><td>0</td><td>0.691589</td><td>0.60788</td><td>0.00805153</td><td>0.315985</td><td>0.168254</td><td>0</td><td>0</td><td>0</td><td>0</td><td>0</td><td>0</td><td>1</td></tr>\n",
       "    <tr><td class='row_index'>6</td><td>0.41396</td><td>0.318797</td><td>0.358575</td><td>0.58567</td><td>0.444653</td><td>0.122383</td><td>0.39684</td><td>0.0761905</td><td>1</td><td>0</td><td>0</td><td>0</td><td>1</td><td>0</td><td>0</td></tr>\n",
       "    <tr><td class='row_index'>7</td><td>0.0882353</td><td>0.344361</td><td>0</td><td>0.856698</td><td>0.125704</td><td>1</td><td>0.142193</td><td>0</td><td>0</td><td>0</td><td>0</td><td>0</td><td>1</td><td>0</td><td>0</td></tr>\n",
       "    <tr><td class='row_index'>8</td><td>0.385865</td><td>0.381955</td><td>0</td><td>0.457944</td><td>0.604128</td><td>0.0756844</td><td>0.547398</td><td>0</td><td>0</td><td>0</td><td>0</td><td>0</td><td>1</td><td>0</td><td>0</td></tr>\n",
       "    <tr><td class='row_index'>9</td><td>0.318701</td><td>0.330827</td><td>0.832962</td><td>0.255452</td><td>0.463415</td><td>0.10306</td><td>0.328067</td><td>0</td><td>0.431373</td><td>0</td><td>1</td><td>0</td><td>0</td><td>0</td><td>0</td></tr>\n",
       "    <tr><td class='row_index'>10</td><td>0.230465</td><td>0.547368</td><td>0</td><td>0.76324</td><td>0.570356</td><td>0</td><td>0.373606</td><td>0.171429</td><td>0</td><td>0</td><td>0</td><td>0</td><td>0</td><td>0</td><td>1</td></tr>\n",
       "    <tr><td class='row_index'>11</td><td>0.658033</td><td>0.446617</td><td>0</td><td>0.333333</td><td>0.268293</td><td>0.0305958</td><td>0.744424</td><td>0</td><td>0.196078</td><td>0</td><td>1</td><td>0</td><td>0</td><td>0</td><td>0</td></tr>\n",
       "    <tr><td class='row_index'>12</td><td>0.225637</td><td>0.297744</td><td>0.741648</td><td>0.373832</td><td>0.651032</td><td>0.10789</td><td>0.261152</td><td>0</td><td>0</td><td>0</td><td>1</td><td>0</td><td>0</td><td>0</td><td>0</td></tr>\n",
       "    <tr><td class='row_index'>13</td><td>0.474539</td><td>0.545865</td><td>0.857461</td><td>0.186916</td><td>0.290807</td><td>0.0241546</td><td>0.345725</td><td>0</td><td>0</td><td>1</td><td>0</td><td>0</td><td>0</td><td>0</td><td>0</td></tr>\n",
       "    <tr><td class='row_index'>14</td><td>0.311238</td><td>0.321805</td><td>0.775056</td><td>0.311526</td><td>0.589118</td><td>0.0966184</td><td>0.27881</td><td>0</td><td>0</td><td>1</td><td>0</td><td>0</td><td>0</td><td>0</td><td>0</td></tr>\n",
       "    <tr><td class='row_index'>&#x22EE;</td><td class='hellipsis'>&#x22EE;</td><td class='hellipsis'>&#x22EE;</td><td class='hellipsis'>&#x22EE;</td><td class='hellipsis'>&#x22EE;</td><td class='hellipsis'>&#x22EE;</td><td class='hellipsis'>&#x22EE;</td><td class='hellipsis'>&#x22EE;</td><td class='hellipsis'>&#x22EE;</td><td class='hellipsis'>&#x22EE;</td><td class='hellipsis'>&#x22EE;</td><td class='hellipsis'>&#x22EE;</td><td class='hellipsis'>&#x22EE;</td><td class='hellipsis'>&#x22EE;</td><td class='hellipsis'>&#x22EE;</td><td class='hellipsis'>&#x22EE;</td></tr>\n",
       "    <tr><td class='row_index'>209</td><td>0.291045</td><td>0.372932</td><td>0.625835</td><td>0.311526</td><td>0.594747</td><td>0.0821256</td><td>0.333643</td><td>0</td><td>0.176471</td><td>1</td><td>0</td><td>0</td><td>0</td><td>0</td><td>0</td></tr>\n",
       "    <tr><td class='row_index'>210</td><td>0.28007</td><td>0.276692</td><td>0.772829</td><td>0.339564</td><td>0.67167</td><td>0.0966184</td><td>0.289963</td><td>0</td><td>0.117647</td><td>1</td><td>0</td><td>0</td><td>0</td><td>0</td><td>0</td></tr>\n",
       "    <tr><td class='row_index'>211</td><td>0.882353</td><td>0</td><td>0</td><td>0.563863</td><td>0</td><td>0.0933977</td><td>0.731413</td><td>1</td><td>0.54902</td><td>0</td><td>1</td><td>0</td><td>0</td><td>0</td><td>0</td></tr>\n",
       "    <tr><td class='row_index'>212</td><td>0.265145</td><td>0.604511</td><td>0</td><td>0.53271</td><td>0.602251</td><td>0</td><td>0.288104</td><td>0.504762</td><td>0.156863</td><td>0</td><td>0</td><td>0</td><td>0</td><td>0</td><td>1</td></tr>\n",
       "    <tr><td class='row_index'>213</td><td>0.441615</td><td>0.496241</td><td>0.837416</td><td>0.0903427</td><td>0.371482</td><td>0.0177134</td><td>0.392193</td><td>0</td><td>0</td><td>0</td><td>0</td><td>1</td><td>0</td><td>0</td><td>0</td></tr>\n",
       "  </tbody>\n",
       "  </table>\n",
       "  <div class='footer'>\n",
       "    <div class='frame_dimensions'>214 rows &times; 15 columns</div>\n",
       "  </div>\n",
       "</div>\n"
      ],
      "text/plain": [
       "<Frame#2aa9f462ed0 214x15>"
      ]
     },
     "execution_count": 3,
     "metadata": {},
     "output_type": "execute_result"
    }
   ],
   "source": [
    "del DT[0:7,:]\n",
    "DT"
   ]
  },
  {
   "cell_type": "markdown",
   "id": "f1aee708",
   "metadata": {},
   "source": [
    "Представим таблицу с данными в виде DataFrame Pandas."
   ]
  },
  {
   "cell_type": "code",
   "execution_count": 4,
   "id": "e748260f",
   "metadata": {},
   "outputs": [
    {
     "data": {
      "text/html": [
       "<div>\n",
       "<style scoped>\n",
       "    .dataframe tbody tr th:only-of-type {\n",
       "        vertical-align: middle;\n",
       "    }\n",
       "\n",
       "    .dataframe tbody tr th {\n",
       "        vertical-align: top;\n",
       "    }\n",
       "\n",
       "    .dataframe thead th {\n",
       "        text-align: right;\n",
       "    }\n",
       "</style>\n",
       "<table border=\"1\" class=\"dataframe\">\n",
       "  <thead>\n",
       "    <tr style=\"text-align: right;\">\n",
       "      <th></th>\n",
       "      <th>C0</th>\n",
       "      <th>C1</th>\n",
       "      <th>C2</th>\n",
       "      <th>C3</th>\n",
       "      <th>C4</th>\n",
       "      <th>C5</th>\n",
       "      <th>C6</th>\n",
       "      <th>C7</th>\n",
       "      <th>C8</th>\n",
       "      <th>C9</th>\n",
       "      <th>C10</th>\n",
       "      <th>C11</th>\n",
       "      <th>C12</th>\n",
       "      <th>C13</th>\n",
       "      <th>C14</th>\n",
       "    </tr>\n",
       "  </thead>\n",
       "  <tbody>\n",
       "    <tr>\n",
       "      <th>0</th>\n",
       "      <td>0.226514</td>\n",
       "      <td>0.392481</td>\n",
       "      <td>0.795100</td>\n",
       "      <td>0.398754</td>\n",
       "      <td>0.574109</td>\n",
       "      <td>0.098229</td>\n",
       "      <td>0.228625</td>\n",
       "      <td>0.000000</td>\n",
       "      <td>0.000000</td>\n",
       "      <td>False</td>\n",
       "      <td>True</td>\n",
       "      <td>False</td>\n",
       "      <td>False</td>\n",
       "      <td>False</td>\n",
       "      <td>False</td>\n",
       "    </tr>\n",
       "    <tr>\n",
       "      <th>1</th>\n",
       "      <td>0.283582</td>\n",
       "      <td>0.475188</td>\n",
       "      <td>0.801782</td>\n",
       "      <td>0.333333</td>\n",
       "      <td>0.547842</td>\n",
       "      <td>0.077295</td>\n",
       "      <td>0.223048</td>\n",
       "      <td>0.000000</td>\n",
       "      <td>0.000000</td>\n",
       "      <td>True</td>\n",
       "      <td>False</td>\n",
       "      <td>False</td>\n",
       "      <td>False</td>\n",
       "      <td>False</td>\n",
       "      <td>False</td>\n",
       "    </tr>\n",
       "    <tr>\n",
       "      <th>2</th>\n",
       "      <td>0.243635</td>\n",
       "      <td>0.377444</td>\n",
       "      <td>0.795100</td>\n",
       "      <td>0.339564</td>\n",
       "      <td>0.542214</td>\n",
       "      <td>0.090177</td>\n",
       "      <td>0.279740</td>\n",
       "      <td>0.000000</td>\n",
       "      <td>0.196078</td>\n",
       "      <td>False</td>\n",
       "      <td>False</td>\n",
       "      <td>True</td>\n",
       "      <td>False</td>\n",
       "      <td>False</td>\n",
       "      <td>False</td>\n",
       "    </tr>\n",
       "    <tr>\n",
       "      <th>3</th>\n",
       "      <td>0.308604</td>\n",
       "      <td>0.449624</td>\n",
       "      <td>0.000000</td>\n",
       "      <td>0.084112</td>\n",
       "      <td>0.870544</td>\n",
       "      <td>0.000000</td>\n",
       "      <td>0.516729</td>\n",
       "      <td>0.000000</td>\n",
       "      <td>0.000000</td>\n",
       "      <td>False</td>\n",
       "      <td>True</td>\n",
       "      <td>False</td>\n",
       "      <td>False</td>\n",
       "      <td>False</td>\n",
       "      <td>False</td>\n",
       "    </tr>\n",
       "    <tr>\n",
       "      <th>4</th>\n",
       "      <td>0.287094</td>\n",
       "      <td>0.439098</td>\n",
       "      <td>0.815145</td>\n",
       "      <td>0.255452</td>\n",
       "      <td>0.555347</td>\n",
       "      <td>0.017713</td>\n",
       "      <td>0.294610</td>\n",
       "      <td>0.000000</td>\n",
       "      <td>0.000000</td>\n",
       "      <td>False</td>\n",
       "      <td>False</td>\n",
       "      <td>True</td>\n",
       "      <td>False</td>\n",
       "      <td>False</td>\n",
       "      <td>False</td>\n",
       "    </tr>\n",
       "    <tr>\n",
       "      <th>...</th>\n",
       "      <td>...</td>\n",
       "      <td>...</td>\n",
       "      <td>...</td>\n",
       "      <td>...</td>\n",
       "      <td>...</td>\n",
       "      <td>...</td>\n",
       "      <td>...</td>\n",
       "      <td>...</td>\n",
       "      <td>...</td>\n",
       "      <td>...</td>\n",
       "      <td>...</td>\n",
       "      <td>...</td>\n",
       "      <td>...</td>\n",
       "      <td>...</td>\n",
       "      <td>...</td>\n",
       "    </tr>\n",
       "    <tr>\n",
       "      <th>209</th>\n",
       "      <td>0.291045</td>\n",
       "      <td>0.372932</td>\n",
       "      <td>0.625835</td>\n",
       "      <td>0.311526</td>\n",
       "      <td>0.594747</td>\n",
       "      <td>0.082126</td>\n",
       "      <td>0.333643</td>\n",
       "      <td>0.000000</td>\n",
       "      <td>0.176471</td>\n",
       "      <td>True</td>\n",
       "      <td>False</td>\n",
       "      <td>False</td>\n",
       "      <td>False</td>\n",
       "      <td>False</td>\n",
       "      <td>False</td>\n",
       "    </tr>\n",
       "    <tr>\n",
       "      <th>210</th>\n",
       "      <td>0.28007</td>\n",
       "      <td>0.276692</td>\n",
       "      <td>0.772829</td>\n",
       "      <td>0.339564</td>\n",
       "      <td>0.671670</td>\n",
       "      <td>0.096618</td>\n",
       "      <td>0.289963</td>\n",
       "      <td>0.000000</td>\n",
       "      <td>0.117647</td>\n",
       "      <td>True</td>\n",
       "      <td>False</td>\n",
       "      <td>False</td>\n",
       "      <td>False</td>\n",
       "      <td>False</td>\n",
       "      <td>False</td>\n",
       "    </tr>\n",
       "    <tr>\n",
       "      <th>211</th>\n",
       "      <td>0.882353</td>\n",
       "      <td>0.000000</td>\n",
       "      <td>0.000000</td>\n",
       "      <td>0.563863</td>\n",
       "      <td>0.000000</td>\n",
       "      <td>0.093398</td>\n",
       "      <td>0.731413</td>\n",
       "      <td>1.000000</td>\n",
       "      <td>0.549020</td>\n",
       "      <td>False</td>\n",
       "      <td>True</td>\n",
       "      <td>False</td>\n",
       "      <td>False</td>\n",
       "      <td>False</td>\n",
       "      <td>False</td>\n",
       "    </tr>\n",
       "    <tr>\n",
       "      <th>212</th>\n",
       "      <td>0.265145</td>\n",
       "      <td>0.604511</td>\n",
       "      <td>0.000000</td>\n",
       "      <td>0.532710</td>\n",
       "      <td>0.602251</td>\n",
       "      <td>0.000000</td>\n",
       "      <td>0.288104</td>\n",
       "      <td>0.504762</td>\n",
       "      <td>0.156863</td>\n",
       "      <td>False</td>\n",
       "      <td>False</td>\n",
       "      <td>False</td>\n",
       "      <td>False</td>\n",
       "      <td>False</td>\n",
       "      <td>True</td>\n",
       "    </tr>\n",
       "    <tr>\n",
       "      <th>213</th>\n",
       "      <td>0.441615</td>\n",
       "      <td>0.496241</td>\n",
       "      <td>0.837416</td>\n",
       "      <td>0.090343</td>\n",
       "      <td>0.371482</td>\n",
       "      <td>0.017713</td>\n",
       "      <td>0.392193</td>\n",
       "      <td>0.000000</td>\n",
       "      <td>0.000000</td>\n",
       "      <td>False</td>\n",
       "      <td>False</td>\n",
       "      <td>True</td>\n",
       "      <td>False</td>\n",
       "      <td>False</td>\n",
       "      <td>False</td>\n",
       "    </tr>\n",
       "  </tbody>\n",
       "</table>\n",
       "<p>214 rows × 15 columns</p>\n",
       "</div>"
      ],
      "text/plain": [
       "           C0        C1        C2        C3        C4        C5        C6  \\\n",
       "0    0.226514  0.392481  0.795100  0.398754  0.574109  0.098229  0.228625   \n",
       "1    0.283582  0.475188  0.801782  0.333333  0.547842  0.077295  0.223048   \n",
       "2    0.243635  0.377444  0.795100  0.339564  0.542214  0.090177  0.279740   \n",
       "3    0.308604  0.449624  0.000000  0.084112  0.870544  0.000000  0.516729   \n",
       "4    0.287094  0.439098  0.815145  0.255452  0.555347  0.017713  0.294610   \n",
       "..        ...       ...       ...       ...       ...       ...       ...   \n",
       "209  0.291045  0.372932  0.625835  0.311526  0.594747  0.082126  0.333643   \n",
       "210   0.28007  0.276692  0.772829  0.339564  0.671670  0.096618  0.289963   \n",
       "211  0.882353  0.000000  0.000000  0.563863  0.000000  0.093398  0.731413   \n",
       "212  0.265145  0.604511  0.000000  0.532710  0.602251  0.000000  0.288104   \n",
       "213  0.441615  0.496241  0.837416  0.090343  0.371482  0.017713  0.392193   \n",
       "\n",
       "           C7        C8     C9    C10    C11    C12    C13    C14  \n",
       "0    0.000000  0.000000  False   True  False  False  False  False  \n",
       "1    0.000000  0.000000   True  False  False  False  False  False  \n",
       "2    0.000000  0.196078  False  False   True  False  False  False  \n",
       "3    0.000000  0.000000  False   True  False  False  False  False  \n",
       "4    0.000000  0.000000  False  False   True  False  False  False  \n",
       "..        ...       ...    ...    ...    ...    ...    ...    ...  \n",
       "209  0.000000  0.176471   True  False  False  False  False  False  \n",
       "210  0.000000  0.117647   True  False  False  False  False  False  \n",
       "211  1.000000  0.549020  False   True  False  False  False  False  \n",
       "212  0.504762  0.156863  False  False  False  False  False   True  \n",
       "213  0.000000  0.000000  False  False   True  False  False  False  \n",
       "\n",
       "[214 rows x 15 columns]"
      ]
     },
     "execution_count": 4,
     "metadata": {},
     "output_type": "execute_result"
    }
   ],
   "source": [
    "import pandas as pd\n",
    "df = pd.DataFrame(DT.to_pandas())\n",
    "df"
   ]
  },
  {
   "cell_type": "code",
   "execution_count": 5,
   "id": "c08759f8",
   "metadata": {},
   "outputs": [
    {
     "name": "stdout",
     "output_type": "stream",
     "text": [
      "<class 'pandas.core.frame.DataFrame'>\n",
      "RangeIndex: 214 entries, 0 to 213\n",
      "Data columns (total 15 columns):\n",
      " #   Column  Non-Null Count  Dtype  \n",
      "---  ------  --------------  -----  \n",
      " 0   C0      214 non-null    object \n",
      " 1   C1      214 non-null    float64\n",
      " 2   C2      214 non-null    float64\n",
      " 3   C3      214 non-null    float64\n",
      " 4   C4      214 non-null    float64\n",
      " 5   C5      214 non-null    float64\n",
      " 6   C6      214 non-null    float64\n",
      " 7   C7      214 non-null    float64\n",
      " 8   C8      214 non-null    float64\n",
      " 9   C9      214 non-null    bool   \n",
      " 10  C10     214 non-null    bool   \n",
      " 11  C11     214 non-null    bool   \n",
      " 12  C12     214 non-null    bool   \n",
      " 13  C13     214 non-null    bool   \n",
      " 14  C14     214 non-null    bool   \n",
      "dtypes: bool(6), float64(8), object(1)\n",
      "memory usage: 16.4+ KB\n"
     ]
    }
   ],
   "source": [
    "df.info()"
   ]
  },
  {
   "cell_type": "markdown",
   "id": "b717f88e",
   "metadata": {},
   "source": [
    "Преобразуем все столбцы в тип float."
   ]
  },
  {
   "cell_type": "code",
   "execution_count": 6,
   "id": "9d766794",
   "metadata": {},
   "outputs": [
    {
     "name": "stdout",
     "output_type": "stream",
     "text": [
      "<class 'pandas.core.frame.DataFrame'>\n",
      "RangeIndex: 214 entries, 0 to 213\n",
      "Data columns (total 15 columns):\n",
      " #   Column  Non-Null Count  Dtype  \n",
      "---  ------  --------------  -----  \n",
      " 0   C0      214 non-null    float64\n",
      " 1   C1      214 non-null    float64\n",
      " 2   C2      214 non-null    float64\n",
      " 3   C3      214 non-null    float64\n",
      " 4   C4      214 non-null    float64\n",
      " 5   C5      214 non-null    float64\n",
      " 6   C6      214 non-null    float64\n",
      " 7   C7      214 non-null    float64\n",
      " 8   C8      214 non-null    float64\n",
      " 9   C9      214 non-null    float64\n",
      " 10  C10     214 non-null    float64\n",
      " 11  C11     214 non-null    float64\n",
      " 12  C12     214 non-null    float64\n",
      " 13  C13     214 non-null    float64\n",
      " 14  C14     214 non-null    float64\n",
      "dtypes: float64(15)\n",
      "memory usage: 25.2 KB\n"
     ]
    }
   ],
   "source": [
    "df = df.astype('float')\n",
    "df.info()"
   ]
  },
  {
   "cell_type": "markdown",
   "id": "97611007",
   "metadata": {},
   "source": [
    "Разделим данные на признаки и метки."
   ]
  },
  {
   "cell_type": "code",
   "execution_count": 7,
   "id": "2f8995b2",
   "metadata": {},
   "outputs": [],
   "source": [
    "# X = df\n",
    "X, y = df.iloc[:,0:9].to_numpy(), df.iloc[:,9:].to_numpy()"
   ]
  },
  {
   "cell_type": "markdown",
   "id": "039a9831",
   "metadata": {},
   "source": [
    "Стандартизация признаков."
   ]
  },
  {
   "cell_type": "code",
   "execution_count": 8,
   "id": "8422d757",
   "metadata": {},
   "outputs": [],
   "source": [
    "# from sklearn.preprocessing import StandardScaler\n",
    "\n",
    "# scaler = StandardScaler()\n",
    "# scaler.fit(X)\n",
    "# X = scaler.transform(X)"
   ]
  },
  {
   "cell_type": "markdown",
   "id": "21b5b239",
   "metadata": {},
   "source": [
    "Разбивка датасета на тренировочную и тестовую выборки."
   ]
  },
  {
   "cell_type": "code",
   "execution_count": 9,
   "id": "435b298a",
   "metadata": {},
   "outputs": [],
   "source": [
    "X_train, X_test, y_train, y_test = train_test_split(X,y,train_size=0.8)"
   ]
  },
  {
   "cell_type": "code",
   "execution_count": 10,
   "id": "e88f89d6",
   "metadata": {},
   "outputs": [],
   "source": [
    "def get_coordinates(i, j):\n",
    "    return i, j"
   ]
  },
  {
   "cell_type": "markdown",
   "id": "9f2af1b4",
   "metadata": {},
   "source": [
    "## Модель для карт Кохонена"
   ]
  },
  {
   "cell_type": "code",
   "execution_count": 11,
   "id": "9e30c8f6",
   "metadata": {},
   "outputs": [],
   "source": [
    "class KohonenMaps:\n",
    "    def __init__(self, maps_shape: tuple, learning_time=1000, radius_0=None):\n",
    "        self.map = np.random.rand(*maps_shape)\n",
    "        self.learning_time = learning_time\n",
    "        if radius_0 is None:\n",
    "            self.radius = min(maps_shape) // 2\n",
    "        else:\n",
    "            self.radius = radius_0\n",
    "#         self.speed_parameter_1 = self.learning_time / self.radius\n",
    "        self.speed_parameter_1 = self.get_speed_parameter()\n",
    "    \n",
    "    def save_weights(self, save_path):\n",
    "        \"\"\"Сохраняет веса модели\"\"\"\n",
    "        with open(save_path, 'wb') as f:\n",
    "            np.save(f, np.array(self.map))\n",
    "            \n",
    "    def load_weights(self, load_path):\n",
    "        \"\"\"Загружает веса модели\"\"\"\n",
    "        with open(load_path, 'rb') as f:\n",
    "            self.map = np.load(f)\n",
    "        \n",
    "    def activation_function(self, input_vector):\n",
    "        map_result = np.apply_along_axis(np.linalg.norm, 2, self.map - input_vector)\n",
    "        activation_result = np.exp(-map_result)\n",
    "        return activation_result\n",
    "    \n",
    "    def get_winner_neuron(self, input_vector):\n",
    "        activation_result = self.activation_function(input_vector)\n",
    "        \n",
    "        winer_x, winer_y = np.where(activation_result==activation_result.max())\n",
    "        \n",
    "        return np.array([int(winer_x), int(winer_y)])  \n",
    "            \n",
    "    # Можно посчитать при инициализации\n",
    "    def get_speed_parameter(self):\n",
    "        return self.learning_time / self.radius\n",
    "        \n",
    "    def get_effective_width(self, current_time=1):\n",
    "        \"\"\"\n",
    "        Рассчитывает эффективную ширину,\n",
    "        определяющую размер окрестности вокруг нейрона победителя,\n",
    "        в которой производится коррекция весов\n",
    "        \"\"\"\n",
    "        effective_radius = self.radius * np.exp(-current_time/self.speed_parameter_1)\n",
    "        return effective_radius\n",
    "    \n",
    "    def get_neuron_distance(self, neuron_coord, winer_neuron_coord):\n",
    "        \"\"\"Рассчитывает расстояние между нейронами\"\"\"\n",
    "        neuron_distance = np.linalg.norm(neuron_coord - winer_neuron_coord)\n",
    "        return neuron_distance\n",
    "    \n",
    "    def h_distance_func(self, neuron_coord, winer_neuron_coord, current_time):\n",
    "        \"\"\"Функция затухиня от расстояния от j-го нейрона до победителя\"\"\"\n",
    "        effective_width = self.get_effective_width(current_time)\n",
    "        neuron_distance = self.get_neuron_distance(neuron_coord, winer_neuron_coord)\n",
    "        return np.exp(-neuron_distance**2/2/effective_width**2)"
   ]
  },
  {
   "cell_type": "markdown",
   "id": "27cb8a30",
   "metadata": {},
   "source": [
    "## Ошибка представления карты Кохонена"
   ]
  },
  {
   "cell_type": "code",
   "execution_count": 12,
   "id": "35ad8972",
   "metadata": {},
   "outputs": [],
   "source": [
    "def get_single_input_error(kohonen_map_model, input_vector):\n",
    "    winer_neuron = kohonen_map_model.get_winner_neuron(input_vector)\n",
    "\n",
    "    winer_neuron_i, winer_neuron_j = get_coordinates(*winer_neuron)\n",
    "\n",
    "    single_input_error = np.linalg.norm(\n",
    "                                        kohonen_map_model.map[winer_neuron_i,\n",
    "                                                                    winer_neuron_j]\n",
    "                                        - input_vector\n",
    "                                        )\n",
    "    \n",
    "    return single_input_error\n",
    "\n",
    "\n",
    "def get_kohonen_map_error(kohonen_map_model, data):\n",
    "    error = 0\n",
    "    for input_vector in data:\n",
    "        error += get_single_input_error(kohonen_map_model, input_vector)\n",
    "        \n",
    "    return error\n",
    "\n",
    "\n",
    "# get_single_input_error(kohonen_maps_consistent, input_a)\n",
    "\n",
    "# get_kohonen_map_error(kohonen_maps_consistent, X_test)"
   ]
  },
  {
   "cell_type": "markdown",
   "id": "4fa4542f",
   "metadata": {},
   "source": [
    "## Некоторые вспомогательные функции"
   ]
  },
  {
   "cell_type": "code",
   "execution_count": 13,
   "id": "71cf825c",
   "metadata": {},
   "outputs": [],
   "source": [
    "def create_history_map(map_i, map_j):\n",
    "    \"\"\"Создаёт пустой массив формы карты\"\"\"\n",
    "    row = [[] for item in range(map_j)]\n",
    "    history_map = [deepcopy(row) for columnt in range(map_i)]\n",
    "    return history_map\n",
    "\n",
    "def get_win_map(kohonen_map_model, data):\n",
    "    \"\"\"История выигрышей\"\"\"\n",
    "    win_history_map = create_history_map(kohonen_map_model.map.shape[0], \n",
    "                           kohonen_map_model.map.shape[1])\n",
    "    for input_vector in data:\n",
    "        winer_neuron_coord = kohonen_map_model.get_winner_neuron(input_vector)\n",
    "        win_history_map[winer_neuron_coord[0]][winer_neuron_coord[1]].append(input_vector)\n",
    "        \n",
    "    return win_history_map\n",
    "\n",
    "def get_score_board(win_history_map):\n",
    "    \"\"\"Создаёт карту выигрышей (количество побед у каждого нейрона)\"\"\"\n",
    "    score_board_shape = len(win_history_map[0]), len(win_history_map[1])\n",
    "    score_board = np.zeros(score_board_shape, dtype=np.int64)\n",
    "    for i, row in enumerate(win_history_map):\n",
    "        for j, item in enumerate(row):\n",
    "            score_board[i, j] = len(item)\n",
    "    return score_board\n",
    "\n",
    "def mark_dead_neurons(score_board, kohonen_map_model, treshold=2, mark_as=np.inf):\n",
    "    for i_score, score_row in enumerate(score_board):\n",
    "        for j_score, score_item in enumerate(score_row):\n",
    "            if score_item <= treshold:\n",
    "                kohonen_map_model.map[i_score][j_score] = mark_as "
   ]
  },
  {
   "cell_type": "markdown",
   "id": "cf5f8d61",
   "metadata": {},
   "source": [
    "## Класс для последовательного обучения"
   ]
  },
  {
   "cell_type": "code",
   "execution_count": 14,
   "id": "18a93f9a",
   "metadata": {},
   "outputs": [],
   "source": [
    "class KohonenMapsConsistentAlg(KohonenMaps):\n",
    "    def __init__(self, maps_shape, \n",
    "                 radius_0=None, \n",
    "                 learning_time=1000, \n",
    "                 speed_parameter_2=1000):\n",
    "        super().__init__(maps_shape, learning_time, radius_0)\n",
    "        self.speed_parameter_2 = speed_parameter_2\n",
    "    \n",
    "    def get_learning_rate(self, current_time, learning_rate_start=0.1):\n",
    "        \"\"\"Рассчитывает скорость обучения для t-го времени обучения\"\"\"\n",
    "        learning_rate = learning_rate_start * np.exp(-current_time/self.speed_parameter_2)\n",
    "        return learning_rate\n",
    "        \n",
    "    def update_neuron_weight(self, input_vector, neuron_coord, winer_neuron_coord, current_time):\n",
    "        \"\"\"Обновляет веса отдельного нейрона\"\"\"\n",
    "        i_neuron, j_neuron = get_coordinates(*neuron_coord)\n",
    "        i_winer_neuron, j_winer_neuron = get_coordinates(*winer_neuron_coord)\n",
    "        \n",
    "        learning_rate = self.get_learning_rate(current_time)\n",
    "        h_distance = self.h_distance_func(neuron_coord, winer_neuron_coord, current_time)\n",
    "        \n",
    "        residual = (input_vector - self.map[i_winer_neuron, j_winer_neuron])\n",
    "        \n",
    "        self.map[i_neuron, j_neuron] = self.map[i_neuron, j_neuron] + learning_rate * h_distance * residual\n",
    "            \n",
    "    def update_all_weights(self, input_vector, winer_neuron_coord, current_time):\n",
    "        \"\"\"Обновляет веса всех нейронов\"\"\"\n",
    "        for i, row in enumerate(self.map):\n",
    "            for j, neuron in enumerate(row):\n",
    "                neuron_coord = [i, j]\n",
    "                self.update_neuron_weight(input_vector, neuron_coord, winer_neuron_coord, current_time)"
   ]
  },
  {
   "cell_type": "code",
   "execution_count": null,
   "id": "bd76771c",
   "metadata": {},
   "outputs": [],
   "source": []
  },
  {
   "cell_type": "code",
   "execution_count": 15,
   "id": "06a0f883",
   "metadata": {},
   "outputs": [],
   "source": [
    "def create_history_map(map_i, map_j):\n",
    "    row = [[] for item in range(map_j)]\n",
    "    history_map = [deepcopy(row) for columnt in range(map_i)]\n",
    "    return history_map\n",
    "\n",
    "def get_win_map(kohonen_map_model, data):\n",
    "    win_history_map = create_history_map(kohonen_map_model.map.shape[0], \n",
    "                           kohonen_map_model.map.shape[1])\n",
    "    for input_vector in data:\n",
    "        winer_neuron_coord = kohonen_map_model.get_winner_neuron(input_vector)\n",
    "        win_history_map[winer_neuron_coord[0]][winer_neuron_coord[1]].append(input_vector)\n",
    "        \n",
    "    return win_history_map\n",
    "\n",
    "def get_score_board(win_history_map):\n",
    "    score_board_shape = len(win_history_map[0]), len(win_history_map[1])\n",
    "    score_board = np.zeros(score_board_shape, dtype=np.int64)\n",
    "    for i, row in enumerate(win_history_map):\n",
    "        for j, item in enumerate(row):\n",
    "            score_board[i, j] = len(item)\n",
    "    return score_board"
   ]
  },
  {
   "cell_type": "markdown",
   "id": "fd5f5c80",
   "metadata": {},
   "source": [
    "## Алгоритм последовательного обучения"
   ]
  },
  {
   "cell_type": "code",
   "execution_count": 16,
   "id": "fdf26ea7",
   "metadata": {},
   "outputs": [],
   "source": [
    "def train(kohonen_map_model, train_data, test_data=None, \n",
    "          learning_time=1000, converge_interval=10):\n",
    "    test_history = []\n",
    "    for epoch in tqdm(range(learning_time)):\n",
    "        for input_vector in train_data:\n",
    "            winer_neuron_coord = kohonen_map_model.get_winner_neuron(input_vector)\n",
    "            kohonen_map_model.update_all_weights(input_vector, winer_neuron_coord, epoch)\n",
    "        \n",
    "        if test_data is not None:\n",
    "            epoch_error = get_kohonen_map_error(kohonen_map_model, test_data)\n",
    "            test_history.append(epoch_error)\n",
    "            \n",
    "        if epoch >= converge_interval:\n",
    "            if np.isclose(test_history[epoch-converge_interval:], \n",
    "                          test_history[-1]).all():\n",
    "                break\n",
    "    \n",
    "    return test_history"
   ]
  },
  {
   "cell_type": "code",
   "execution_count": 17,
   "id": "da4f4131",
   "metadata": {},
   "outputs": [
    {
     "name": "stderr",
     "output_type": "stream",
     "text": [
      "100%|██████████████████████████████████████████████████████████████████████████████| 1000/1000 [26:16<00:00,  1.58s/it]\n"
     ]
    }
   ],
   "source": [
    "# kohonen_maps_consistent = KohonenMapsConsistentAlg((4,4,9))\n",
    "# kohonen_maps_consistent = KohonenMapsConsistentAlg((6,6,9))\n",
    "kohonen_maps_consistent = KohonenMapsConsistentAlg((8, 8, 9))\n",
    "# kohonen_maps_consistent = KohonenMapsConsistentAlg((9, 9, 9))\n",
    "# kohonen_maps_consistent = KohonenMapsConsistentAlg((20,20,9))\n",
    "            \n",
    "valid_history = train(kohonen_maps_consistent, \n",
    "                      X_train,\n",
    "                      X_test,\n",
    "                      learning_time=1000,\n",
    "                      converge_interval=20)"
   ]
  },
  {
   "cell_type": "code",
   "execution_count": 18,
   "id": "2a1048d9",
   "metadata": {},
   "outputs": [
    {
     "data": {
      "text/plain": [
       "[<matplotlib.lines.Line2D at 0x2aaa47faa00>]"
      ]
     },
     "execution_count": 18,
     "metadata": {},
     "output_type": "execute_result"
    },
    {
     "data": {
      "image/png": "[encoded data removed]",
      "text/plain": [
       "<Figure size 432x288 with 1 Axes>"
      ]
     },
     "metadata": {
      "needs_background": "light"
     },
     "output_type": "display_data"
    }
   ],
   "source": [
    "plt.plot(valid_history)"
   ]
  },
  {
   "cell_type": "code",
   "execution_count": 19,
   "id": "49c0251f",
   "metadata": {},
   "outputs": [
    {
     "data": {
      "text/plain": [
       "<matplotlib.image.AxesImage at 0x2aaa48b1ee0>"
      ]
     },
     "execution_count": 19,
     "metadata": {},
     "output_type": "execute_result"
    },
    {
     "data": {
      "image/png": "[encoded data removed]",
      "text/plain": [
       "<Figure size 432x288 with 1 Axes>"
      ]
     },
     "metadata": {
      "needs_background": "light"
     },
     "output_type": "display_data"
    }
   ],
   "source": [
    "map_deisity_consistent_alg = np.apply_along_axis(np.sum, 2, kohonen_maps_consistent.map)\n",
    "\n",
    "plt.imshow(map_deisity_consistent_alg, cmap='gray')"
   ]
  },
  {
   "cell_type": "markdown",
   "id": "dd01c17d",
   "metadata": {},
   "source": [
    "## Класс для пакетного обучения"
   ]
  },
  {
   "cell_type": "code",
   "execution_count": 20,
   "id": "7d0d6392",
   "metadata": {},
   "outputs": [],
   "source": [
    "class KohonenMapsPackageAlg(KohonenMaps):\n",
    "    def __init__(self,maps_shape, \n",
    "                 radius_0=None, \n",
    "                 learning_time=1000):\n",
    "        super().__init__(maps_shape, learning_time, radius_0)\n",
    "    \n",
    "    def get_neighbour_neurons_area(self, neuron_coords, current_time):\n",
    "        effective_width = self.get_effective_width(current_time)\n",
    "        i_neur, j_neur = get_coordinates(*neuron_coords)\n",
    "        i_area_start, i_area_end = int(i_neur - effective_width), int(i_neur + effective_width)\n",
    "#         map_max_i_index = self.map.shape[0] - 1\n",
    "        map_max_i_index = self.map.shape[0]\n",
    "        i_area_start, i_area_end = np.clip(i_area_start, 0, map_max_i_index), np.clip(i_area_end, 0, map_max_i_index)\n",
    "        \n",
    "        j_area_start, j_area_end = int(j_neur - effective_width), int(j_neur + effective_width)\n",
    "#         map_max_j_index = self.map.shape[1] - 1\n",
    "        map_max_j_index = self.map.shape[1]\n",
    "        j_area_start, j_area_end = np.clip(j_area_start, 0, map_max_j_index), np.clip(j_area_end, 0, map_max_j_index)\n",
    "        \n",
    "        return range(i_area_start, i_area_end), range(j_area_start, j_area_end)\n",
    "        \n",
    "    def update_all_weights(self, history_map, current_time):\n",
    "        \"\"\"Обновляет веса всех нейронов\"\"\"\n",
    "        for i, row in enumerate(self.map):\n",
    "            for j, neuron in enumerate(row):\n",
    "                neuron_coords = np.array([i, j])\n",
    "                i_area_indices, j_area_indices = self.get_neighbour_neurons_area(neuron_coords, current_time)\n",
    "#                 h_distance_wins = 0\n",
    "                h_distance_wins = 0.001\n",
    "                for i_area_index in i_area_indices:\n",
    "                    for j_area_index in j_area_indices:\n",
    "                        area_neuron_cords = np.array([i_area_index, j_area_index])\n",
    "                        h_distance = self.h_distance_func(area_neuron_cords, neuron_coords, current_time)\n",
    "                        neuron_wins = len(history_map[i_area_index][j_area_index])\n",
    "                        h_distance_wins += neuron_wins * h_distance\n",
    "                \n",
    "                mean_input_vector = np.mean(history_map[i][j], axis=0)\n",
    "                if np.isnan(mean_input_vector).any():\n",
    "                    mean_input_vector = 0\n",
    "                \n",
    "                self.map[i][j] = h_distance_wins * mean_input_vector / h_distance_wins                                    "
   ]
  },
  {
   "cell_type": "code",
   "execution_count": 21,
   "id": "dc358fb0",
   "metadata": {},
   "outputs": [
    {
     "name": "stderr",
     "output_type": "stream",
     "text": [
      "  0%|                                                                                         | 0/1000 [00:00<?, ?it/s]C:\\Users\\markh\\anaconda3\\lib\\site-packages\\numpy\\core\\fromnumeric.py:3419: RuntimeWarning: Mean of empty slice.\n",
      "  return _methods._mean(a, axis=axis, dtype=dtype,\n",
      "C:\\Users\\markh\\anaconda3\\lib\\site-packages\\numpy\\core\\_methods.py:188: RuntimeWarning: invalid value encountered in double_scalars\n",
      "  ret = ret.dtype.type(ret / rcount)\n",
      "  3%|██▏                                                                             | 27/1000 [00:16<10:04,  1.61it/s]\n"
     ]
    }
   ],
   "source": [
    "def train_package(kohonen_map_model, train_data, test_data=None, \n",
    "                  learning_time=1000, converge_interval=10):\n",
    "    test_history = []\n",
    "    for epoch in tqdm(range(learning_time)):\n",
    "        win_history_map = get_win_map(kohonen_map_model, train_data)\n",
    "        \n",
    "        kohonen_map_model.update_all_weights(win_history_map, epoch)\n",
    "        \n",
    "        if test_data is not None:\n",
    "            \n",
    "            epoch_error = get_kohonen_map_error(kohonen_map_model, test_data)\n",
    "            test_history.append(epoch_error)\n",
    "            \n",
    "        if epoch >= converge_interval:\n",
    "            if np.isclose(test_history[epoch-converge_interval:], \n",
    "                          test_history[-1]).all():\n",
    "                break\n",
    "    \n",
    "    return test_history\n",
    "\n",
    "\n",
    "# kohonen_map_package_alg = KohonenMapsPackageAlg((2, 2, 9))\n",
    "# kohonen_map_package_alg = KohonenMapsPackageAlg((4, 4, 9))\n",
    "# kohonen_map_package_alg = KohonenMapsPackageAlg((6, 6, 9))\n",
    "kohonen_map_package_alg = KohonenMapsPackageAlg((8, 8, 9))\n",
    "valid_history = train_package(kohonen_map_package_alg, \n",
    "                                X_train,\n",
    "                                X_test,\n",
    "                              learning_time=1000,\n",
    "                              converge_interval=20)"
   ]
  },
  {
   "cell_type": "code",
   "execution_count": 22,
   "id": "f3afed50",
   "metadata": {},
   "outputs": [
    {
     "data": {
      "text/plain": [
       "[<matplotlib.lines.Line2D at 0x2aaa4987160>]"
      ]
     },
     "execution_count": 22,
     "metadata": {},
     "output_type": "execute_result"
    },
    {
     "data": {
      "image/png": "[encoded data removed]",
      "text/plain": [
       "<Figure size 432x288 with 1 Axes>"
      ]
     },
     "metadata": {
      "needs_background": "light"
     },
     "output_type": "display_data"
    }
   ],
   "source": [
    "plt.plot(valid_history)"
   ]
  },
  {
   "cell_type": "code",
   "execution_count": 23,
   "id": "9eb072c6",
   "metadata": {},
   "outputs": [
    {
     "data": {
      "text/plain": [
       "<matplotlib.image.AxesImage at 0x2aaa49d28e0>"
      ]
     },
     "execution_count": 23,
     "metadata": {},
     "output_type": "execute_result"
    },
    {
     "data": {
      "image/png": "[encoded data removed]",
      "text/plain": [
       "<Figure size 432x288 with 1 Axes>"
      ]
     },
     "metadata": {
      "needs_background": "light"
     },
     "output_type": "display_data"
    }
   ],
   "source": [
    "map_deisity_package_alg = np.apply_along_axis(np.sum, 2, kohonen_map_package_alg.map)\n",
    "\n",
    "plt.imshow(map_deisity_package_alg, cmap='gray')"
   ]
  },
  {
   "cell_type": "code",
   "execution_count": 24,
   "id": "56fb8e10",
   "metadata": {},
   "outputs": [
    {
     "data": {
      "text/plain": [
       "array([[ 0,  0,  0,  0,  1,  0,  0,  0],\n",
       "       [ 2,  0,  0,  1,  0,  0,  2,  0],\n",
       "       [ 0,  0,  0, 11,  0,  0,  4,  4],\n",
       "       [ 0,  1,  1,  0,  0,  0,  0,  0],\n",
       "       [ 0,  0,  0,  0,  4,  0,  0,  0],\n",
       "       [ 0,  4,  1,  0,  0,  0,  0,  0],\n",
       "       [ 0,  0,  0,  0,  0,  0,  0,  0],\n",
       "       [ 0,  0,  0,  2,  5,  0,  0,  0]], dtype=int64)"
      ]
     },
     "execution_count": 24,
     "metadata": {},
     "output_type": "execute_result"
    }
   ],
   "source": [
    "test_win_map = get_win_map(kohonen_map_package_alg, X_test)\n",
    "get_score_board(test_win_map)"
   ]
  },
  {
   "cell_type": "code",
   "execution_count": 25,
   "id": "070b36f6",
   "metadata": {},
   "outputs": [
    {
     "data": {
      "text/plain": [
       "array([[ 0,  0,  0,  0,  2,  0,  0,  2],\n",
       "       [14,  0,  0,  6,  0,  0,  5,  0],\n",
       "       [ 0,  0,  0, 55,  0,  0,  4,  8],\n",
       "       [ 0,  2,  2,  0,  2,  4,  0,  0],\n",
       "       [ 0,  0,  0,  0, 17,  0,  0,  0],\n",
       "       [ 0,  8, 15,  0,  0,  0,  0,  0],\n",
       "       [ 0,  0,  1,  0,  0,  0,  0,  0],\n",
       "       [ 0,  0,  0,  7, 17,  0,  0,  0]], dtype=int64)"
      ]
     },
     "execution_count": 25,
     "metadata": {},
     "output_type": "execute_result"
    }
   ],
   "source": [
    "test_win_map = get_win_map(kohonen_map_package_alg, X_train)\n",
    "score_board = get_score_board(test_win_map)\n",
    "score_board"
   ]
  },
  {
   "cell_type": "markdown",
   "id": "997dd17f",
   "metadata": {},
   "source": [
    "## Исследование сходимости алгоритмов"
   ]
  },
  {
   "cell_type": "code",
   "execution_count": 26,
   "id": "3fb15e3d",
   "metadata": {},
   "outputs": [],
   "source": [
    "LAUNCHES = 10"
   ]
  },
  {
   "cell_type": "markdown",
   "id": "69eb3fba",
   "metadata": {},
   "source": [
    "### Сходимость последовательного алгоритма"
   ]
  },
  {
   "cell_type": "markdown",
   "id": "aedae062",
   "metadata": {},
   "source": [
    "Для анализа сходимости используем обучение карт Кохонена по последовательному алгоритму используем следущие модели:"
   ]
  },
  {
   "cell_type": "code",
   "execution_count": 29,
   "id": "ab6551f3",
   "metadata": {},
   "outputs": [],
   "source": [
    "consistent_maps = {\n",
    "    'consistent_map_2x2':(2,2,9),\n",
    "    'consistent_map_4x4':(4,4,9),\n",
    "    'consistent_map_6x6':(6,6,9),\n",
    "    'consistent_map_8x8':(8,8,9)\n",
    "}\n",
    "\n",
    "best_convergence_history_consistent = {}"
   ]
  },
  {
   "cell_type": "code",
   "execution_count": 30,
   "id": "b54499b8",
   "metadata": {},
   "outputs": [
    {
     "name": "stderr",
     "output_type": "stream",
     "text": [
      "  0%|                                                                                 | 1/1000 [00:00<02:19,  7.14it/s]"
     ]
    },
    {
     "name": "stdout",
     "output_type": "stream",
     "text": [
      "consistent_map_2x2\n"
     ]
    },
    {
     "name": "stderr",
     "output_type": "stream",
     "text": [
      "100%|██████████████████████████████████████████████████████████████████████████████| 1000/1000 [02:18<00:00,  7.21it/s]\n",
      "100%|██████████████████████████████████████████████████████████████████████████████| 1000/1000 [01:48<00:00,  9.18it/s]\n",
      "100%|██████████████████████████████████████████████████████████████████████████████| 1000/1000 [01:33<00:00, 10.73it/s]\n",
      "100%|██████████████████████████████████████████████████████████████████████████████| 1000/1000 [01:32<00:00, 10.79it/s]\n",
      "100%|██████████████████████████████████████████████████████████████████████████████| 1000/1000 [01:35<00:00, 10.50it/s]\n",
      "100%|██████████████████████████████████████████████████████████████████████████████| 1000/1000 [01:32<00:00, 10.87it/s]\n",
      "100%|██████████████████████████████████████████████████████████████████████████████| 1000/1000 [01:32<00:00, 10.82it/s]\n",
      "100%|██████████████████████████████████████████████████████████████████████████████| 1000/1000 [01:31<00:00, 10.92it/s]\n",
      "100%|██████████████████████████████████████████████████████████████████████████████| 1000/1000 [01:31<00:00, 10.95it/s]\n",
      "100%|██████████████████████████████████████████████████████████████████████████████| 1000/1000 [01:32<00:00, 10.86it/s]\n",
      "  0%|                                                                                         | 0/1000 [00:00<?, ?it/s]"
     ]
    },
    {
     "name": "stdout",
     "output_type": "stream",
     "text": [
      "consistent_map_4x4\n"
     ]
    },
    {
     "name": "stderr",
     "output_type": "stream",
     "text": [
      "100%|██████████████████████████████████████████████████████████████████████████████| 1000/1000 [04:22<00:00,  3.82it/s]\n",
      "100%|██████████████████████████████████████████████████████████████████████████████| 1000/1000 [04:29<00:00,  3.72it/s]\n",
      "100%|██████████████████████████████████████████████████████████████████████████████| 1000/1000 [06:20<00:00,  2.63it/s]\n",
      "100%|██████████████████████████████████████████████████████████████████████████████| 1000/1000 [04:57<00:00,  3.36it/s]\n",
      "100%|██████████████████████████████████████████████████████████████████████████████| 1000/1000 [04:43<00:00,  3.53it/s]\n",
      "100%|██████████████████████████████████████████████████████████████████████████████| 1000/1000 [04:55<00:00,  3.38it/s]\n",
      " 28%|██████████████████████▏                                                        | 281/1000 [01:22<03:30,  3.42it/s]\n",
      "100%|██████████████████████████████████████████████████████████████████████████████| 1000/1000 [05:34<00:00,  2.99it/s]\n",
      " 87%|████████████████████████████████████████████████████████████████████▉          | 873/1000 [04:09<00:36,  3.50it/s]\n",
      "100%|██████████████████████████████████████████████████████████████████████████████| 1000/1000 [04:46<00:00,  3.49it/s]\n",
      "  0%|                                                                                         | 0/1000 [00:00<?, ?it/s]"
     ]
    },
    {
     "name": "stdout",
     "output_type": "stream",
     "text": [
      "consistent_map_6x6\n"
     ]
    },
    {
     "name": "stderr",
     "output_type": "stream",
     "text": [
      "100%|██████████████████████████████████████████████████████████████████████████████| 1000/1000 [09:18<00:00,  1.79it/s]\n",
      "100%|██████████████████████████████████████████████████████████████████████████████| 1000/1000 [09:01<00:00,  1.85it/s]\n",
      "100%|██████████████████████████████████████████████████████████████████████████████| 1000/1000 [08:51<00:00,  1.88it/s]\n",
      "100%|██████████████████████████████████████████████████████████████████████████████| 1000/1000 [09:02<00:00,  1.84it/s]\n",
      "100%|██████████████████████████████████████████████████████████████████████████████| 1000/1000 [09:05<00:00,  1.83it/s]\n",
      " 32%|█████████████████████████▍                                                     | 322/1000 [02:47<05:53,  1.92it/s]\n",
      " 46%|████████████████████████████████████▍                                          | 462/1000 [04:13<04:55,  1.82it/s]\n",
      "100%|██████████████████████████████████████████████████████████████████████████████| 1000/1000 [08:49<00:00,  1.89it/s]\n",
      "100%|██████████████████████████████████████████████████████████████████████████████| 1000/1000 [08:28<00:00,  1.97it/s]\n",
      "100%|██████████████████████████████████████████████████████████████████████████████| 1000/1000 [09:04<00:00,  1.84it/s]\n",
      "  0%|                                                                                         | 0/1000 [00:00<?, ?it/s]"
     ]
    },
    {
     "name": "stdout",
     "output_type": "stream",
     "text": [
      "consistent_map_8x8\n"
     ]
    },
    {
     "name": "stderr",
     "output_type": "stream",
     "text": [
      "100%|██████████████████████████████████████████████████████████████████████████████| 1000/1000 [14:46<00:00,  1.13it/s]\n",
      "100%|██████████████████████████████████████████████████████████████████████████████| 1000/1000 [16:07<00:00,  1.03it/s]\n",
      "100%|██████████████████████████████████████████████████████████████████████████████| 1000/1000 [17:47<00:00,  1.07s/it]\n",
      "100%|██████████████████████████████████████████████████████████████████████████████| 1000/1000 [17:12<00:00,  1.03s/it]\n",
      "100%|██████████████████████████████████████████████████████████████████████████████| 1000/1000 [20:39<00:00,  1.24s/it]\n",
      "100%|██████████████████████████████████████████████████████████████████████████████| 1000/1000 [21:37<00:00,  1.30s/it]\n",
      " 95%|██████████████████████████████████████████████████████████████████████████▉    | 948/1000 [19:30<01:04,  1.23s/it]\n",
      "100%|██████████████████████████████████████████████████████████████████████████████| 1000/1000 [18:04<00:00,  1.08s/it]\n",
      "100%|██████████████████████████████████████████████████████████████████████████████| 1000/1000 [16:11<00:00,  1.03it/s]\n",
      "100%|██████████████████████████████████████████████████████████████████████████████| 1000/1000 [18:15<00:00,  1.10s/it]\n"
     ]
    }
   ],
   "source": [
    "consistent_convergence_epochs = {\n",
    "    'consistent_map_2x2': [], \n",
    "    'consistent_map_4x4': [],\n",
    "    'consistent_map_6x6': [], \n",
    "    'consistent_map_8x8': []\n",
    "}\n",
    "\n",
    "\n",
    "model_dir = 'models'\n",
    "\n",
    "least_error = np.inf\n",
    "\n",
    "for map_name, map_shape in consistent_maps.items():\n",
    "    print(map_name)\n",
    "    for launch in range(LAUNCHES):\n",
    "        kohonen_map_model = KohonenMapsConsistentAlg(map_shape)\n",
    "        train_history = train(kohonen_map_model, X_train, X_test, \n",
    "              learning_time=1000, converge_interval=20)\n",
    "        consistent_convergence_epochs[map_name].append(len(train_history))\n",
    "        test_error = get_kohonen_map_error(kohonen_map_model, X_test)\n",
    "        \n",
    "        if test_error < least_error:\n",
    "            least_error = test_error\n",
    "            # Сохраняем историю сходимости лучшего результата обучения\n",
    "            best_convergence_history_consistent[map_name] = train_history\n",
    "            # Сохраняем лучший результат на диск\n",
    "            current_model_save_path = f'{model_dir}/{map_name}.npy'\n",
    "            kohonen_map_model.save_weights(current_model_save_path)"
   ]
  },
  {
   "cell_type": "code",
   "execution_count": 31,
   "id": "4e991881",
   "metadata": {},
   "outputs": [
    {
     "data": {
      "text/html": [
       "<div>\n",
       "<style scoped>\n",
       "    .dataframe tbody tr th:only-of-type {\n",
       "        vertical-align: middle;\n",
       "    }\n",
       "\n",
       "    .dataframe tbody tr th {\n",
       "        vertical-align: top;\n",
       "    }\n",
       "\n",
       "    .dataframe thead th {\n",
       "        text-align: right;\n",
       "    }\n",
       "</style>\n",
       "<table border=\"1\" class=\"dataframe\">\n",
       "  <thead>\n",
       "    <tr style=\"text-align: right;\">\n",
       "      <th></th>\n",
       "      <th>consistent_map_2x2</th>\n",
       "      <th>consistent_map_4x4</th>\n",
       "      <th>consistent_map_6x6</th>\n",
       "      <th>consistent_map_8x8</th>\n",
       "    </tr>\n",
       "  </thead>\n",
       "  <tbody>\n",
       "    <tr>\n",
       "      <th>count</th>\n",
       "      <td>10.0</td>\n",
       "      <td>10.000000</td>\n",
       "      <td>10.000000</td>\n",
       "      <td>10.000000</td>\n",
       "    </tr>\n",
       "    <tr>\n",
       "      <th>mean</th>\n",
       "      <td>1000.0</td>\n",
       "      <td>915.600000</td>\n",
       "      <td>878.600000</td>\n",
       "      <td>994.900000</td>\n",
       "    </tr>\n",
       "    <tr>\n",
       "      <th>std</th>\n",
       "      <td>0.0</td>\n",
       "      <td>226.118553</td>\n",
       "      <td>258.052191</td>\n",
       "      <td>16.127616</td>\n",
       "    </tr>\n",
       "    <tr>\n",
       "      <th>min</th>\n",
       "      <td>1000.0</td>\n",
       "      <td>282.000000</td>\n",
       "      <td>323.000000</td>\n",
       "      <td>949.000000</td>\n",
       "    </tr>\n",
       "    <tr>\n",
       "      <th>25%</th>\n",
       "      <td>1000.0</td>\n",
       "      <td>1000.000000</td>\n",
       "      <td>1000.000000</td>\n",
       "      <td>1000.000000</td>\n",
       "    </tr>\n",
       "    <tr>\n",
       "      <th>50%</th>\n",
       "      <td>1000.0</td>\n",
       "      <td>1000.000000</td>\n",
       "      <td>1000.000000</td>\n",
       "      <td>1000.000000</td>\n",
       "    </tr>\n",
       "    <tr>\n",
       "      <th>75%</th>\n",
       "      <td>1000.0</td>\n",
       "      <td>1000.000000</td>\n",
       "      <td>1000.000000</td>\n",
       "      <td>1000.000000</td>\n",
       "    </tr>\n",
       "    <tr>\n",
       "      <th>max</th>\n",
       "      <td>1000.0</td>\n",
       "      <td>1000.000000</td>\n",
       "      <td>1000.000000</td>\n",
       "      <td>1000.000000</td>\n",
       "    </tr>\n",
       "  </tbody>\n",
       "</table>\n",
       "</div>"
      ],
      "text/plain": [
       "       consistent_map_2x2  consistent_map_4x4  consistent_map_6x6  \\\n",
       "count                10.0           10.000000           10.000000   \n",
       "mean               1000.0          915.600000          878.600000   \n",
       "std                   0.0          226.118553          258.052191   \n",
       "min                1000.0          282.000000          323.000000   \n",
       "25%                1000.0         1000.000000         1000.000000   \n",
       "50%                1000.0         1000.000000         1000.000000   \n",
       "75%                1000.0         1000.000000         1000.000000   \n",
       "max                1000.0         1000.000000         1000.000000   \n",
       "\n",
       "       consistent_map_8x8  \n",
       "count           10.000000  \n",
       "mean           994.900000  \n",
       "std             16.127616  \n",
       "min            949.000000  \n",
       "25%           1000.000000  \n",
       "50%           1000.000000  \n",
       "75%           1000.000000  \n",
       "max           1000.000000  "
      ]
     },
     "execution_count": 31,
     "metadata": {},
     "output_type": "execute_result"
    }
   ],
   "source": [
    "consistent_launch_analytics = pd.DataFrame(consistent_convergence_epochs)\n",
    "consistent_launch_analytics.describe()"
   ]
  },
  {
   "cell_type": "markdown",
   "id": "cb40859a",
   "metadata": {},
   "source": [
    "Графики сходимости для последовательного алгоритма."
   ]
  },
  {
   "cell_type": "code",
   "execution_count": 32,
   "id": "135aca2f",
   "metadata": {},
   "outputs": [
    {
     "data": {
      "image/png": "[encoded data removed]",
      "text/plain": [
       "<Figure size 432x288 with 1 Axes>"
      ]
     },
     "metadata": {
      "needs_background": "light"
     },
     "output_type": "display_data"
    }
   ],
   "source": [
    "legend_list = []\n",
    "\n",
    "for model_name, convergence_history in best_convergence_history_consistent.items():\n",
    "    plt.plot(convergence_history)\n",
    "    legend_list.append(model_name)\n",
    "plt.legend(legend_list)\n",
    "plt.title(\"Train Error to Epoch\")\n",
    "plt.show()"
   ]
  },
  {
   "cell_type": "markdown",
   "id": "e44f630e",
   "metadata": {},
   "source": [
    "### Сходимость пакетного алгоритма"
   ]
  },
  {
   "cell_type": "markdown",
   "id": "e81271a9",
   "metadata": {},
   "source": [
    "Для анализа сходимости используем обучение карт Кохонена по пакетному алгоритму используем следущие модели:"
   ]
  },
  {
   "cell_type": "code",
   "execution_count": 33,
   "id": "d349dd90",
   "metadata": {},
   "outputs": [],
   "source": [
    "package_maps = {\n",
    "    'package_map_2x2':(2,2,9),\n",
    "    'package_map_4x4':(4,4,9),\n",
    "    'package_map_6x6':(6,6,9),\n",
    "    'package_map_8x8':(8,8,9)\n",
    "}\n",
    "\n",
    "best_convergence_history_package = {}"
   ]
  },
  {
   "cell_type": "code",
   "execution_count": 34,
   "id": "7d12cc66",
   "metadata": {},
   "outputs": [
    {
     "name": "stderr",
     "output_type": "stream",
     "text": [
      "  0%|▏                                                                                | 2/1000 [00:00<00:55, 18.02it/s]"
     ]
    },
    {
     "name": "stdout",
     "output_type": "stream",
     "text": [
      "package_map_2x2\n"
     ]
    },
    {
     "name": "stderr",
     "output_type": "stream",
     "text": [
      "  2%|█▊                                                                              | 23/1000 [00:01<00:55, 17.45it/s]\n",
      "  3%|██                                                                              | 26/1000 [00:01<00:59, 16.32it/s]\n",
      "  0%|                                                                                         | 0/1000 [00:00<?, ?it/s]C:\\Users\\markh\\anaconda3\\lib\\site-packages\\numpy\\core\\fromnumeric.py:3419: RuntimeWarning: Mean of empty slice.\n",
      "  return _methods._mean(a, axis=axis, dtype=dtype,\n",
      "C:\\Users\\markh\\anaconda3\\lib\\site-packages\\numpy\\core\\_methods.py:188: RuntimeWarning: invalid value encountered in double_scalars\n",
      "  ret = ret.dtype.type(ret / rcount)\n",
      "  2%|█▊                                                                              | 23/1000 [00:01<01:00, 16.05it/s]\n",
      "  2%|█▉                                                                              | 24/1000 [00:01<01:10, 13.92it/s]\n",
      "  2%|█▊                                                                              | 23/1000 [00:01<01:00, 16.15it/s]\n",
      "  2%|█▉                                                                              | 24/1000 [00:02<01:57,  8.33it/s]\n",
      "  2%|█▊                                                                              | 22/1000 [00:01<01:01, 15.79it/s]\n",
      "  3%|██                                                                              | 26/1000 [00:01<00:58, 16.73it/s]\n",
      "  2%|█▉                                                                              | 24/1000 [00:01<01:07, 14.50it/s]\n",
      "  2%|█▊                                                                              | 23/1000 [00:01<00:59, 16.34it/s]\n",
      "  0%|                                                                                 | 1/1000 [00:00<02:57,  5.63it/s]"
     ]
    },
    {
     "name": "stdout",
     "output_type": "stream",
     "text": [
      "package_map_4x4\n"
     ]
    },
    {
     "name": "stderr",
     "output_type": "stream",
     "text": [
      "  2%|█▉                                                                              | 24/1000 [00:03<02:20,  6.95it/s]\n",
      "  2%|██                                                                              | 25/1000 [00:03<02:19,  7.00it/s]\n",
      "  3%|██▏                                                                             | 28/1000 [00:04<02:22,  6.83it/s]\n",
      "  2%|█▉                                                                              | 24/1000 [00:03<02:24,  6.75it/s]\n",
      "  3%|██▏                                                                             | 28/1000 [00:03<02:12,  7.36it/s]\n",
      "  2%|█▉                                                                              | 24/1000 [00:03<02:15,  7.21it/s]\n",
      "  2%|█▉                                                                              | 24/1000 [00:03<02:11,  7.40it/s]\n",
      "  2%|█▊                                                                              | 22/1000 [00:03<02:19,  6.99it/s]\n",
      "  3%|██▎                                                                             | 29/1000 [00:05<03:10,  5.11it/s]\n",
      "  2%|█▊                                                                              | 23/1000 [00:03<02:14,  7.27it/s]\n",
      "  0%|                                                                                         | 0/1000 [00:00<?, ?it/s]"
     ]
    },
    {
     "name": "stdout",
     "output_type": "stream",
     "text": [
      "package_map_6x6\n"
     ]
    },
    {
     "name": "stderr",
     "output_type": "stream",
     "text": [
      "  2%|█▊                                                                              | 23/1000 [00:05<04:10,  3.90it/s]\n",
      "  3%|██                                                                              | 26/1000 [00:07<04:25,  3.67it/s]\n",
      "  2%|█▉                                                                              | 24/1000 [00:06<04:44,  3.43it/s]\n",
      "  2%|██                                                                              | 25/1000 [00:06<04:31,  3.59it/s]\n",
      "  3%|██                                                                              | 26/1000 [00:07<04:31,  3.58it/s]\n",
      "  2%|██                                                                              | 25/1000 [00:06<04:27,  3.65it/s]\n",
      "  2%|██                                                                              | 25/1000 [00:07<04:36,  3.52it/s]\n",
      "  3%|██▏                                                                             | 28/1000 [00:07<04:24,  3.67it/s]\n",
      "  3%|██▌                                                                             | 32/1000 [00:13<06:47,  2.38it/s]\n",
      "  2%|█▊                                                                              | 23/1000 [00:07<05:29,  2.96it/s]\n",
      "  0%|                                                                                         | 0/1000 [00:00<?, ?it/s]"
     ]
    },
    {
     "name": "stdout",
     "output_type": "stream",
     "text": [
      "package_map_8x8\n"
     ]
    },
    {
     "name": "stderr",
     "output_type": "stream",
     "text": [
      "  3%|██▍                                                                             | 30/1000 [00:14<07:58,  2.03it/s]\n",
      "  2%|██                                                                              | 25/1000 [00:12<07:55,  2.05it/s]\n",
      "  2%|█▉                                                                              | 24/1000 [00:11<07:28,  2.17it/s]\n",
      "  3%|██▍                                                                             | 30/1000 [00:15<08:10,  1.98it/s]\n",
      "  3%|██                                                                              | 26/1000 [00:12<07:52,  2.06it/s]\n",
      "  2%|█▊                                                                              | 23/1000 [00:12<08:29,  1.92it/s]\n",
      "  3%|██▍                                                                             | 31/1000 [00:19<09:56,  1.63it/s]\n",
      "  2%|█▉                                                                              | 24/1000 [00:12<08:13,  1.98it/s]\n",
      "  3%|██▏                                                                             | 27/1000 [00:14<08:28,  1.91it/s]\n",
      "  2%|██                                                                              | 25/1000 [00:11<07:25,  2.19it/s]\n"
     ]
    }
   ],
   "source": [
    "package_convergence_epochs = {'package_map_2x2': [], 'package_map_4x4': [],\n",
    "                        'package_map_6x6': [], 'package_map_8x8': []}\n",
    "\n",
    "model_dir = 'models'\n",
    "\n",
    "least_error = np.inf\n",
    "\n",
    "for map_name, map_shape in package_maps.items():\n",
    "    print(map_name)\n",
    "    for launch in range(LAUNCHES):\n",
    "        kohonen_map_model = KohonenMapsPackageAlg(map_shape)\n",
    "        train_history = train_package(kohonen_map_model, X_train, X_test, \n",
    "              learning_time=1000, converge_interval=20)\n",
    "        package_convergence_epochs[map_name].append(len(train_history))\n",
    "        test_error = get_kohonen_map_error(kohonen_map_model, X_test)\n",
    "        \n",
    "        if test_error < least_error:\n",
    "            least_error = test_error\n",
    "            # Сохраняем историю сходимости лучшего результата обучения\n",
    "            best_convergence_history_package[map_name] = train_history\n",
    "            # Сохраняем лучший результат на диск\n",
    "            current_model_save_path = f'{model_dir}/{map_name}.npy'\n",
    "            kohonen_map_model.save_weights(current_model_save_path)"
   ]
  },
  {
   "cell_type": "code",
   "execution_count": 35,
   "id": "57d35400",
   "metadata": {},
   "outputs": [
    {
     "data": {
      "text/html": [
       "<div>\n",
       "<style scoped>\n",
       "    .dataframe tbody tr th:only-of-type {\n",
       "        vertical-align: middle;\n",
       "    }\n",
       "\n",
       "    .dataframe tbody tr th {\n",
       "        vertical-align: top;\n",
       "    }\n",
       "\n",
       "    .dataframe thead th {\n",
       "        text-align: right;\n",
       "    }\n",
       "</style>\n",
       "<table border=\"1\" class=\"dataframe\">\n",
       "  <thead>\n",
       "    <tr style=\"text-align: right;\">\n",
       "      <th></th>\n",
       "      <th>package_map_2x2</th>\n",
       "      <th>package_map_4x4</th>\n",
       "      <th>package_map_6x6</th>\n",
       "      <th>package_map_8x8</th>\n",
       "    </tr>\n",
       "  </thead>\n",
       "  <tbody>\n",
       "    <tr>\n",
       "      <th>count</th>\n",
       "      <td>10.000000</td>\n",
       "      <td>10.000000</td>\n",
       "      <td>10.000000</td>\n",
       "      <td>10.000000</td>\n",
       "    </tr>\n",
       "    <tr>\n",
       "      <th>mean</th>\n",
       "      <td>24.800000</td>\n",
       "      <td>26.100000</td>\n",
       "      <td>26.700000</td>\n",
       "      <td>27.500000</td>\n",
       "    </tr>\n",
       "    <tr>\n",
       "      <th>std</th>\n",
       "      <td>1.316561</td>\n",
       "      <td>2.378141</td>\n",
       "      <td>2.668749</td>\n",
       "      <td>2.877113</td>\n",
       "    </tr>\n",
       "    <tr>\n",
       "      <th>min</th>\n",
       "      <td>23.000000</td>\n",
       "      <td>23.000000</td>\n",
       "      <td>24.000000</td>\n",
       "      <td>24.000000</td>\n",
       "    </tr>\n",
       "    <tr>\n",
       "      <th>25%</th>\n",
       "      <td>24.000000</td>\n",
       "      <td>25.000000</td>\n",
       "      <td>25.250000</td>\n",
       "      <td>25.250000</td>\n",
       "    </tr>\n",
       "    <tr>\n",
       "      <th>50%</th>\n",
       "      <td>24.500000</td>\n",
       "      <td>25.000000</td>\n",
       "      <td>26.000000</td>\n",
       "      <td>26.500000</td>\n",
       "    </tr>\n",
       "    <tr>\n",
       "      <th>75%</th>\n",
       "      <td>25.000000</td>\n",
       "      <td>28.250000</td>\n",
       "      <td>27.000000</td>\n",
       "      <td>30.250000</td>\n",
       "    </tr>\n",
       "    <tr>\n",
       "      <th>max</th>\n",
       "      <td>27.000000</td>\n",
       "      <td>30.000000</td>\n",
       "      <td>33.000000</td>\n",
       "      <td>32.000000</td>\n",
       "    </tr>\n",
       "  </tbody>\n",
       "</table>\n",
       "</div>"
      ],
      "text/plain": [
       "       package_map_2x2  package_map_4x4  package_map_6x6  package_map_8x8\n",
       "count        10.000000        10.000000        10.000000        10.000000\n",
       "mean         24.800000        26.100000        26.700000        27.500000\n",
       "std           1.316561         2.378141         2.668749         2.877113\n",
       "min          23.000000        23.000000        24.000000        24.000000\n",
       "25%          24.000000        25.000000        25.250000        25.250000\n",
       "50%          24.500000        25.000000        26.000000        26.500000\n",
       "75%          25.000000        28.250000        27.000000        30.250000\n",
       "max          27.000000        30.000000        33.000000        32.000000"
      ]
     },
     "execution_count": 35,
     "metadata": {},
     "output_type": "execute_result"
    }
   ],
   "source": [
    "package_launch_analytics = pd.DataFrame(package_convergence_epochs)\n",
    "package_launch_analytics.describe()"
   ]
  },
  {
   "cell_type": "markdown",
   "id": "76230f46",
   "metadata": {},
   "source": [
    "Графики сходимости для пакетного алгоритма."
   ]
  },
  {
   "cell_type": "code",
   "execution_count": 36,
   "id": "0e5346ce",
   "metadata": {},
   "outputs": [
    {
     "data": {
      "image/png": "[encoded data removed]",
      "text/plain": [
       "<Figure size 432x288 with 1 Axes>"
      ]
     },
     "metadata": {
      "needs_background": "light"
     },
     "output_type": "display_data"
    }
   ],
   "source": [
    "legend_list = []\n",
    "\n",
    "for model_name, convergence_history in best_convergence_history_package.items():\n",
    "    plt.plot(convergence_history)\n",
    "    legend_list.append(model_name)\n",
    "plt.legend(legend_list)\n",
    "plt.title(\"Train Error to Epoch\")\n",
    "plt.show()"
   ]
  },
  {
   "cell_type": "markdown",
   "id": "85e2a3d6",
   "metadata": {},
   "source": [
    "## Выделение мёртвых узлов"
   ]
  },
  {
   "cell_type": "code",
   "execution_count": 37,
   "id": "1223c787",
   "metadata": {},
   "outputs": [],
   "source": [
    "def get_max_value_coords(array_2d: np.ndarray):\n",
    "    winer_x, winer_y = np.where(array_2d==array_2d.max())\n",
    "    return int(winer_x), int(winer_y)\n",
    "\n",
    "def substitute_map_max_value(score_board, winer_x, winer_y, substitute_with=0):\n",
    "    score_board[winer_x, winer_y] = substitute_with\n",
    "    \n",
    "def get_top_neurons(score_board, top_num):\n",
    "    score_board_copy = deepcopy(score_board)\n",
    "    top_neurons = []\n",
    "\n",
    "    for count in range(top_num):\n",
    "        winer_x, winer_y = get_max_value_coords(score_board_copy)\n",
    "        top_neurons.append((winer_x, winer_y))\n",
    "        substitute_map_max_value(score_board_copy, winer_x, winer_y)\n",
    "\n",
    "    return top_neurons\n",
    "    "
   ]
  },
  {
   "cell_type": "markdown",
   "id": "415b40a8",
   "metadata": {},
   "source": [
    "### Выделение мёртвых узлов. Последовательный алгоритм"
   ]
  },
  {
   "cell_type": "markdown",
   "id": "3ee05493",
   "metadata": {},
   "source": [
    "Загрузим лучший результат с диска."
   ]
  },
  {
   "cell_type": "code",
   "execution_count": 38,
   "id": "d95cde04",
   "metadata": {},
   "outputs": [],
   "source": [
    "best_consistent_alg_model_path = 'models/consistent_map_8x8.npy'\n",
    "\n",
    "best_consistent_alg_model = KohonenMapsConsistentAlg((8,8,9))\n",
    "\n",
    "best_consistent_alg_model.load_weights(best_consistent_alg_model_path)"
   ]
  },
  {
   "cell_type": "markdown",
   "id": "d74c36ff",
   "metadata": {},
   "source": [
    "Присвоим всем значениям векторов \"мёртвых\" нейронов np.inf."
   ]
  },
  {
   "cell_type": "code",
   "execution_count": 39,
   "id": "3e8d9f84",
   "metadata": {},
   "outputs": [
    {
     "data": {
      "text/plain": [
       "array([[[            inf,             inf,             inf,\n",
       "                     inf,             inf,             inf,\n",
       "                     inf,             inf,             inf],\n",
       "        [            inf,             inf,             inf,\n",
       "                     inf,             inf,             inf,\n",
       "                     inf,             inf,             inf],\n",
       "        [ 3.94430002e-01,  4.94072790e-01,  5.16857067e-02,\n",
       "          3.30314215e-01,  5.92676107e-01,  3.26398396e-02,\n",
       "          5.20293198e-01, -1.48916439e-68,  2.22851210e-02],\n",
       "        [            inf,             inf,             inf,\n",
       "                     inf,             inf,             inf,\n",
       "                     inf,             inf,             inf],\n",
       "        [            inf,             inf,             inf,\n",
       "                     inf,             inf,             inf,\n",
       "                     inf,             inf,             inf],\n",
       "        [            inf,             inf,             inf,\n",
       "                     inf,             inf,             inf,\n",
       "                     inf,             inf,             inf],\n",
       "        [            inf,             inf,             inf,\n",
       "                     inf,             inf,             inf,\n",
       "                     inf,             inf,             inf],\n",
       "        [            inf,             inf,             inf,\n",
       "                     inf,             inf,             inf,\n",
       "                     inf,             inf,             inf]],\n",
       "\n",
       "       [[            inf,             inf,             inf,\n",
       "                     inf,             inf,             inf,\n",
       "                     inf,             inf,             inf],\n",
       "        [            inf,             inf,             inf,\n",
       "                     inf,             inf,             inf,\n",
       "                     inf,             inf,             inf],\n",
       "        [            inf,             inf,             inf,\n",
       "                     inf,             inf,             inf,\n",
       "                     inf,             inf,             inf],\n",
       "        [            inf,             inf,             inf,\n",
       "                     inf,             inf,             inf,\n",
       "                     inf,             inf,             inf],\n",
       "        [            inf,             inf,             inf,\n",
       "                     inf,             inf,             inf,\n",
       "                     inf,             inf,             inf],\n",
       "        [            inf,             inf,             inf,\n",
       "                     inf,             inf,             inf,\n",
       "                     inf,             inf,             inf],\n",
       "        [            inf,             inf,             inf,\n",
       "                     inf,             inf,             inf,\n",
       "                     inf,             inf,             inf],\n",
       "        [            inf,             inf,             inf,\n",
       "                     inf,             inf,             inf,\n",
       "                     inf,             inf,             inf]],\n",
       "\n",
       "       [[            inf,             inf,             inf,\n",
       "                     inf,             inf,             inf,\n",
       "                     inf,             inf,             inf],\n",
       "        [            inf,             inf,             inf,\n",
       "                     inf,             inf,             inf,\n",
       "                     inf,             inf,             inf],\n",
       "        [            inf,             inf,             inf,\n",
       "                     inf,             inf,             inf,\n",
       "                     inf,             inf,             inf],\n",
       "        [            inf,             inf,             inf,\n",
       "                     inf,             inf,             inf,\n",
       "                     inf,             inf,             inf],\n",
       "        [            inf,             inf,             inf,\n",
       "                     inf,             inf,             inf,\n",
       "                     inf,             inf,             inf],\n",
       "        [            inf,             inf,             inf,\n",
       "                     inf,             inf,             inf,\n",
       "                     inf,             inf,             inf],\n",
       "        [ 3.28888608e-01,  4.05150855e-01,  4.87350483e-01,\n",
       "          4.01642834e-01,  5.58455365e-01,  4.16694987e-02,\n",
       "          3.83504006e-01,  9.84238818e-03,  3.82759094e-02],\n",
       "        [            inf,             inf,             inf,\n",
       "                     inf,             inf,             inf,\n",
       "                     inf,             inf,             inf]],\n",
       "\n",
       "       [[            inf,             inf,             inf,\n",
       "                     inf,             inf,             inf,\n",
       "                     inf,             inf,             inf],\n",
       "        [            inf,             inf,             inf,\n",
       "                     inf,             inf,             inf,\n",
       "                     inf,             inf,             inf],\n",
       "        [            inf,             inf,             inf,\n",
       "                     inf,             inf,             inf,\n",
       "                     inf,             inf,             inf],\n",
       "        [            inf,             inf,             inf,\n",
       "                     inf,             inf,             inf,\n",
       "                     inf,             inf,             inf],\n",
       "        [            inf,             inf,             inf,\n",
       "                     inf,             inf,             inf,\n",
       "                     inf,             inf,             inf],\n",
       "        [            inf,             inf,             inf,\n",
       "                     inf,             inf,             inf,\n",
       "                     inf,             inf,             inf],\n",
       "        [            inf,             inf,             inf,\n",
       "                     inf,             inf,             inf,\n",
       "                     inf,             inf,             inf],\n",
       "        [ 6.78159796e-01,  2.80095471e-01,  1.87076656e-02,\n",
       "          3.55288516e-01,  3.61093628e-01,  4.96281572e-02,\n",
       "          7.56091429e-01, -1.90339397e-30,  4.73820970e-01]],\n",
       "\n",
       "       [[            inf,             inf,             inf,\n",
       "                     inf,             inf,             inf,\n",
       "                     inf,             inf,             inf],\n",
       "        [            inf,             inf,             inf,\n",
       "                     inf,             inf,             inf,\n",
       "                     inf,             inf,             inf],\n",
       "        [            inf,             inf,             inf,\n",
       "                     inf,             inf,             inf,\n",
       "                     inf,             inf,             inf],\n",
       "        [            inf,             inf,             inf,\n",
       "                     inf,             inf,             inf,\n",
       "                     inf,             inf,             inf],\n",
       "        [            inf,             inf,             inf,\n",
       "                     inf,             inf,             inf,\n",
       "                     inf,             inf,             inf],\n",
       "        [            inf,             inf,             inf,\n",
       "                     inf,             inf,             inf,\n",
       "                     inf,             inf,             inf],\n",
       "        [            inf,             inf,             inf,\n",
       "                     inf,             inf,             inf,\n",
       "                     inf,             inf,             inf],\n",
       "        [            inf,             inf,             inf,\n",
       "                     inf,             inf,             inf,\n",
       "                     inf,             inf,             inf]],\n",
       "\n",
       "       [[            inf,             inf,             inf,\n",
       "                     inf,             inf,             inf,\n",
       "                     inf,             inf,             inf],\n",
       "        [            inf,             inf,             inf,\n",
       "                     inf,             inf,             inf,\n",
       "                     inf,             inf,             inf],\n",
       "        [            inf,             inf,             inf,\n",
       "                     inf,             inf,             inf,\n",
       "                     inf,             inf,             inf],\n",
       "        [            inf,             inf,             inf,\n",
       "                     inf,             inf,             inf,\n",
       "                     inf,             inf,             inf],\n",
       "        [            inf,             inf,             inf,\n",
       "                     inf,             inf,             inf,\n",
       "                     inf,             inf,             inf],\n",
       "        [ 2.06321966e-01,  5.75917878e-01, -7.33278346e-37,\n",
       "          7.00155694e-01,  6.34872928e-01,  6.07532361e-03,\n",
       "          3.25660355e-01,  2.14110886e-01,  1.12113368e-02],\n",
       "        [ 5.32024128e-01,  5.45080671e-01,  5.66447694e-01,\n",
       "          4.15406882e-01,  1.66330844e-01,  6.86731220e-02,\n",
       "          4.49368967e-01,  4.61459622e-17, -4.07489568e-18],\n",
       "        [            inf,             inf,             inf,\n",
       "                     inf,             inf,             inf,\n",
       "                     inf,             inf,             inf]],\n",
       "\n",
       "       [[            inf,             inf,             inf,\n",
       "                     inf,             inf,             inf,\n",
       "                     inf,             inf,             inf],\n",
       "        [ 2.96006663e-01,  3.45269087e-01,  7.74363859e-01,\n",
       "          2.87817599e-01,  5.60218910e-01,  7.93916481e-02,\n",
       "          3.08133375e-01,  4.00890823e-03,  4.27561209e-01],\n",
       "        [            inf,             inf,             inf,\n",
       "                     inf,             inf,             inf,\n",
       "                     inf,             inf,             inf],\n",
       "        [            inf,             inf,             inf,\n",
       "                     inf,             inf,             inf,\n",
       "                     inf,             inf,             inf],\n",
       "        [ 2.78027993e-01,  3.89128634e-01,  7.87880150e-01,\n",
       "          3.33562893e-01,  5.33814166e-01,  8.54711779e-02,\n",
       "          2.76255020e-01,  1.29351927e-03,  3.29336492e-02],\n",
       "        [            inf,             inf,             inf,\n",
       "                     inf,             inf,             inf,\n",
       "                     inf,             inf,             inf],\n",
       "        [            inf,             inf,             inf,\n",
       "                     inf,             inf,             inf,\n",
       "                     inf,             inf,             inf],\n",
       "        [            inf,             inf,             inf,\n",
       "                     inf,             inf,             inf,\n",
       "                     inf,             inf,             inf]],\n",
       "\n",
       "       [[            inf,             inf,             inf,\n",
       "                     inf,             inf,             inf,\n",
       "                     inf,             inf,             inf],\n",
       "        [            inf,             inf,             inf,\n",
       "                     inf,             inf,             inf,\n",
       "                     inf,             inf,             inf],\n",
       "        [            inf,             inf,             inf,\n",
       "                     inf,             inf,             inf,\n",
       "                     inf,             inf,             inf],\n",
       "        [            inf,             inf,             inf,\n",
       "                     inf,             inf,             inf,\n",
       "                     inf,             inf,             inf],\n",
       "        [            inf,             inf,             inf,\n",
       "                     inf,             inf,             inf,\n",
       "                     inf,             inf,             inf],\n",
       "        [            inf,             inf,             inf,\n",
       "                     inf,             inf,             inf,\n",
       "                     inf,             inf,             inf],\n",
       "        [            inf,             inf,             inf,\n",
       "                     inf,             inf,             inf,\n",
       "                     inf,             inf,             inf],\n",
       "        [ 2.81105283e-01,  5.86115891e-01, -1.34994342e-65,\n",
       "          5.10699602e-01,  6.31093811e-01,  3.22568329e-02,\n",
       "          2.58398343e-01,  5.59707392e-01,  3.68247236e-02]]])"
      ]
     },
     "execution_count": 39,
     "metadata": {},
     "output_type": "execute_result"
    }
   ],
   "source": [
    "test_win_map = get_win_map(best_consistent_alg_model, X_train)\n",
    "score_board = get_score_board(test_win_map)\n",
    "                \n",
    "mark_dead_neurons(score_board, best_consistent_alg_model)\n",
    "\n",
    "best_consistent_alg_model.map"
   ]
  },
  {
   "cell_type": "markdown",
   "id": "bbcc9c16",
   "metadata": {},
   "source": [
    "### Выделение мёртвых узлов. Пакетный алгоритм"
   ]
  },
  {
   "cell_type": "markdown",
   "id": "23b25f53",
   "metadata": {},
   "source": [
    "Загрузим лучший результат с диска."
   ]
  },
  {
   "cell_type": "code",
   "execution_count": 40,
   "id": "48548494",
   "metadata": {},
   "outputs": [],
   "source": [
    "best_package_alg_model_path = 'models/package_map_8x8.npy'\n",
    "\n",
    "best_package_alg_model = KohonenMapsPackageAlg((8,8,9))\n",
    "\n",
    "best_package_alg_model.load_weights(best_package_alg_model_path)"
   ]
  },
  {
   "cell_type": "markdown",
   "id": "c390b837",
   "metadata": {},
   "source": [
    "Присвоим всем значениям векторов \"мёртвых\" нейронов np.inf."
   ]
  },
  {
   "cell_type": "code",
   "execution_count": 41,
   "id": "138d75fa",
   "metadata": {},
   "outputs": [
    {
     "data": {
      "text/plain": [
       "array([[[           inf,            inf,            inf,            inf,\n",
       "                    inf,            inf,            inf,            inf,\n",
       "                    inf],\n",
       "        [           inf,            inf,            inf,            inf,\n",
       "                    inf,            inf,            inf,            inf,\n",
       "                    inf],\n",
       "        [           inf,            inf,            inf,            inf,\n",
       "                    inf,            inf,            inf,            inf,\n",
       "                    inf],\n",
       "        [           inf,            inf,            inf,            inf,\n",
       "                    inf,            inf,            inf,            inf,\n",
       "                    inf],\n",
       "        [           inf,            inf,            inf,            inf,\n",
       "                    inf,            inf,            inf,            inf,\n",
       "                    inf],\n",
       "        [           inf,            inf,            inf,            inf,\n",
       "                    inf,            inf,            inf,            inf,\n",
       "                    inf],\n",
       "        [           inf,            inf,            inf,            inf,\n",
       "                    inf,            inf,            inf,            inf,\n",
       "                    inf],\n",
       "        [           inf,            inf,            inf,            inf,\n",
       "                    inf,            inf,            inf,            inf,\n",
       "                    inf]],\n",
       "\n",
       "       [[           inf,            inf,            inf,            inf,\n",
       "                    inf,            inf,            inf,            inf,\n",
       "                    inf],\n",
       "        [           inf,            inf,            inf,            inf,\n",
       "                    inf,            inf,            inf,            inf,\n",
       "                    inf],\n",
       "        [           inf,            inf,            inf,            inf,\n",
       "                    inf,            inf,            inf,            inf,\n",
       "                    inf],\n",
       "        [           inf,            inf,            inf,            inf,\n",
       "                    inf,            inf,            inf,            inf,\n",
       "                    inf],\n",
       "        [           inf,            inf,            inf,            inf,\n",
       "                    inf,            inf,            inf,            inf,\n",
       "                    inf],\n",
       "        [           inf,            inf,            inf,            inf,\n",
       "                    inf,            inf,            inf,            inf,\n",
       "                    inf],\n",
       "        [           inf,            inf,            inf,            inf,\n",
       "                    inf,            inf,            inf,            inf,\n",
       "                    inf],\n",
       "        [4.22827000e-01, 4.93609000e-01, 7.48552350e-01, 2.44548315e-01,\n",
       "         3.81332090e-01, 3.57487880e-02, 3.66170850e-01, 1.74603000e-03,\n",
       "         0.00000000e+00]],\n",
       "\n",
       "       [[           inf,            inf,            inf,            inf,\n",
       "                    inf,            inf,            inf,            inf,\n",
       "                    inf],\n",
       "        [2.39303480e-01, 3.16792000e-01, 7.46250933e-01, 3.29802600e-01,\n",
       "         6.18761933e-01, 9.01771800e-02, 2.86617133e-01, 5.50264000e-03,\n",
       "         4.44444467e-01],\n",
       "        [           inf,            inf,            inf,            inf,\n",
       "                    inf,            inf,            inf,            inf,\n",
       "                    inf],\n",
       "        [           inf,            inf,            inf,            inf,\n",
       "                    inf,            inf,            inf,            inf,\n",
       "                    inf],\n",
       "        [           inf,            inf,            inf,            inf,\n",
       "                    inf,            inf,            inf,            inf,\n",
       "                    inf],\n",
       "        [           inf,            inf,            inf,            inf,\n",
       "                    inf,            inf,            inf,            inf,\n",
       "                    inf],\n",
       "        [           inf,            inf,            inf,            inf,\n",
       "                    inf,            inf,            inf,            inf,\n",
       "                    inf],\n",
       "        [3.33918833e-01, 3.63909833e-01, 7.43133000e-01, 3.20872333e-01,\n",
       "         4.93433333e-01, 8.72248667e-02, 3.13042167e-01, 2.06349167e-02,\n",
       "         6.53594833e-01]],\n",
       "\n",
       "       [[           inf,            inf,            inf,            inf,\n",
       "                    inf,            inf,            inf,            inf,\n",
       "                    inf],\n",
       "        [           inf,            inf,            inf,            inf,\n",
       "                    inf,            inf,            inf,            inf,\n",
       "                    inf],\n",
       "        [           inf,            inf,            inf,            inf,\n",
       "                    inf,            inf,            inf,            inf,\n",
       "                    inf],\n",
       "        [2.65390909e-01, 3.61881985e-01, 7.74515788e-01, 3.41971136e-01,\n",
       "         5.68053879e-01, 9.07871127e-02, 2.74163561e-01, 6.73400000e-04,\n",
       "         1.78253030e-03],\n",
       "        [2.84557556e-01, 3.89724333e-01, 7.67631778e-01, 3.49775056e-01,\n",
       "         5.30852556e-01, 8.83878611e-02, 2.79998000e-01, 6.34920556e-03,\n",
       "         2.40740667e-01],\n",
       "        [           inf,            inf,            inf,            inf,\n",
       "                    inf,            inf,            inf,            inf,\n",
       "                    inf],\n",
       "        [           inf,            inf,            inf,            inf,\n",
       "                    inf,            inf,            inf,            inf,\n",
       "                    inf],\n",
       "        [           inf,            inf,            inf,            inf,\n",
       "                    inf,            inf,            inf,            inf,\n",
       "                    inf]],\n",
       "\n",
       "       [[2.77875375e-01, 5.88157875e-01, 0.00000000e+00, 5.10124750e-01,\n",
       "         6.31566625e-01, 2.83816250e-02, 2.62081787e-01, 5.51190500e-01,\n",
       "         3.67647500e-02],\n",
       "        [           inf,            inf,            inf,            inf,\n",
       "                    inf,            inf,            inf,            inf,\n",
       "                    inf],\n",
       "        [           inf,            inf,            inf,            inf,\n",
       "                    inf,            inf,            inf,            inf,\n",
       "                    inf],\n",
       "        [           inf,            inf,            inf,            inf,\n",
       "                    inf,            inf,            inf,            inf,\n",
       "                    inf],\n",
       "        [           inf,            inf,            inf,            inf,\n",
       "                    inf,            inf,            inf,            inf,\n",
       "                    inf],\n",
       "        [           inf,            inf,            inf,            inf,\n",
       "                    inf,            inf,            inf,            inf,\n",
       "                    inf],\n",
       "        [           inf,            inf,            inf,            inf,\n",
       "                    inf,            inf,            inf,            inf,\n",
       "                    inf],\n",
       "        [4.73485800e-01, 3.97894600e-01, 8.26280600e-01, 1.62616760e-01,\n",
       "         4.13508200e-01, 2.96296200e-02, 4.03903400e-01, 0.00000000e+00,\n",
       "         2.62744800e-01]],\n",
       "\n",
       "       [[3.84218583e-01, 4.05388583e-01, 1.08574558e-01, 3.46832850e-01,\n",
       "         6.33676917e-01, 7.54160667e-02, 5.00697083e-01, 0.00000000e+00,\n",
       "         5.88235833e-02],\n",
       "        [           inf,            inf,            inf,            inf,\n",
       "                    inf,            inf,            inf,            inf,\n",
       "                    inf],\n",
       "        [           inf,            inf,            inf,            inf,\n",
       "                    inf,            inf,            inf,            inf,\n",
       "                    inf],\n",
       "        [           inf,            inf,            inf,            inf,\n",
       "                    inf,            inf,            inf,            inf,\n",
       "                    inf],\n",
       "        [           inf,            inf,            inf,            inf,\n",
       "                    inf,            inf,            inf,            inf,\n",
       "                    inf],\n",
       "        [           inf,            inf,            inf,            inf,\n",
       "                    inf,            inf,            inf,            inf,\n",
       "                    inf],\n",
       "        [           inf,            inf,            inf,            inf,\n",
       "                    inf,            inf,            inf,            inf,\n",
       "                    inf],\n",
       "        [           inf,            inf,            inf,            inf,\n",
       "                    inf,            inf,            inf,            inf,\n",
       "                    inf]],\n",
       "\n",
       "       [[           inf,            inf,            inf,            inf,\n",
       "                    inf,            inf,            inf,            inf,\n",
       "                    inf],\n",
       "        [           inf,            inf,            inf,            inf,\n",
       "                    inf,            inf,            inf,            inf,\n",
       "                    inf],\n",
       "        [           inf,            inf,            inf,            inf,\n",
       "                    inf,            inf,            inf,            inf,\n",
       "                    inf],\n",
       "        [           inf,            inf,            inf,            inf,\n",
       "                    inf,            inf,            inf,            inf,\n",
       "                    inf],\n",
       "        [           inf,            inf,            inf,            inf,\n",
       "                    inf,            inf,            inf,            inf,\n",
       "                    inf],\n",
       "        [           inf,            inf,            inf,            inf,\n",
       "                    inf,            inf,            inf,            inf,\n",
       "                    inf],\n",
       "        [           inf,            inf,            inf,            inf,\n",
       "                    inf,            inf,            inf,            inf,\n",
       "                    inf],\n",
       "        [           inf,            inf,            inf,            inf,\n",
       "                    inf,            inf,            inf,            inf,\n",
       "                    inf]],\n",
       "\n",
       "       [[7.51682667e-01, 2.63659333e-01, 0.00000000e+00, 3.49948000e-01,\n",
       "         2.60162667e-01, 6.01181667e-02, 8.23420000e-01, 0.00000000e+00,\n",
       "         4.44444333e-01],\n",
       "        [           inf,            inf,            inf,            inf,\n",
       "                    inf,            inf,            inf,            inf,\n",
       "                    inf],\n",
       "        [           inf,            inf,            inf,            inf,\n",
       "                    inf,            inf,            inf,            inf,\n",
       "                    inf],\n",
       "        [           inf,            inf,            inf,            inf,\n",
       "                    inf,            inf,            inf,            inf,\n",
       "                    inf],\n",
       "        [           inf,            inf,            inf,            inf,\n",
       "                    inf,            inf,            inf,            inf,\n",
       "                    inf],\n",
       "        [1.17939833e-01, 3.92982333e-01, 1.98960667e-01, 9.02388333e-01,\n",
       "         1.02564133e-01, 7.56843667e-01, 1.07496733e-01, 2.32804333e-01,\n",
       "         0.00000000e+00],\n",
       "        [           inf,            inf,            inf,            inf,\n",
       "                    inf,            inf,            inf,            inf,\n",
       "                    inf],\n",
       "        [2.07199400e-01, 5.75338200e-01, 0.00000000e+00, 6.97507800e-01,\n",
       "         6.36585300e-01, 6.28018500e-03, 3.26301100e-01, 2.13016000e-01,\n",
       "         1.17647000e-02]]])"
      ]
     },
     "execution_count": 41,
     "metadata": {},
     "output_type": "execute_result"
    }
   ],
   "source": [
    "test_win_map = get_win_map(best_package_alg_model, X_train)\n",
    "score_board = get_score_board(test_win_map)\n",
    "                \n",
    "mark_dead_neurons(score_board, best_package_alg_model)\n",
    "\n",
    "best_package_alg_model.map"
   ]
  },
  {
   "cell_type": "markdown",
   "id": "c2f750f4",
   "metadata": {},
   "source": [
    "## Исследование наиболее успешных нейронов"
   ]
  },
  {
   "cell_type": "code",
   "execution_count": 110,
   "id": "f668e99c",
   "metadata": {},
   "outputs": [],
   "source": [
    "def get_win_map_labels(kohonen_map_model, data, labels):\n",
    "    win_history_map = create_history_map(kohonen_map_model.map.shape[0], \n",
    "                           kohonen_map_model.map.shape[1])\n",
    "    for input_vector, label in zip(data, labels):\n",
    "        winer_neuron_coord = kohonen_map_model.get_winner_neuron(input_vector)\n",
    "        win_history_map[winer_neuron_coord[0]][winer_neuron_coord[1]].append(label)\n",
    "        \n",
    "    return win_history_map\n",
    "\n",
    "\n",
    "def get_top_neurons_labels(win_map_labels, top_neurons):\n",
    "    top_neurons_labels = []\n",
    "    for neuron_num, top_neuron in enumerate(top_neurons, 1):\n",
    "        i_top_neuron, j_top_neuron = top_neuron\n",
    "        top_neurons_labels.append(np.argmax(np.array(win_map_labels[i_top_neuron][j_top_neuron]), axis=1))\n",
    "        \n",
    "    return top_neurons_labels\n",
    "\n",
    "\n",
    "# def plot_top_neurons_labels(win_map_labels, top_neurons):\n",
    "#     figure, axis = plt.subplots(len(top_neurons))\n",
    "\n",
    "#     for neuron_num, top_neuron in enumerate(top_neurons, 1):\n",
    "#         i_top_neuron, j_top_neuron = top_neuron\n",
    "#         labels_distribution = np.argmax(np.array(win_map_labels[i_top_neuron][j_top_neuron]), axis=1)\n",
    "#         axis[neuron_num-1].hist(labels_distribution)\n",
    "#         axis[neuron_num-1].set_title(f'Neuron #{neuron_num}')\n",
    "        \n",
    "        \n",
    "def plot_top_neurons_labels(top_neurons_labels):\n",
    "    figure, axis = plt.subplots(len(top_neurons_labels))\n",
    "\n",
    "    for neuron_num, neuron_labels in enumerate(top_neurons_labels):\n",
    "        axis[neuron_num].hist(neuron_labels)\n",
    "        axis[neuron_num].set_title(f'Neuron #{neuron_num+1}')\n",
    "        \n",
    "\n",
    "def get_labels_distribution(labels):\n",
    "    distribution = np.bincount(labels)\n",
    "    return distribution / np.sum(distribution)\n",
    "\n",
    "\n",
    "def get_top_neurons_labels_stats(top_neurons_labels):\n",
    "    for neuron_num, labels in enumerate(top_neurons_labels, 1):\n",
    "        print(f'Neuron #{neuron_num}')\n",
    "        distribution = get_labels_distribution(labels)\n",
    "        for label_num, percentage in enumerate(distribution):\n",
    "            print('label {label_num}: {percentage:.2f}%'.format(label_num=label_num, percentage=percentage*100))"
   ]
  },
  {
   "cell_type": "markdown",
   "id": "5d95ac1e",
   "metadata": {},
   "source": [
    "### Исследование наиболее успешных нейронов карт, обученных согласно последовательному алгоритму"
   ]
  },
  {
   "cell_type": "markdown",
   "id": "2ea55da2",
   "metadata": {},
   "source": [
    "Выведем нейроны, которые чаще других оказывались победителями."
   ]
  },
  {
   "cell_type": "code",
   "execution_count": 123,
   "id": "558a7dd6",
   "metadata": {},
   "outputs": [
    {
     "name": "stdout",
     "output_type": "stream",
     "text": [
      "Neuron #1:\n",
      " [0.27802799 0.38912863 0.78788015 0.33356289 0.53381417 0.08547118\n",
      " 0.27625502 0.00129352 0.03293365]\n",
      "Neuron #2:\n",
      " [0.29600666 0.34526909 0.77436386 0.2878176  0.56021891 0.07939165\n",
      " 0.30813337 0.00400891 0.42756121]\n",
      "Neuron #3:\n",
      " [ 2.06321966e-01  5.75917878e-01 -7.33278346e-37  7.00155694e-01\n",
      "  6.34872928e-01  6.07532361e-03  3.25660355e-01  2.14110886e-01\n",
      "  1.12113368e-02]\n"
     ]
    }
   ],
   "source": [
    "top_n = 3\n",
    "\n",
    "# test_win_map = get_win_map(best_consistent_alg_model, X_test)\n",
    "test_win_map = get_win_map(best_consistent_alg_model, X_train)\n",
    "score_board = get_score_board(test_win_map)\n",
    "\n",
    "top_neurons = get_top_neurons(score_board, top_n)\n",
    "\n",
    "for num, top_neuron in enumerate(top_neurons):\n",
    "    i_top_neuron, j_top_neuron = top_neuron\n",
    "    print(f'Neuron #{num + 1}:\\n', best_consistent_alg_model.map[i_top_neuron, j_top_neuron])"
   ]
  },
  {
   "cell_type": "markdown",
   "id": "49ff1132",
   "metadata": {},
   "source": [
    "Проанализируем распределение классов для каждого успешного нейрона."
   ]
  },
  {
   "cell_type": "code",
   "execution_count": 124,
   "id": "f3cc01c8",
   "metadata": {},
   "outputs": [
    {
     "data": {
      "image/png": "[encoded data removed]",
      "text/plain": [
       "<Figure size 432x288 with 3 Axes>"
      ]
     },
     "metadata": {
      "needs_background": "light"
     },
     "output_type": "display_data"
    }
   ],
   "source": [
    "win_map_labels = get_win_map_labels(best_consistent_alg_model, X, y)\n",
    "\n",
    "top_neurons_labels = get_top_neurons_labels(win_map_labels, top_neurons)\n",
    "\n",
    "plot_top_neurons_labels(top_neurons_labels)"
   ]
  },
  {
   "cell_type": "markdown",
   "id": "a430d4bb",
   "metadata": {},
   "source": [
    "Для выбранных узлов определим, сколько соответствующих им векторов относятся к каждому классу."
   ]
  },
  {
   "cell_type": "code",
   "execution_count": 125,
   "id": "d592e441",
   "metadata": {},
   "outputs": [
    {
     "name": "stdout",
     "output_type": "stream",
     "text": [
      "Neuron #1\n",
      "label 0: 46.85%\n",
      "label 1: 37.84%\n",
      "label 2: 12.61%\n",
      "label 3: 0.00%\n",
      "label 4: 0.00%\n",
      "label 5: 2.70%\n",
      "Neuron #2\n",
      "label 0: 40.54%\n",
      "label 1: 48.65%\n",
      "label 2: 8.11%\n",
      "label 3: 2.70%\n",
      "Neuron #3\n",
      "label 0: 0.00%\n",
      "label 1: 0.00%\n",
      "label 2: 0.00%\n",
      "label 3: 14.29%\n",
      "label 4: 0.00%\n",
      "label 5: 85.71%\n"
     ]
    }
   ],
   "source": [
    "get_top_neurons_labels_stats(top_neurons_labels)"
   ]
  },
  {
   "cell_type": "markdown",
   "id": "55f1abcd",
   "metadata": {},
   "source": [
    "### Исследование наиболее успешных нейронов карт, обученных согласно пакетному алгоритму"
   ]
  },
  {
   "cell_type": "markdown",
   "id": "ac03ce1a",
   "metadata": {},
   "source": [
    "Выведем нейроны, которые чаще других оказывались победителями."
   ]
  },
  {
   "cell_type": "code",
   "execution_count": 120,
   "id": "a2406da9",
   "metadata": {},
   "outputs": [
    {
     "name": "stdout",
     "output_type": "stream",
     "text": [
      "Neuron #1:\n",
      " [2.65390909e-01 3.61881985e-01 7.74515788e-01 3.41971136e-01\n",
      " 5.68053879e-01 9.07871127e-02 2.74163561e-01 6.73400000e-04\n",
      " 1.78253030e-03]\n",
      "Neuron #2:\n",
      " [0.422827   0.493609   0.74855235 0.24454832 0.38133209 0.03574879\n",
      " 0.36617085 0.00174603 0.        ]\n",
      "Neuron #3:\n",
      " [0.28455756 0.38972433 0.76763178 0.34977506 0.53085256 0.08838786\n",
      " 0.279998   0.00634921 0.24074067]\n"
     ]
    }
   ],
   "source": [
    "top_n = 3\n",
    "\n",
    "test_win_map = get_win_map(best_package_alg_model, X_train)\n",
    "# test_win_map = get_win_map(best_consistent_alg_model, X_train)\n",
    "score_board = get_score_board(test_win_map)\n",
    "\n",
    "top_neurons = get_top_neurons(score_board, top_n)\n",
    "\n",
    "for num, top_neuron in enumerate(top_neurons):\n",
    "    i_top_neuron, j_top_neuron = top_neuron\n",
    "    print(f'Neuron #{num + 1}:\\n', best_package_alg_model.map[i_top_neuron, j_top_neuron])"
   ]
  },
  {
   "cell_type": "markdown",
   "id": "fd657360",
   "metadata": {},
   "source": [
    "Проанализируем распределение классов для каждого успешного нейрона."
   ]
  },
  {
   "cell_type": "code",
   "execution_count": 121,
   "id": "d9319cce",
   "metadata": {},
   "outputs": [
    {
     "data": {
      "image/png": "[encoded data removed]",
      "text/plain": [
       "<Figure size 432x288 with 3 Axes>"
      ]
     },
     "metadata": {
      "needs_background": "light"
     },
     "output_type": "display_data"
    }
   ],
   "source": [
    "win_map_labels = get_win_map_labels(best_package_alg_model, X, y)\n",
    "\n",
    "top_neurons_labels = get_top_neurons_labels(win_map_labels, top_neurons)\n",
    "\n",
    "plot_top_neurons_labels(top_neurons_labels)"
   ]
  },
  {
   "cell_type": "markdown",
   "id": "66c88e48",
   "metadata": {},
   "source": [
    "Для выбранных узлов определим, сколько соответствующих им векторов относятся к каждому классу."
   ]
  },
  {
   "cell_type": "code",
   "execution_count": 122,
   "id": "b90ebe3c",
   "metadata": {},
   "outputs": [
    {
     "name": "stdout",
     "output_type": "stream",
     "text": [
      "Neuron #1\n",
      "label 0: 37.80%\n",
      "label 1: 45.12%\n",
      "label 2: 12.20%\n",
      "label 3: 0.00%\n",
      "label 4: 2.44%\n",
      "label 5: 2.44%\n",
      "Neuron #2\n",
      "label 0: 61.54%\n",
      "label 1: 7.69%\n",
      "label 2: 7.69%\n",
      "label 3: 0.00%\n",
      "label 4: 11.54%\n",
      "label 5: 11.54%\n",
      "Neuron #3\n",
      "label 0: 29.17%\n",
      "label 1: 58.33%\n",
      "label 2: 12.50%\n"
     ]
    }
   ],
   "source": [
    "get_top_neurons_labels_stats(top_neurons_labels)"
   ]
  },
  {
   "cell_type": "code",
   "execution_count": null,
   "id": "ad2281c5",
   "metadata": {},
   "outputs": [],
   "source": []
  }
 ],
 "metadata": {
  "kernelspec": {
   "display_name": "Python 3",
   "language": "python",
   "name": "python3"
  },
  "language_info": {
   "codemirror_mode": {
    "name": "ipython",
    "version": 3
   },
   "file_extension": ".py",
   "mimetype": "text/x-python",
   "name": "python",
   "nbconvert_exporter": "python",
   "pygments_lexer": "ipython3",
   "version": "3.8.8"
  }
 },
 "nbformat": 4,
 "nbformat_minor": 5
}
