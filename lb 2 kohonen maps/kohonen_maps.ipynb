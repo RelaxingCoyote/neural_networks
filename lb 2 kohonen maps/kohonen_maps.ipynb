{
 "cells": [
  {
   "cell_type": "markdown",
   "id": "dd926bc6",
   "metadata": {},
   "source": [
    "# Карты кохонена"
   ]
  },
  {
   "cell_type": "markdown",
   "id": "deda99d8",
   "metadata": {},
   "source": [
    "## Подключение библиотек"
   ]
  },
  {
   "cell_type": "code",
   "execution_count": 124,
   "id": "f9d2a6f6",
   "metadata": {},
   "outputs": [],
   "source": [
    "import pandas as pd\n",
    "import numpy as np\n",
    "import datatable as dt\n",
    "from tqdm import tqdm\n",
    "import matplotlib.pyplot as plt\n",
    "from copy import deepcopy, copy\n",
    "\n",
    "from sklearn.metrics import accuracy_score\n",
    "from sklearn.model_selection import train_test_split\n",
    "\n",
    "from warnings import filterwarnings\n",
    "\n",
    "np.random.seed(50)"
   ]
  },
  {
   "cell_type": "markdown",
   "id": "2f41a992",
   "metadata": {},
   "source": [
    "## Загрузка данных"
   ]
  },
  {
   "cell_type": "code",
   "execution_count": 2,
   "id": "e71f4abb",
   "metadata": {},
   "outputs": [
    {
     "data": {
      "text/html": [
       "<div class='datatable'>\n",
       "  <table class='frame'>\n",
       "  <thead>\n",
       "    <tr class='colnames'><td class='row_index'></td><th>C0</th><th>C1</th><th>C2</th><th>C3</th><th>C4</th><th>C5</th><th>C6</th><th>C7</th><th>C8</th><th>C9</th><th>C10</th><th>C11</th><th>C12</th><th>C13</th><th>C14</th></tr>\n",
       "    <tr class='coltypes'><td class='row_index'></td><td class='str' title='str32'>&#x25AA;&#x25AA;&#x25AA;&#x25AA;</td><td class='float' title='float64'>&#x25AA;&#x25AA;&#x25AA;&#x25AA;&#x25AA;&#x25AA;&#x25AA;&#x25AA;</td><td class='float' title='float64'>&#x25AA;&#x25AA;&#x25AA;&#x25AA;&#x25AA;&#x25AA;&#x25AA;&#x25AA;</td><td class='float' title='float64'>&#x25AA;&#x25AA;&#x25AA;&#x25AA;&#x25AA;&#x25AA;&#x25AA;&#x25AA;</td><td class='float' title='float64'>&#x25AA;&#x25AA;&#x25AA;&#x25AA;&#x25AA;&#x25AA;&#x25AA;&#x25AA;</td><td class='float' title='float64'>&#x25AA;&#x25AA;&#x25AA;&#x25AA;&#x25AA;&#x25AA;&#x25AA;&#x25AA;</td><td class='float' title='float64'>&#x25AA;&#x25AA;&#x25AA;&#x25AA;&#x25AA;&#x25AA;&#x25AA;&#x25AA;</td><td class='float' title='float64'>&#x25AA;&#x25AA;&#x25AA;&#x25AA;&#x25AA;&#x25AA;&#x25AA;&#x25AA;</td><td class='float' title='float64'>&#x25AA;&#x25AA;&#x25AA;&#x25AA;&#x25AA;&#x25AA;&#x25AA;&#x25AA;</td><td class='bool' title='bool8'>&#x25AA;</td><td class='bool' title='bool8'>&#x25AA;</td><td class='bool' title='bool8'>&#x25AA;</td><td class='bool' title='bool8'>&#x25AA;</td><td class='bool' title='bool8'>&#x25AA;</td><td class='bool' title='bool8'>&#x25AA;</td></tr>\n",
       "  </thead>\n",
       "  <tbody>\n",
       "    <tr><td class='row_index'>0</td><td>bool_in=0</td><td><span class=na>NA</span></td><td><span class=na>NA</span></td><td><span class=na>NA</span></td><td><span class=na>NA</span></td><td><span class=na>NA</span></td><td><span class=na>NA</span></td><td><span class=na>NA</span></td><td><span class=na>NA</span></td><td><span class=na>NA</span></td><td><span class=na>NA</span></td><td><span class=na>NA</span></td><td><span class=na>NA</span></td><td><span class=na>NA</span></td><td><span class=na>NA</span></td></tr>\n",
       "    <tr><td class='row_index'>1</td><td>real_in=9</td><td><span class=na>NA</span></td><td><span class=na>NA</span></td><td><span class=na>NA</span></td><td><span class=na>NA</span></td><td><span class=na>NA</span></td><td><span class=na>NA</span></td><td><span class=na>NA</span></td><td><span class=na>NA</span></td><td><span class=na>NA</span></td><td><span class=na>NA</span></td><td><span class=na>NA</span></td><td><span class=na>NA</span></td><td><span class=na>NA</span></td><td><span class=na>NA</span></td></tr>\n",
       "    <tr><td class='row_index'>2</td><td>bool_out=6</td><td><span class=na>NA</span></td><td><span class=na>NA</span></td><td><span class=na>NA</span></td><td><span class=na>NA</span></td><td><span class=na>NA</span></td><td><span class=na>NA</span></td><td><span class=na>NA</span></td><td><span class=na>NA</span></td><td><span class=na>NA</span></td><td><span class=na>NA</span></td><td><span class=na>NA</span></td><td><span class=na>NA</span></td><td><span class=na>NA</span></td><td><span class=na>NA</span></td></tr>\n",
       "    <tr><td class='row_index'>3</td><td>real_out=0</td><td><span class=na>NA</span></td><td><span class=na>NA</span></td><td><span class=na>NA</span></td><td><span class=na>NA</span></td><td><span class=na>NA</span></td><td><span class=na>NA</span></td><td><span class=na>NA</span></td><td><span class=na>NA</span></td><td><span class=na>NA</span></td><td><span class=na>NA</span></td><td><span class=na>NA</span></td><td><span class=na>NA</span></td><td><span class=na>NA</span></td><td><span class=na>NA</span></td></tr>\n",
       "    <tr><td class='row_index'>4</td><td>training_examples=107</td><td><span class=na>NA</span></td><td><span class=na>NA</span></td><td><span class=na>NA</span></td><td><span class=na>NA</span></td><td><span class=na>NA</span></td><td><span class=na>NA</span></td><td><span class=na>NA</span></td><td><span class=na>NA</span></td><td><span class=na>NA</span></td><td><span class=na>NA</span></td><td><span class=na>NA</span></td><td><span class=na>NA</span></td><td><span class=na>NA</span></td><td><span class=na>NA</span></td></tr>\n",
       "    <tr><td class='row_index'>5</td><td>validation_examples=54</td><td><span class=na>NA</span></td><td><span class=na>NA</span></td><td><span class=na>NA</span></td><td><span class=na>NA</span></td><td><span class=na>NA</span></td><td><span class=na>NA</span></td><td><span class=na>NA</span></td><td><span class=na>NA</span></td><td><span class=na>NA</span></td><td><span class=na>NA</span></td><td><span class=na>NA</span></td><td><span class=na>NA</span></td><td><span class=na>NA</span></td><td><span class=na>NA</span></td></tr>\n",
       "    <tr><td class='row_index'>6</td><td>test_examples=53</td><td><span class=na>NA</span></td><td><span class=na>NA</span></td><td><span class=na>NA</span></td><td><span class=na>NA</span></td><td><span class=na>NA</span></td><td><span class=na>NA</span></td><td><span class=na>NA</span></td><td><span class=na>NA</span></td><td><span class=na>NA</span></td><td><span class=na>NA</span></td><td><span class=na>NA</span></td><td><span class=na>NA</span></td><td><span class=na>NA</span></td><td><span class=na>NA</span></td></tr>\n",
       "    <tr><td class='row_index'>7</td><td>0.226514</td><td>0.392481</td><td>0.7951</td><td>0.398754</td><td>0.574109</td><td>0.0982287</td><td>0.228625</td><td>0</td><td>0</td><td>0</td><td>1</td><td>0</td><td>0</td><td>0</td><td>0</td></tr>\n",
       "    <tr><td class='row_index'>8</td><td>0.283582</td><td>0.475188</td><td>0.801782</td><td>0.333333</td><td>0.547842</td><td>0.0772947</td><td>0.223048</td><td>0</td><td>0</td><td>1</td><td>0</td><td>0</td><td>0</td><td>0</td><td>0</td></tr>\n",
       "    <tr><td class='row_index'>9</td><td>0.243635</td><td>0.377444</td><td>0.7951</td><td>0.339564</td><td>0.542214</td><td>0.0901771</td><td>0.27974</td><td>0</td><td>0.196078</td><td>0</td><td>0</td><td>1</td><td>0</td><td>0</td><td>0</td></tr>\n",
       "    <tr><td class='row_index'>10</td><td>0.308604</td><td>0.449624</td><td>0</td><td>0.0841121</td><td>0.870544</td><td>0</td><td>0.516729</td><td>0</td><td>0</td><td>0</td><td>1</td><td>0</td><td>0</td><td>0</td><td>0</td></tr>\n",
       "    <tr><td class='row_index'>11</td><td>0.287094</td><td>0.439098</td><td>0.815145</td><td>0.255452</td><td>0.555347</td><td>0.0177134</td><td>0.29461</td><td>0</td><td>0</td><td>0</td><td>0</td><td>1</td><td>0</td><td>0</td><td>0</td></tr>\n",
       "    <tr><td class='row_index'>12</td><td>0.216857</td><td>0.643609</td><td>0</td><td>0.691589</td><td>0.60788</td><td>0.00805153</td><td>0.315985</td><td>0.168254</td><td>0</td><td>0</td><td>0</td><td>0</td><td>0</td><td>0</td><td>1</td></tr>\n",
       "    <tr><td class='row_index'>13</td><td>0.41396</td><td>0.318797</td><td>0.358575</td><td>0.58567</td><td>0.444653</td><td>0.122383</td><td>0.39684</td><td>0.0761905</td><td>1</td><td>0</td><td>0</td><td>0</td><td>1</td><td>0</td><td>0</td></tr>\n",
       "    <tr><td class='row_index'>14</td><td>0.0882353</td><td>0.344361</td><td>0</td><td>0.856698</td><td>0.125704</td><td>1</td><td>0.142193</td><td>0</td><td>0</td><td>0</td><td>0</td><td>0</td><td>1</td><td>0</td><td>0</td></tr>\n",
       "    <tr><td class='row_index'>&#x22EE;</td><td class='hellipsis'>&#x22EE;</td><td class='hellipsis'>&#x22EE;</td><td class='hellipsis'>&#x22EE;</td><td class='hellipsis'>&#x22EE;</td><td class='hellipsis'>&#x22EE;</td><td class='hellipsis'>&#x22EE;</td><td class='hellipsis'>&#x22EE;</td><td class='hellipsis'>&#x22EE;</td><td class='hellipsis'>&#x22EE;</td><td class='hellipsis'>&#x22EE;</td><td class='hellipsis'>&#x22EE;</td><td class='hellipsis'>&#x22EE;</td><td class='hellipsis'>&#x22EE;</td><td class='hellipsis'>&#x22EE;</td><td class='hellipsis'>&#x22EE;</td></tr>\n",
       "    <tr><td class='row_index'>216</td><td>0.291045</td><td>0.372932</td><td>0.625835</td><td>0.311526</td><td>0.594747</td><td>0.0821256</td><td>0.333643</td><td>0</td><td>0.176471</td><td>1</td><td>0</td><td>0</td><td>0</td><td>0</td><td>0</td></tr>\n",
       "    <tr><td class='row_index'>217</td><td>0.28007</td><td>0.276692</td><td>0.772829</td><td>0.339564</td><td>0.67167</td><td>0.0966184</td><td>0.289963</td><td>0</td><td>0.117647</td><td>1</td><td>0</td><td>0</td><td>0</td><td>0</td><td>0</td></tr>\n",
       "    <tr><td class='row_index'>218</td><td>0.882353</td><td>0</td><td>0</td><td>0.563863</td><td>0</td><td>0.0933977</td><td>0.731413</td><td>1</td><td>0.54902</td><td>0</td><td>1</td><td>0</td><td>0</td><td>0</td><td>0</td></tr>\n",
       "    <tr><td class='row_index'>219</td><td>0.265145</td><td>0.604511</td><td>0</td><td>0.53271</td><td>0.602251</td><td>0</td><td>0.288104</td><td>0.504762</td><td>0.156863</td><td>0</td><td>0</td><td>0</td><td>0</td><td>0</td><td>1</td></tr>\n",
       "    <tr><td class='row_index'>220</td><td>0.441615</td><td>0.496241</td><td>0.837416</td><td>0.0903427</td><td>0.371482</td><td>0.0177134</td><td>0.392193</td><td>0</td><td>0</td><td>0</td><td>0</td><td>1</td><td>0</td><td>0</td><td>0</td></tr>\n",
       "  </tbody>\n",
       "  </table>\n",
       "  <div class='footer'>\n",
       "    <div class='frame_dimensions'>221 rows &times; 15 columns</div>\n",
       "  </div>\n",
       "</div>\n"
      ],
      "text/plain": [
       "<Frame#1ac388a4fc0 221x15>"
      ]
     },
     "execution_count": 2,
     "metadata": {},
     "output_type": "execute_result"
    }
   ],
   "source": [
    "DT = dt.fread('data/glass3.dt')\n",
    "DT"
   ]
  },
  {
   "cell_type": "markdown",
   "id": "6b23133c",
   "metadata": {},
   "source": [
    "## Подготовка данных"
   ]
  },
  {
   "cell_type": "markdown",
   "id": "58ee6edb",
   "metadata": {},
   "source": [
    "Удалим лишние строки"
   ]
  },
  {
   "cell_type": "code",
   "execution_count": 3,
   "id": "9b88c1f7",
   "metadata": {},
   "outputs": [
    {
     "data": {
      "text/html": [
       "<div class='datatable'>\n",
       "  <table class='frame'>\n",
       "  <thead>\n",
       "    <tr class='colnames'><td class='row_index'></td><th>C0</th><th>C1</th><th>C2</th><th>C3</th><th>C4</th><th>C5</th><th>C6</th><th>C7</th><th>C8</th><th>C9</th><th>C10</th><th>C11</th><th>C12</th><th>C13</th><th>C14</th></tr>\n",
       "    <tr class='coltypes'><td class='row_index'></td><td class='str' title='str32'>&#x25AA;&#x25AA;&#x25AA;&#x25AA;</td><td class='float' title='float64'>&#x25AA;&#x25AA;&#x25AA;&#x25AA;&#x25AA;&#x25AA;&#x25AA;&#x25AA;</td><td class='float' title='float64'>&#x25AA;&#x25AA;&#x25AA;&#x25AA;&#x25AA;&#x25AA;&#x25AA;&#x25AA;</td><td class='float' title='float64'>&#x25AA;&#x25AA;&#x25AA;&#x25AA;&#x25AA;&#x25AA;&#x25AA;&#x25AA;</td><td class='float' title='float64'>&#x25AA;&#x25AA;&#x25AA;&#x25AA;&#x25AA;&#x25AA;&#x25AA;&#x25AA;</td><td class='float' title='float64'>&#x25AA;&#x25AA;&#x25AA;&#x25AA;&#x25AA;&#x25AA;&#x25AA;&#x25AA;</td><td class='float' title='float64'>&#x25AA;&#x25AA;&#x25AA;&#x25AA;&#x25AA;&#x25AA;&#x25AA;&#x25AA;</td><td class='float' title='float64'>&#x25AA;&#x25AA;&#x25AA;&#x25AA;&#x25AA;&#x25AA;&#x25AA;&#x25AA;</td><td class='float' title='float64'>&#x25AA;&#x25AA;&#x25AA;&#x25AA;&#x25AA;&#x25AA;&#x25AA;&#x25AA;</td><td class='bool' title='bool8'>&#x25AA;</td><td class='bool' title='bool8'>&#x25AA;</td><td class='bool' title='bool8'>&#x25AA;</td><td class='bool' title='bool8'>&#x25AA;</td><td class='bool' title='bool8'>&#x25AA;</td><td class='bool' title='bool8'>&#x25AA;</td></tr>\n",
       "  </thead>\n",
       "  <tbody>\n",
       "    <tr><td class='row_index'>0</td><td>0.226514</td><td>0.392481</td><td>0.7951</td><td>0.398754</td><td>0.574109</td><td>0.0982287</td><td>0.228625</td><td>0</td><td>0</td><td>0</td><td>1</td><td>0</td><td>0</td><td>0</td><td>0</td></tr>\n",
       "    <tr><td class='row_index'>1</td><td>0.283582</td><td>0.475188</td><td>0.801782</td><td>0.333333</td><td>0.547842</td><td>0.0772947</td><td>0.223048</td><td>0</td><td>0</td><td>1</td><td>0</td><td>0</td><td>0</td><td>0</td><td>0</td></tr>\n",
       "    <tr><td class='row_index'>2</td><td>0.243635</td><td>0.377444</td><td>0.7951</td><td>0.339564</td><td>0.542214</td><td>0.0901771</td><td>0.27974</td><td>0</td><td>0.196078</td><td>0</td><td>0</td><td>1</td><td>0</td><td>0</td><td>0</td></tr>\n",
       "    <tr><td class='row_index'>3</td><td>0.308604</td><td>0.449624</td><td>0</td><td>0.0841121</td><td>0.870544</td><td>0</td><td>0.516729</td><td>0</td><td>0</td><td>0</td><td>1</td><td>0</td><td>0</td><td>0</td><td>0</td></tr>\n",
       "    <tr><td class='row_index'>4</td><td>0.287094</td><td>0.439098</td><td>0.815145</td><td>0.255452</td><td>0.555347</td><td>0.0177134</td><td>0.29461</td><td>0</td><td>0</td><td>0</td><td>0</td><td>1</td><td>0</td><td>0</td><td>0</td></tr>\n",
       "    <tr><td class='row_index'>5</td><td>0.216857</td><td>0.643609</td><td>0</td><td>0.691589</td><td>0.60788</td><td>0.00805153</td><td>0.315985</td><td>0.168254</td><td>0</td><td>0</td><td>0</td><td>0</td><td>0</td><td>0</td><td>1</td></tr>\n",
       "    <tr><td class='row_index'>6</td><td>0.41396</td><td>0.318797</td><td>0.358575</td><td>0.58567</td><td>0.444653</td><td>0.122383</td><td>0.39684</td><td>0.0761905</td><td>1</td><td>0</td><td>0</td><td>0</td><td>1</td><td>0</td><td>0</td></tr>\n",
       "    <tr><td class='row_index'>7</td><td>0.0882353</td><td>0.344361</td><td>0</td><td>0.856698</td><td>0.125704</td><td>1</td><td>0.142193</td><td>0</td><td>0</td><td>0</td><td>0</td><td>0</td><td>1</td><td>0</td><td>0</td></tr>\n",
       "    <tr><td class='row_index'>8</td><td>0.385865</td><td>0.381955</td><td>0</td><td>0.457944</td><td>0.604128</td><td>0.0756844</td><td>0.547398</td><td>0</td><td>0</td><td>0</td><td>0</td><td>0</td><td>1</td><td>0</td><td>0</td></tr>\n",
       "    <tr><td class='row_index'>9</td><td>0.318701</td><td>0.330827</td><td>0.832962</td><td>0.255452</td><td>0.463415</td><td>0.10306</td><td>0.328067</td><td>0</td><td>0.431373</td><td>0</td><td>1</td><td>0</td><td>0</td><td>0</td><td>0</td></tr>\n",
       "    <tr><td class='row_index'>10</td><td>0.230465</td><td>0.547368</td><td>0</td><td>0.76324</td><td>0.570356</td><td>0</td><td>0.373606</td><td>0.171429</td><td>0</td><td>0</td><td>0</td><td>0</td><td>0</td><td>0</td><td>1</td></tr>\n",
       "    <tr><td class='row_index'>11</td><td>0.658033</td><td>0.446617</td><td>0</td><td>0.333333</td><td>0.268293</td><td>0.0305958</td><td>0.744424</td><td>0</td><td>0.196078</td><td>0</td><td>1</td><td>0</td><td>0</td><td>0</td><td>0</td></tr>\n",
       "    <tr><td class='row_index'>12</td><td>0.225637</td><td>0.297744</td><td>0.741648</td><td>0.373832</td><td>0.651032</td><td>0.10789</td><td>0.261152</td><td>0</td><td>0</td><td>0</td><td>1</td><td>0</td><td>0</td><td>0</td><td>0</td></tr>\n",
       "    <tr><td class='row_index'>13</td><td>0.474539</td><td>0.545865</td><td>0.857461</td><td>0.186916</td><td>0.290807</td><td>0.0241546</td><td>0.345725</td><td>0</td><td>0</td><td>1</td><td>0</td><td>0</td><td>0</td><td>0</td><td>0</td></tr>\n",
       "    <tr><td class='row_index'>14</td><td>0.311238</td><td>0.321805</td><td>0.775056</td><td>0.311526</td><td>0.589118</td><td>0.0966184</td><td>0.27881</td><td>0</td><td>0</td><td>1</td><td>0</td><td>0</td><td>0</td><td>0</td><td>0</td></tr>\n",
       "    <tr><td class='row_index'>&#x22EE;</td><td class='hellipsis'>&#x22EE;</td><td class='hellipsis'>&#x22EE;</td><td class='hellipsis'>&#x22EE;</td><td class='hellipsis'>&#x22EE;</td><td class='hellipsis'>&#x22EE;</td><td class='hellipsis'>&#x22EE;</td><td class='hellipsis'>&#x22EE;</td><td class='hellipsis'>&#x22EE;</td><td class='hellipsis'>&#x22EE;</td><td class='hellipsis'>&#x22EE;</td><td class='hellipsis'>&#x22EE;</td><td class='hellipsis'>&#x22EE;</td><td class='hellipsis'>&#x22EE;</td><td class='hellipsis'>&#x22EE;</td><td class='hellipsis'>&#x22EE;</td></tr>\n",
       "    <tr><td class='row_index'>209</td><td>0.291045</td><td>0.372932</td><td>0.625835</td><td>0.311526</td><td>0.594747</td><td>0.0821256</td><td>0.333643</td><td>0</td><td>0.176471</td><td>1</td><td>0</td><td>0</td><td>0</td><td>0</td><td>0</td></tr>\n",
       "    <tr><td class='row_index'>210</td><td>0.28007</td><td>0.276692</td><td>0.772829</td><td>0.339564</td><td>0.67167</td><td>0.0966184</td><td>0.289963</td><td>0</td><td>0.117647</td><td>1</td><td>0</td><td>0</td><td>0</td><td>0</td><td>0</td></tr>\n",
       "    <tr><td class='row_index'>211</td><td>0.882353</td><td>0</td><td>0</td><td>0.563863</td><td>0</td><td>0.0933977</td><td>0.731413</td><td>1</td><td>0.54902</td><td>0</td><td>1</td><td>0</td><td>0</td><td>0</td><td>0</td></tr>\n",
       "    <tr><td class='row_index'>212</td><td>0.265145</td><td>0.604511</td><td>0</td><td>0.53271</td><td>0.602251</td><td>0</td><td>0.288104</td><td>0.504762</td><td>0.156863</td><td>0</td><td>0</td><td>0</td><td>0</td><td>0</td><td>1</td></tr>\n",
       "    <tr><td class='row_index'>213</td><td>0.441615</td><td>0.496241</td><td>0.837416</td><td>0.0903427</td><td>0.371482</td><td>0.0177134</td><td>0.392193</td><td>0</td><td>0</td><td>0</td><td>0</td><td>1</td><td>0</td><td>0</td><td>0</td></tr>\n",
       "  </tbody>\n",
       "  </table>\n",
       "  <div class='footer'>\n",
       "    <div class='frame_dimensions'>214 rows &times; 15 columns</div>\n",
       "  </div>\n",
       "</div>\n"
      ],
      "text/plain": [
       "<Frame#1ac388a4fc0 214x15>"
      ]
     },
     "execution_count": 3,
     "metadata": {},
     "output_type": "execute_result"
    }
   ],
   "source": [
    "del DT[0:7,:]\n",
    "DT"
   ]
  },
  {
   "cell_type": "markdown",
   "id": "f1aee708",
   "metadata": {},
   "source": [
    "Представим таблицу с данными в виде DataFrame Pandas."
   ]
  },
  {
   "cell_type": "code",
   "execution_count": 4,
   "id": "e748260f",
   "metadata": {},
   "outputs": [
    {
     "data": {
      "text/html": [
       "<div>\n",
       "<style scoped>\n",
       "    .dataframe tbody tr th:only-of-type {\n",
       "        vertical-align: middle;\n",
       "    }\n",
       "\n",
       "    .dataframe tbody tr th {\n",
       "        vertical-align: top;\n",
       "    }\n",
       "\n",
       "    .dataframe thead th {\n",
       "        text-align: right;\n",
       "    }\n",
       "</style>\n",
       "<table border=\"1\" class=\"dataframe\">\n",
       "  <thead>\n",
       "    <tr style=\"text-align: right;\">\n",
       "      <th></th>\n",
       "      <th>C0</th>\n",
       "      <th>C1</th>\n",
       "      <th>C2</th>\n",
       "      <th>C3</th>\n",
       "      <th>C4</th>\n",
       "      <th>C5</th>\n",
       "      <th>C6</th>\n",
       "      <th>C7</th>\n",
       "      <th>C8</th>\n",
       "      <th>C9</th>\n",
       "      <th>C10</th>\n",
       "      <th>C11</th>\n",
       "      <th>C12</th>\n",
       "      <th>C13</th>\n",
       "      <th>C14</th>\n",
       "    </tr>\n",
       "  </thead>\n",
       "  <tbody>\n",
       "    <tr>\n",
       "      <th>0</th>\n",
       "      <td>0.226514</td>\n",
       "      <td>0.392481</td>\n",
       "      <td>0.795100</td>\n",
       "      <td>0.398754</td>\n",
       "      <td>0.574109</td>\n",
       "      <td>0.098229</td>\n",
       "      <td>0.228625</td>\n",
       "      <td>0.000000</td>\n",
       "      <td>0.000000</td>\n",
       "      <td>False</td>\n",
       "      <td>True</td>\n",
       "      <td>False</td>\n",
       "      <td>False</td>\n",
       "      <td>False</td>\n",
       "      <td>False</td>\n",
       "    </tr>\n",
       "    <tr>\n",
       "      <th>1</th>\n",
       "      <td>0.283582</td>\n",
       "      <td>0.475188</td>\n",
       "      <td>0.801782</td>\n",
       "      <td>0.333333</td>\n",
       "      <td>0.547842</td>\n",
       "      <td>0.077295</td>\n",
       "      <td>0.223048</td>\n",
       "      <td>0.000000</td>\n",
       "      <td>0.000000</td>\n",
       "      <td>True</td>\n",
       "      <td>False</td>\n",
       "      <td>False</td>\n",
       "      <td>False</td>\n",
       "      <td>False</td>\n",
       "      <td>False</td>\n",
       "    </tr>\n",
       "    <tr>\n",
       "      <th>2</th>\n",
       "      <td>0.243635</td>\n",
       "      <td>0.377444</td>\n",
       "      <td>0.795100</td>\n",
       "      <td>0.339564</td>\n",
       "      <td>0.542214</td>\n",
       "      <td>0.090177</td>\n",
       "      <td>0.279740</td>\n",
       "      <td>0.000000</td>\n",
       "      <td>0.196078</td>\n",
       "      <td>False</td>\n",
       "      <td>False</td>\n",
       "      <td>True</td>\n",
       "      <td>False</td>\n",
       "      <td>False</td>\n",
       "      <td>False</td>\n",
       "    </tr>\n",
       "    <tr>\n",
       "      <th>3</th>\n",
       "      <td>0.308604</td>\n",
       "      <td>0.449624</td>\n",
       "      <td>0.000000</td>\n",
       "      <td>0.084112</td>\n",
       "      <td>0.870544</td>\n",
       "      <td>0.000000</td>\n",
       "      <td>0.516729</td>\n",
       "      <td>0.000000</td>\n",
       "      <td>0.000000</td>\n",
       "      <td>False</td>\n",
       "      <td>True</td>\n",
       "      <td>False</td>\n",
       "      <td>False</td>\n",
       "      <td>False</td>\n",
       "      <td>False</td>\n",
       "    </tr>\n",
       "    <tr>\n",
       "      <th>4</th>\n",
       "      <td>0.287094</td>\n",
       "      <td>0.439098</td>\n",
       "      <td>0.815145</td>\n",
       "      <td>0.255452</td>\n",
       "      <td>0.555347</td>\n",
       "      <td>0.017713</td>\n",
       "      <td>0.294610</td>\n",
       "      <td>0.000000</td>\n",
       "      <td>0.000000</td>\n",
       "      <td>False</td>\n",
       "      <td>False</td>\n",
       "      <td>True</td>\n",
       "      <td>False</td>\n",
       "      <td>False</td>\n",
       "      <td>False</td>\n",
       "    </tr>\n",
       "    <tr>\n",
       "      <th>...</th>\n",
       "      <td>...</td>\n",
       "      <td>...</td>\n",
       "      <td>...</td>\n",
       "      <td>...</td>\n",
       "      <td>...</td>\n",
       "      <td>...</td>\n",
       "      <td>...</td>\n",
       "      <td>...</td>\n",
       "      <td>...</td>\n",
       "      <td>...</td>\n",
       "      <td>...</td>\n",
       "      <td>...</td>\n",
       "      <td>...</td>\n",
       "      <td>...</td>\n",
       "      <td>...</td>\n",
       "    </tr>\n",
       "    <tr>\n",
       "      <th>209</th>\n",
       "      <td>0.291045</td>\n",
       "      <td>0.372932</td>\n",
       "      <td>0.625835</td>\n",
       "      <td>0.311526</td>\n",
       "      <td>0.594747</td>\n",
       "      <td>0.082126</td>\n",
       "      <td>0.333643</td>\n",
       "      <td>0.000000</td>\n",
       "      <td>0.176471</td>\n",
       "      <td>True</td>\n",
       "      <td>False</td>\n",
       "      <td>False</td>\n",
       "      <td>False</td>\n",
       "      <td>False</td>\n",
       "      <td>False</td>\n",
       "    </tr>\n",
       "    <tr>\n",
       "      <th>210</th>\n",
       "      <td>0.28007</td>\n",
       "      <td>0.276692</td>\n",
       "      <td>0.772829</td>\n",
       "      <td>0.339564</td>\n",
       "      <td>0.671670</td>\n",
       "      <td>0.096618</td>\n",
       "      <td>0.289963</td>\n",
       "      <td>0.000000</td>\n",
       "      <td>0.117647</td>\n",
       "      <td>True</td>\n",
       "      <td>False</td>\n",
       "      <td>False</td>\n",
       "      <td>False</td>\n",
       "      <td>False</td>\n",
       "      <td>False</td>\n",
       "    </tr>\n",
       "    <tr>\n",
       "      <th>211</th>\n",
       "      <td>0.882353</td>\n",
       "      <td>0.000000</td>\n",
       "      <td>0.000000</td>\n",
       "      <td>0.563863</td>\n",
       "      <td>0.000000</td>\n",
       "      <td>0.093398</td>\n",
       "      <td>0.731413</td>\n",
       "      <td>1.000000</td>\n",
       "      <td>0.549020</td>\n",
       "      <td>False</td>\n",
       "      <td>True</td>\n",
       "      <td>False</td>\n",
       "      <td>False</td>\n",
       "      <td>False</td>\n",
       "      <td>False</td>\n",
       "    </tr>\n",
       "    <tr>\n",
       "      <th>212</th>\n",
       "      <td>0.265145</td>\n",
       "      <td>0.604511</td>\n",
       "      <td>0.000000</td>\n",
       "      <td>0.532710</td>\n",
       "      <td>0.602251</td>\n",
       "      <td>0.000000</td>\n",
       "      <td>0.288104</td>\n",
       "      <td>0.504762</td>\n",
       "      <td>0.156863</td>\n",
       "      <td>False</td>\n",
       "      <td>False</td>\n",
       "      <td>False</td>\n",
       "      <td>False</td>\n",
       "      <td>False</td>\n",
       "      <td>True</td>\n",
       "    </tr>\n",
       "    <tr>\n",
       "      <th>213</th>\n",
       "      <td>0.441615</td>\n",
       "      <td>0.496241</td>\n",
       "      <td>0.837416</td>\n",
       "      <td>0.090343</td>\n",
       "      <td>0.371482</td>\n",
       "      <td>0.017713</td>\n",
       "      <td>0.392193</td>\n",
       "      <td>0.000000</td>\n",
       "      <td>0.000000</td>\n",
       "      <td>False</td>\n",
       "      <td>False</td>\n",
       "      <td>True</td>\n",
       "      <td>False</td>\n",
       "      <td>False</td>\n",
       "      <td>False</td>\n",
       "    </tr>\n",
       "  </tbody>\n",
       "</table>\n",
       "<p>214 rows × 15 columns</p>\n",
       "</div>"
      ],
      "text/plain": [
       "           C0        C1        C2        C3        C4        C5        C6  \\\n",
       "0    0.226514  0.392481  0.795100  0.398754  0.574109  0.098229  0.228625   \n",
       "1    0.283582  0.475188  0.801782  0.333333  0.547842  0.077295  0.223048   \n",
       "2    0.243635  0.377444  0.795100  0.339564  0.542214  0.090177  0.279740   \n",
       "3    0.308604  0.449624  0.000000  0.084112  0.870544  0.000000  0.516729   \n",
       "4    0.287094  0.439098  0.815145  0.255452  0.555347  0.017713  0.294610   \n",
       "..        ...       ...       ...       ...       ...       ...       ...   \n",
       "209  0.291045  0.372932  0.625835  0.311526  0.594747  0.082126  0.333643   \n",
       "210   0.28007  0.276692  0.772829  0.339564  0.671670  0.096618  0.289963   \n",
       "211  0.882353  0.000000  0.000000  0.563863  0.000000  0.093398  0.731413   \n",
       "212  0.265145  0.604511  0.000000  0.532710  0.602251  0.000000  0.288104   \n",
       "213  0.441615  0.496241  0.837416  0.090343  0.371482  0.017713  0.392193   \n",
       "\n",
       "           C7        C8     C9    C10    C11    C12    C13    C14  \n",
       "0    0.000000  0.000000  False   True  False  False  False  False  \n",
       "1    0.000000  0.000000   True  False  False  False  False  False  \n",
       "2    0.000000  0.196078  False  False   True  False  False  False  \n",
       "3    0.000000  0.000000  False   True  False  False  False  False  \n",
       "4    0.000000  0.000000  False  False   True  False  False  False  \n",
       "..        ...       ...    ...    ...    ...    ...    ...    ...  \n",
       "209  0.000000  0.176471   True  False  False  False  False  False  \n",
       "210  0.000000  0.117647   True  False  False  False  False  False  \n",
       "211  1.000000  0.549020  False   True  False  False  False  False  \n",
       "212  0.504762  0.156863  False  False  False  False  False   True  \n",
       "213  0.000000  0.000000  False  False   True  False  False  False  \n",
       "\n",
       "[214 rows x 15 columns]"
      ]
     },
     "execution_count": 4,
     "metadata": {},
     "output_type": "execute_result"
    }
   ],
   "source": [
    "import pandas as pd\n",
    "df = pd.DataFrame(DT.to_pandas())\n",
    "df"
   ]
  },
  {
   "cell_type": "code",
   "execution_count": 5,
   "id": "c08759f8",
   "metadata": {},
   "outputs": [
    {
     "name": "stdout",
     "output_type": "stream",
     "text": [
      "<class 'pandas.core.frame.DataFrame'>\n",
      "RangeIndex: 214 entries, 0 to 213\n",
      "Data columns (total 15 columns):\n",
      " #   Column  Non-Null Count  Dtype  \n",
      "---  ------  --------------  -----  \n",
      " 0   C0      214 non-null    object \n",
      " 1   C1      214 non-null    float64\n",
      " 2   C2      214 non-null    float64\n",
      " 3   C3      214 non-null    float64\n",
      " 4   C4      214 non-null    float64\n",
      " 5   C5      214 non-null    float64\n",
      " 6   C6      214 non-null    float64\n",
      " 7   C7      214 non-null    float64\n",
      " 8   C8      214 non-null    float64\n",
      " 9   C9      214 non-null    bool   \n",
      " 10  C10     214 non-null    bool   \n",
      " 11  C11     214 non-null    bool   \n",
      " 12  C12     214 non-null    bool   \n",
      " 13  C13     214 non-null    bool   \n",
      " 14  C14     214 non-null    bool   \n",
      "dtypes: bool(6), float64(8), object(1)\n",
      "memory usage: 16.4+ KB\n"
     ]
    }
   ],
   "source": [
    "df.info()"
   ]
  },
  {
   "cell_type": "markdown",
   "id": "b717f88e",
   "metadata": {},
   "source": [
    "Преобразуем все столбцы в тип float."
   ]
  },
  {
   "cell_type": "code",
   "execution_count": 6,
   "id": "9d766794",
   "metadata": {},
   "outputs": [
    {
     "name": "stdout",
     "output_type": "stream",
     "text": [
      "<class 'pandas.core.frame.DataFrame'>\n",
      "RangeIndex: 214 entries, 0 to 213\n",
      "Data columns (total 15 columns):\n",
      " #   Column  Non-Null Count  Dtype  \n",
      "---  ------  --------------  -----  \n",
      " 0   C0      214 non-null    float64\n",
      " 1   C1      214 non-null    float64\n",
      " 2   C2      214 non-null    float64\n",
      " 3   C3      214 non-null    float64\n",
      " 4   C4      214 non-null    float64\n",
      " 5   C5      214 non-null    float64\n",
      " 6   C6      214 non-null    float64\n",
      " 7   C7      214 non-null    float64\n",
      " 8   C8      214 non-null    float64\n",
      " 9   C9      214 non-null    float64\n",
      " 10  C10     214 non-null    float64\n",
      " 11  C11     214 non-null    float64\n",
      " 12  C12     214 non-null    float64\n",
      " 13  C13     214 non-null    float64\n",
      " 14  C14     214 non-null    float64\n",
      "dtypes: float64(15)\n",
      "memory usage: 25.2 KB\n"
     ]
    }
   ],
   "source": [
    "df = df.astype('float')\n",
    "df.info()"
   ]
  },
  {
   "cell_type": "markdown",
   "id": "97611007",
   "metadata": {},
   "source": [
    "Разделим данные на признаки и метки."
   ]
  },
  {
   "cell_type": "code",
   "execution_count": 7,
   "id": "2f8995b2",
   "metadata": {},
   "outputs": [],
   "source": [
    "# X = df\n",
    "X, y = df.iloc[:,0:9].to_numpy(), df.iloc[:,9:].to_numpy()"
   ]
  },
  {
   "cell_type": "markdown",
   "id": "039a9831",
   "metadata": {},
   "source": [
    "Стандартизация признаков."
   ]
  },
  {
   "cell_type": "code",
   "execution_count": 8,
   "id": "8422d757",
   "metadata": {},
   "outputs": [],
   "source": [
    "# from sklearn.preprocessing import StandardScaler\n",
    "\n",
    "# scaler = StandardScaler()\n",
    "# scaler.fit(X)\n",
    "# X = scaler.transform(X)"
   ]
  },
  {
   "cell_type": "markdown",
   "id": "21b5b239",
   "metadata": {},
   "source": [
    "Разбивка датасета на тренировочную и тестовую выборки."
   ]
  },
  {
   "cell_type": "code",
   "execution_count": 9,
   "id": "435b298a",
   "metadata": {},
   "outputs": [],
   "source": [
    "X_train, X_test, y_train, y_test = train_test_split(X,y,train_size=0.8)"
   ]
  },
  {
   "cell_type": "code",
   "execution_count": 10,
   "id": "e88f89d6",
   "metadata": {},
   "outputs": [],
   "source": [
    "def get_coordinates(i, j):\n",
    "    return i, j"
   ]
  },
  {
   "cell_type": "markdown",
   "id": "9f2af1b4",
   "metadata": {},
   "source": [
    "## Модель для карт Кохонена"
   ]
  },
  {
   "cell_type": "code",
   "execution_count": 233,
   "id": "9e30c8f6",
   "metadata": {},
   "outputs": [],
   "source": [
    "class KohonenMaps:\n",
    "    def __init__(self, maps_shape: tuple, learning_time=1000, radius_0=None):\n",
    "        self.map = np.random.rand(*maps_shape)\n",
    "        self.learning_time = learning_time\n",
    "        if radius_0 is None:\n",
    "            self.radius = min(maps_shape) // 2\n",
    "        else:\n",
    "            self.radius = radius_0\n",
    "#         self.speed_parameter_1 = self.learning_time / self.radius\n",
    "        self.speed_parameter_1 = self.get_speed_parameter()\n",
    "    \n",
    "    def save_weights(self, save_path):\n",
    "        \"\"\"Сохраняет веса модели\"\"\"\n",
    "        with open(save_path, 'wb') as f:\n",
    "            np.save(f, np.array(self.map))\n",
    "            \n",
    "    def load_weights(self, load_path):\n",
    "        \"\"\"Загружает веса модели\"\"\"\n",
    "        with open(load_path, 'rb') as f:\n",
    "            self.map = np.load(f)\n",
    "        \n",
    "    def activation_function(self, input_vector):\n",
    "        map_result = np.apply_along_axis(np.linalg.norm, 2, self.map - input_vector)\n",
    "        activation_result = np.exp(-map_result)\n",
    "        return activation_result\n",
    "    \n",
    "    def get_winner_neuron(self, input_vector):\n",
    "        activation_result = self.activation_function(input_vector)\n",
    "        \n",
    "        winer_x, winer_y = np.where(activation_result==activation_result.max())\n",
    "        \n",
    "#         return [int(winer_x), int(winer_y)]\n",
    "#         return np.array([int(winer_x), int(winer_y)])\n",
    "        return np.array([int(winer_x), int(winer_y)])\n",
    "#         return np.array([winer_x[0], winer_y[0]], dtype=np.int32)   \n",
    "#         return np.ndarray([winer_x, winer_y], dtype=np.int32)   \n",
    "            \n",
    "    # Можно посчитать при инициализации\n",
    "    def get_speed_parameter(self):\n",
    "        return self.learning_time / self.radius\n",
    "        \n",
    "    def get_effective_width(self, current_time=1):\n",
    "        \"\"\"\n",
    "        Рассчитывает эффективную ширину,\n",
    "        определяющую размер окрестности вокруг нейрона победителя,\n",
    "        в которой производится коррекция весов\n",
    "        \"\"\"\n",
    "        effective_radius = self.radius * np.exp(-current_time/self.speed_parameter_1)\n",
    "        return effective_radius\n",
    "    \n",
    "    def get_neuron_distance(self, neuron_coord, winer_neuron_coord):\n",
    "        \"\"\"Рассчитывает расстояние между нейронами\"\"\"\n",
    "        neuron_distance = np.linalg.norm(neuron_coord - winer_neuron_coord)\n",
    "        return neuron_distance\n",
    "    \n",
    "    def h_distance_func(self, neuron_coord, winer_neuron_coord, current_time):\n",
    "        \"\"\"Функция затухиня от расстояния от j-го нейрона до победителя\"\"\"\n",
    "        effective_width = self.get_effective_width(current_time)\n",
    "        neuron_distance = self.get_neuron_distance(neuron_coord, winer_neuron_coord)\n",
    "        return np.exp(-neuron_distance**2/2/effective_width**2)"
   ]
  },
  {
   "cell_type": "markdown",
   "id": "27cb8a30",
   "metadata": {},
   "source": [
    "## Ошибка представления карты Кохонена"
   ]
  },
  {
   "cell_type": "code",
   "execution_count": 12,
   "id": "35ad8972",
   "metadata": {},
   "outputs": [],
   "source": [
    "def get_single_input_error(kohonen_map_model, input_vector):\n",
    "    winer_neuron = kohonen_map_model.get_winner_neuron(input_vector)\n",
    "\n",
    "    winer_neuron_i, winer_neuron_j = get_coordinates(*winer_neuron)\n",
    "\n",
    "    single_input_error = np.linalg.norm(\n",
    "                                        kohonen_map_model.map[winer_neuron_i,\n",
    "                                                                    winer_neuron_j]\n",
    "                                        - input_vector\n",
    "                                        )\n",
    "    \n",
    "    return single_input_error\n",
    "\n",
    "\n",
    "def get_kohonen_map_error(kohonen_map_model, data):\n",
    "    error = 0\n",
    "    for input_vector in data:\n",
    "        error += get_single_input_error(kohonen_map_model, input_vector)\n",
    "        \n",
    "    return error\n",
    "\n",
    "\n",
    "# get_single_input_error(kohonen_maps_consistent, input_a)\n",
    "\n",
    "# get_kohonen_map_error(kohonen_maps_consistent, X_test)"
   ]
  },
  {
   "cell_type": "markdown",
   "id": "3f4e02ec",
   "metadata": {},
   "source": [
    "## Некоторые вспомогательные функции"
   ]
  },
  {
   "cell_type": "code",
   "execution_count": null,
   "id": "85154d17",
   "metadata": {},
   "outputs": [],
   "source": [
    "def create_history_map(map_i, map_j):\n",
    "    \"\"\"Создаёт пустой массив формы карты\"\"\"\n",
    "    row = [[] for item in range(map_j)]\n",
    "    history_map = [deepcopy(row) for columnt in range(map_i)]\n",
    "    return history_map\n",
    "\n",
    "def get_win_map(kohonen_map_model, data):\n",
    "    \"\"\"История выигрышей\"\"\"\n",
    "    win_history_map = create_history_map(kohonen_map_model.map.shape[0], \n",
    "                           kohonen_map_model.map.shape[1])\n",
    "    for input_vector in data:\n",
    "        winer_neuron_coord = kohonen_map_model.get_winner_neuron(input_vector)\n",
    "        win_history_map[winer_neuron_coord[0]][winer_neuron_coord[1]].append(input_vector)\n",
    "        \n",
    "    return win_history_map\n",
    "\n",
    "def get_score_board(win_history_map):\n",
    "    \"\"\"Создаёт карту выигрышей (количество побед у каждого нейрона)\"\"\"\n",
    "    score_board_shape = len(win_history_map[0]), len(win_history_map[1])\n",
    "    score_board = np.zeros(score_board_shape, dtype=np.int64)\n",
    "    for i, row in enumerate(win_history_map):\n",
    "        for j, item in enumerate(row):\n",
    "            score_board[i, j] = len(item)\n",
    "    return score_board\n",
    "\n",
    "def mark_dead_neurons(score_board, kohonen_map_model, treshold=2, mark_as=np.inf):\n",
    "    for i_score, score_row in enumerate(score_board):\n",
    "        for j_score, score_item in enumerate(score_row):\n",
    "            if score_item <= treshold:\n",
    "                kohonen_map_model.map[i_score][j_score] = mark_as "
   ]
  },
  {
   "cell_type": "markdown",
   "id": "cf5f8d61",
   "metadata": {},
   "source": [
    "## Класс для последовательного обучения"
   ]
  },
  {
   "cell_type": "code",
   "execution_count": 249,
   "id": "18a93f9a",
   "metadata": {},
   "outputs": [],
   "source": [
    "class KohonenMapsConsistentAlg(KohonenMaps):\n",
    "    def __init__(self, maps_shape, \n",
    "                 radius_0=None, \n",
    "                 learning_time=1000, \n",
    "                 speed_parameter_2=1000):\n",
    "        super().__init__(maps_shape, learning_time, radius_0)\n",
    "        self.speed_parameter_2 = speed_parameter_2\n",
    "    \n",
    "    def get_learning_rate(self, current_time, learning_rate_start=0.1):\n",
    "        \"\"\"Рассчитывает скорость обучения для t-го времени обучения\"\"\"\n",
    "        learning_rate = learning_rate_start * np.exp(-current_time/self.speed_parameter_2)\n",
    "        return learning_rate\n",
    "        \n",
    "    def update_neuron_weight(self, input_vector, neuron_coord, winer_neuron_coord, current_time):\n",
    "        \"\"\"Обновляет веса отдельного нейрона\"\"\"\n",
    "        i_neuron, j_neuron = get_coordinates(*neuron_coord)\n",
    "        i_winer_neuron, j_winer_neuron = get_coordinates(*winer_neuron_coord)\n",
    "        \n",
    "        learning_rate = self.get_learning_rate(current_time)\n",
    "        h_distance = self.h_distance_func(neuron_coord, winer_neuron_coord, current_time)\n",
    "        \n",
    "        residual = (input_vector - self.map[i_winer_neuron, j_winer_neuron])\n",
    "        \n",
    "        self.map[i_neuron, j_neuron] = self.map[i_neuron, j_neuron] + learning_rate * h_distance * residual\n",
    "            \n",
    "    def update_all_weights(self, input_vector, winer_neuron_coord, current_time):\n",
    "        \"\"\"Обновляет веса всех нейронов\"\"\"\n",
    "        for i, row in enumerate(self.map):\n",
    "            for j, neuron in enumerate(row):\n",
    "                neuron_coord = [i, j]\n",
    "                self.update_neuron_weight(input_vector, neuron_coord, winer_neuron_coord, current_time)"
   ]
  },
  {
   "cell_type": "code",
   "execution_count": null,
   "id": "e54c5c37",
   "metadata": {},
   "outputs": [],
   "source": []
  },
  {
   "cell_type": "code",
   "execution_count": null,
   "id": "d047159a",
   "metadata": {},
   "outputs": [],
   "source": [
    "# def create_history_map(map_i, map_j):\n",
    "#     row = [[] for item in range(map_j)]\n",
    "#     history_map = [deepcopy(row) for columnt in range(map_i)]\n",
    "#     return history_map\n",
    "\n",
    "# def get_win_map(kohonen_map_model, data):\n",
    "#     win_history_map = create_history_map(kohonen_map_model.map.shape[0], \n",
    "#                            kohonen_map_model.map.shape[1])\n",
    "#     for input_vector in data:\n",
    "#         winer_neuron_coord = kohonen_map_model.get_winner_neuron(input_vector)\n",
    "#         win_history_map[winer_neuron_coord[0]][winer_neuron_coord[1]].append(input_vector)\n",
    "        \n",
    "#     return win_history_map\n",
    "\n",
    "# def get_score_board(win_history_map):\n",
    "#     score_board_shape = len(win_history_map[0]), len(win_history_map[1])\n",
    "#     score_board = np.zeros(score_board_shape, dtype=np.int64)\n",
    "#     for i, row in enumerate(win_history_map):\n",
    "#         for j, item in enumerate(row):\n",
    "#             score_board[i, j] = len(item)\n",
    "#     return score_board"
   ]
  },
  {
   "cell_type": "markdown",
   "id": "fd5f5c80",
   "metadata": {},
   "source": [
    "## Алгоритм последовательного обучения"
   ]
  },
  {
   "cell_type": "code",
   "execution_count": 209,
   "id": "5cbcdec7",
   "metadata": {},
   "outputs": [],
   "source": [
    "def train(kohonen_map_model, train_data, test_data=None, \n",
    "          learning_time=1000, converge_interval=10):\n",
    "    test_history = []\n",
    "    for epoch in tqdm(range(learning_time)):\n",
    "        for input_vector in train_data:\n",
    "            winer_neuron_coord = kohonen_map_model.get_winner_neuron(input_vector)\n",
    "            kohonen_map_model.update_all_weights(input_vector, winer_neuron_coord, epoch)\n",
    "        \n",
    "        if test_data is not None:\n",
    "            epoch_error = get_kohonen_map_error(kohonen_map_model, test_data)\n",
    "            test_history.append(epoch_error)\n",
    "            \n",
    "        if epoch >= converge_interval:\n",
    "            if np.isclose(test_history[epoch-converge_interval:], \n",
    "                          test_history[-1]).all():\n",
    "                break\n",
    "    \n",
    "    return test_history"
   ]
  },
  {
   "cell_type": "code",
   "execution_count": 210,
   "id": "da4f4131",
   "metadata": {},
   "outputs": [
    {
     "name": "stderr",
     "output_type": "stream",
     "text": [
      "100%|████████████████████████████████████████████████████████████████████████████████| 500/500 [10:08<00:00,  1.22s/it]\n"
     ]
    }
   ],
   "source": [
    "# kohonen_maps_consistent = KohonenMapsConsistentAlg((4,4,9))\n",
    "# kohonen_maps_consistent = KohonenMapsConsistentAlg((6,6,9))\n",
    "kohonen_maps_consistent = KohonenMapsConsistentAlg((8, 8, 9))\n",
    "# kohonen_maps_consistent = KohonenMapsConsistentAlg((9, 9, 9))\n",
    "# kohonen_maps_consistent = KohonenMapsConsistentAlg((20,20,9))\n",
    "            \n",
    "valid_history = train(kohonen_maps_consistent, \n",
    "      X_train,\n",
    "      X_test,\n",
    "      learning_time=1000)"
   ]
  },
  {
   "cell_type": "code",
   "execution_count": 211,
   "id": "2a1048d9",
   "metadata": {},
   "outputs": [
    {
     "data": {
      "text/plain": [
       "[<matplotlib.lines.Line2D at 0x1ac40dac910>]"
      ]
     },
     "execution_count": 211,
     "metadata": {},
     "output_type": "execute_result"
    },
    {
     "data": {
      "image/png": "[encoded data removed]",
      "text/plain": [
       "<Figure size 432x288 with 1 Axes>"
      ]
     },
     "metadata": {
      "needs_background": "light"
     },
     "output_type": "display_data"
    }
   ],
   "source": [
    "plt.plot(valid_history)"
   ]
  },
  {
   "cell_type": "code",
   "execution_count": 212,
   "id": "49c0251f",
   "metadata": {},
   "outputs": [
    {
     "data": {
      "text/plain": [
       "<matplotlib.image.AxesImage at 0x1ac40e0a220>"
      ]
     },
     "execution_count": 212,
     "metadata": {},
     "output_type": "execute_result"
    },
    {
     "data": {
      "image/png": "[encoded data removed]",
      "text/plain": [
       "<Figure size 432x288 with 1 Axes>"
      ]
     },
     "metadata": {
      "needs_background": "light"
     },
     "output_type": "display_data"
    }
   ],
   "source": [
    "map_deisity_consistent_alg = np.apply_along_axis(np.sum, 2, kohonen_maps_consistent.map)\n",
    "\n",
    "plt.imshow(map_deisity_consistent_alg, cmap='gray')"
   ]
  },
  {
   "cell_type": "markdown",
   "id": "dd01c17d",
   "metadata": {},
   "source": [
    "## Класс для пакетного обучения"
   ]
  },
  {
   "cell_type": "code",
   "execution_count": 261,
   "id": "7d0d6392",
   "metadata": {},
   "outputs": [],
   "source": [
    "class KohonenMapsPackageAlg(KohonenMaps):\n",
    "    def __init__(self,maps_shape, \n",
    "                 radius_0=None, \n",
    "                 learning_time=1000):\n",
    "        super().__init__(maps_shape, learning_time, radius_0)\n",
    "    \n",
    "    def get_neighbour_neurons_area(self, neuron_coords, current_time):\n",
    "        effective_width = self.get_effective_width(current_time)\n",
    "        i_neur, j_neur = get_coordinates(*neuron_coords)\n",
    "        i_area_start, i_area_end = int(i_neur - effective_width), int(i_neur + effective_width)\n",
    "#         map_max_i_index = self.map.shape[0] - 1\n",
    "        map_max_i_index = self.map.shape[0]\n",
    "        i_area_start, i_area_end = np.clip(i_area_start, 0, map_max_i_index), np.clip(i_area_end, 0, map_max_i_index)\n",
    "        \n",
    "        j_area_start, j_area_end = int(j_neur - effective_width), int(j_neur + effective_width)\n",
    "#         map_max_j_index = self.map.shape[1] - 1\n",
    "        map_max_j_index = self.map.shape[1]\n",
    "        j_area_start, j_area_end = np.clip(j_area_start, 0, map_max_j_index), np.clip(j_area_end, 0, map_max_j_index)\n",
    "        \n",
    "        return range(i_area_start, i_area_end), range(j_area_start, j_area_end)\n",
    "        \n",
    "    def update_all_weights(self, history_map, current_time):\n",
    "        \"\"\"Обновляет веса всех нейронов\"\"\"\n",
    "        for i, row in enumerate(self.map):\n",
    "            for j, neuron in enumerate(row):\n",
    "                neuron_coords = np.array([i, j])\n",
    "                i_area_indices, j_area_indices = self.get_neighbour_neurons_area(neuron_coords, current_time)\n",
    "#                 h_distance_wins = 0\n",
    "                h_distance_wins = 0.001\n",
    "                for i_area_index in i_area_indices:\n",
    "                    for j_area_index in j_area_indices:\n",
    "                        area_neuron_cords = np.array([i_area_index, j_area_index])\n",
    "                        h_distance = self.h_distance_func(area_neuron_cords, neuron_coords, current_time)\n",
    "                        neuron_wins = len(history_map[i_area_index][j_area_index])\n",
    "                        h_distance_wins += neuron_wins * h_distance\n",
    "                \n",
    "                mean_input_vector = np.mean(history_map[i][j])\n",
    "                if np.isnan(mean_input_vector):\n",
    "                    mean_input_vector = 0\n",
    "                \n",
    "                self.map[i][j] = h_distance_wins * mean_input_vector / h_distance_wins                                    "
   ]
  },
  {
   "cell_type": "code",
   "execution_count": 264,
   "id": "173f77e9",
   "metadata": {},
   "outputs": [
    {
     "name": "stderr",
     "output_type": "stream",
     "text": [
      "  2%|█▌                                                                              | 19/1000 [00:01<00:53, 18.50it/s]\n"
     ]
    }
   ],
   "source": [
    "def train_package(kohonen_map_model, train_data, test_data=None, \n",
    "                  learning_time=1000, converge_interval=10):\n",
    "    test_history = []\n",
    "    for epoch in tqdm(range(learning_time)):\n",
    "        win_history_map = get_win_map(kohonen_map_model, train_data)\n",
    "        \n",
    "        kohonen_map_model.update_all_weights(win_history_map, epoch)\n",
    "        \n",
    "        if test_data is not None:\n",
    "            \n",
    "            epoch_error = get_kohonen_map_error(kohonen_map_model, test_data)\n",
    "            test_history.append(epoch_error)\n",
    "            \n",
    "        if epoch >= converge_interval:\n",
    "            if np.isclose(test_history[epoch-converge_interval:], \n",
    "                          test_history[-1]).all():\n",
    "                break\n",
    "    \n",
    "    return test_history\n",
    "\n",
    "\n",
    "kohonen_map_package_alg = KohonenMapsPackageAlg((2, 2, 9))\n",
    "# kohonen_map_package_alg = KohonenMapsPackageAlg((4, 4, 9))\n",
    "# kohonen_map_package_alg = KohonenMapsPackageAlg((6, 6, 9))\n",
    "# kohonen_map_package_alg = KohonenMapsPackageAlg((8, 8, 9))\n",
    "valid_history = train_package(kohonen_map_package_alg, \n",
    "      X_train,\n",
    "      X_test,\n",
    "      learning_time=1000)"
   ]
  },
  {
   "cell_type": "code",
   "execution_count": 265,
   "id": "ee441d39",
   "metadata": {},
   "outputs": [
    {
     "data": {
      "text/plain": [
       "[<matplotlib.lines.Line2D at 0x1ac410e5670>]"
      ]
     },
     "execution_count": 265,
     "metadata": {},
     "output_type": "execute_result"
    },
    {
     "data": {
      "image/png": "[encoded data removed]",
      "text/plain": [
       "<Figure size 432x288 with 1 Axes>"
      ]
     },
     "metadata": {
      "needs_background": "light"
     },
     "output_type": "display_data"
    }
   ],
   "source": [
    "plt.plot(valid_history)"
   ]
  },
  {
   "cell_type": "code",
   "execution_count": 200,
   "id": "3552fea8",
   "metadata": {},
   "outputs": [
    {
     "data": {
      "text/plain": [
       "<matplotlib.image.AxesImage at 0x1ac3fc64250>"
      ]
     },
     "execution_count": 200,
     "metadata": {},
     "output_type": "execute_result"
    },
    {
     "data": {
      "image/png": "[encoded data removed]",
      "text/plain": [
       "<Figure size 432x288 with 1 Axes>"
      ]
     },
     "metadata": {
      "needs_background": "light"
     },
     "output_type": "display_data"
    }
   ],
   "source": [
    "map_deisity_package_alg = np.apply_along_axis(np.sum, 2, kohonen_map_package_alg.map)\n",
    "\n",
    "plt.imshow(map_deisity_package_alg, cmap='gray')"
   ]
  },
  {
   "cell_type": "code",
   "execution_count": 172,
   "id": "6fb98bd0",
   "metadata": {},
   "outputs": [
    {
     "data": {
      "text/plain": [
       "array([[0, 0, 0, 0, 0, 0, 0, 6],\n",
       "       [0, 0, 0, 0, 0, 0, 0, 0],\n",
       "       [0, 0, 0, 4, 0, 0, 0, 0],\n",
       "       [0, 1, 0, 0, 0, 0, 0, 0],\n",
       "       [0, 0, 0, 0, 0, 0, 0, 0],\n",
       "       [0, 0, 0, 0, 0, 2, 7, 0],\n",
       "       [0, 0, 0, 0, 0, 0, 0, 0],\n",
       "       [9, 0, 0, 9, 5, 0, 0, 0]], dtype=int64)"
      ]
     },
     "execution_count": 172,
     "metadata": {},
     "output_type": "execute_result"
    }
   ],
   "source": [
    "# def get_score_board(win_history_map):\n",
    "#     score_board_shape = len(win_history_map[0]), len(win_history_map[1])\n",
    "#     score_board = np.zeros(score_board_shape, dtype=np.int64)\n",
    "#     for i, row in enumerate(win_history_map):\n",
    "#         for j, item in enumerate(row):\n",
    "#             score_board[i, j] = len(item)\n",
    "#     return score_board\n",
    "\n",
    "test_win_map = get_win_map(kohonen_map_package_alg, X_test)\n",
    "get_score_board(test_win_map)\n",
    "# test_win_map"
   ]
  },
  {
   "cell_type": "code",
   "execution_count": 174,
   "id": "f4993ba6",
   "metadata": {},
   "outputs": [],
   "source": [
    "test_win_map = get_win_map(kohonen_map_package_alg, X_train)\n",
    "score_board = get_score_board(test_win_map)\n",
    "\n",
    "def mark_dead_neurons(score_board, kohonen_map_model, treshold=2):\n",
    "    for i_score, score_row in enumerate(score_board):\n",
    "        for j_score, score_item in enumerate(score_row):\n",
    "            if score_item <= treshold:\n",
    "                kohonen_map_model.map[i_score][j_score] = np.inf \n",
    "\n",
    "                \n",
    "mark_dead_neurons(score_board, kohonen_map_package_alg)"
   ]
  },
  {
   "cell_type": "code",
   "execution_count": 175,
   "id": "ddc48ac5",
   "metadata": {},
   "outputs": [
    {
     "data": {
      "text/plain": [
       "array([[ 0,  0,  0,  0,  0,  0,  0, 24],\n",
       "       [ 0,  0,  0,  0, 11,  0,  0,  0],\n",
       "       [ 0,  0,  0,  3,  0,  0,  0,  0],\n",
       "       [ 0,  0,  0,  0,  0,  0,  0,  0],\n",
       "       [ 0,  0,  0,  0,  0,  0,  0,  0],\n",
       "       [ 0,  0,  0,  0,  0, 10, 15,  0],\n",
       "       [ 0,  0,  0,  0,  3,  0,  0,  8],\n",
       "       [21,  0,  0, 43, 33,  0,  0,  0]], dtype=int64)"
      ]
     },
     "execution_count": 175,
     "metadata": {},
     "output_type": "execute_result"
    }
   ],
   "source": [
    "test_win_map = get_win_map(kohonen_map_package_alg, X_train)\n",
    "score_board = get_score_board(test_win_map)\n",
    "score_board"
   ]
  },
  {
   "cell_type": "markdown",
   "id": "d7981aac",
   "metadata": {},
   "source": [
    "## Исследование сходимости алгоритмов"
   ]
  },
  {
   "cell_type": "code",
   "execution_count": 231,
   "id": "0d00e762",
   "metadata": {},
   "outputs": [],
   "source": [
    "LAUNCHES = 10"
   ]
  },
  {
   "cell_type": "markdown",
   "id": "df0b6b52",
   "metadata": {},
   "source": [
    "### Сходимость последовательного алгоритма"
   ]
  },
  {
   "cell_type": "markdown",
   "id": "3cc41811",
   "metadata": {},
   "source": [
    "Для анализа сходимости используем обучение карт Кохонена по последовательному алгоритму используем следущие модели:"
   ]
  },
  {
   "cell_type": "code",
   "execution_count": 239,
   "id": "e51a6c0d",
   "metadata": {},
   "outputs": [],
   "source": [
    "consistent_maps = {\n",
    "    'consistent_map_2x2':(2,2,9),\n",
    "    'consistent_map_4x4':(4,4,9),\n",
    "    'consistent_map_6x6':(6,6,9),\n",
    "    'consistent_map_8x8':(8,8,9)\n",
    "}"
   ]
  },
  {
   "cell_type": "code",
   "execution_count": 240,
   "id": "180038a5",
   "metadata": {},
   "outputs": [
    {
     "name": "stderr",
     "output_type": "stream",
     "text": [
      " 10%|████████▎                                                                          | 1/10 [00:00<00:01,  8.13it/s]"
     ]
    },
    {
     "name": "stdout",
     "output_type": "stream",
     "text": [
      "consistent_map_2x2\n"
     ]
    },
    {
     "name": "stderr",
     "output_type": "stream",
     "text": [
      "100%|██████████████████████████████████████████████████████████████████████████████████| 10/10 [00:01<00:00,  9.63it/s]\n",
      "100%|██████████████████████████████████████████████████████████████████████████████████| 10/10 [00:00<00:00, 10.02it/s]\n",
      "100%|██████████████████████████████████████████████████████████████████████████████████| 10/10 [00:01<00:00,  9.84it/s]\n",
      "100%|██████████████████████████████████████████████████████████████████████████████████| 10/10 [00:01<00:00,  9.86it/s]\n",
      "100%|██████████████████████████████████████████████████████████████████████████████████| 10/10 [00:01<00:00,  7.64it/s]\n",
      "100%|██████████████████████████████████████████████████████████████████████████████████| 10/10 [00:00<00:00, 10.51it/s]\n",
      "100%|██████████████████████████████████████████████████████████████████████████████████| 10/10 [00:01<00:00,  9.93it/s]\n",
      "100%|██████████████████████████████████████████████████████████████████████████████████| 10/10 [00:01<00:00,  9.23it/s]\n",
      "100%|██████████████████████████████████████████████████████████████████████████████████| 10/10 [00:01<00:00,  9.26it/s]\n",
      "100%|██████████████████████████████████████████████████████████████████████████████████| 10/10 [00:01<00:00,  6.78it/s]\n",
      "  0%|                                                                                           | 0/10 [00:00<?, ?it/s]"
     ]
    },
    {
     "name": "stdout",
     "output_type": "stream",
     "text": [
      "consistent_map_4x4\n"
     ]
    },
    {
     "name": "stderr",
     "output_type": "stream",
     "text": [
      "100%|██████████████████████████████████████████████████████████████████████████████████| 10/10 [00:02<00:00,  3.62it/s]\n",
      "100%|██████████████████████████████████████████████████████████████████████████████████| 10/10 [00:02<00:00,  3.42it/s]\n",
      "100%|██████████████████████████████████████████████████████████████████████████████████| 10/10 [00:02<00:00,  3.54it/s]\n",
      "100%|██████████████████████████████████████████████████████████████████████████████████| 10/10 [00:03<00:00,  3.09it/s]\n",
      "100%|██████████████████████████████████████████████████████████████████████████████████| 10/10 [00:02<00:00,  3.58it/s]\n",
      "100%|██████████████████████████████████████████████████████████████████████████████████| 10/10 [00:02<00:00,  3.62it/s]\n",
      "100%|██████████████████████████████████████████████████████████████████████████████████| 10/10 [00:03<00:00,  3.15it/s]\n",
      "100%|██████████████████████████████████████████████████████████████████████████████████| 10/10 [00:02<00:00,  3.61it/s]\n",
      "100%|██████████████████████████████████████████████████████████████████████████████████| 10/10 [00:02<00:00,  3.56it/s]\n",
      "100%|██████████████████████████████████████████████████████████████████████████████████| 10/10 [00:03<00:00,  2.77it/s]\n",
      "  0%|                                                                                           | 0/10 [00:00<?, ?it/s]"
     ]
    },
    {
     "name": "stdout",
     "output_type": "stream",
     "text": [
      "consistent_map_6x6\n"
     ]
    },
    {
     "name": "stderr",
     "output_type": "stream",
     "text": [
      "100%|██████████████████████████████████████████████████████████████████████████████████| 10/10 [00:06<00:00,  1.47it/s]\n",
      "100%|██████████████████████████████████████████████████████████████████████████████████| 10/10 [00:06<00:00,  1.51it/s]\n",
      "100%|██████████████████████████████████████████████████████████████████████████████████| 10/10 [00:06<00:00,  1.66it/s]\n",
      "100%|██████████████████████████████████████████████████████████████████████████████████| 10/10 [00:08<00:00,  1.20it/s]\n",
      "100%|██████████████████████████████████████████████████████████████████████████████████| 10/10 [00:09<00:00,  1.08it/s]\n",
      "100%|██████████████████████████████████████████████████████████████████████████████████| 10/10 [00:08<00:00,  1.15it/s]\n",
      "100%|██████████████████████████████████████████████████████████████████████████████████| 10/10 [00:07<00:00,  1.30it/s]\n",
      "100%|██████████████████████████████████████████████████████████████████████████████████| 10/10 [00:06<00:00,  1.64it/s]\n",
      "100%|██████████████████████████████████████████████████████████████████████████████████| 10/10 [00:06<00:00,  1.63it/s]\n",
      "100%|██████████████████████████████████████████████████████████████████████████████████| 10/10 [00:06<00:00,  1.52it/s]\n",
      "  0%|                                                                                           | 0/10 [00:00<?, ?it/s]"
     ]
    },
    {
     "name": "stdout",
     "output_type": "stream",
     "text": [
      "consistent_map_8x8\n"
     ]
    },
    {
     "name": "stderr",
     "output_type": "stream",
     "text": [
      "100%|██████████████████████████████████████████████████████████████████████████████████| 10/10 [00:10<00:00,  1.08s/it]\n",
      "100%|██████████████████████████████████████████████████████████████████████████████████| 10/10 [00:11<00:00,  1.10s/it]\n",
      "100%|██████████████████████████████████████████████████████████████████████████████████| 10/10 [00:12<00:00,  1.23s/it]\n",
      "100%|██████████████████████████████████████████████████████████████████████████████████| 10/10 [00:13<00:00,  1.35s/it]\n",
      "100%|██████████████████████████████████████████████████████████████████████████████████| 10/10 [00:12<00:00,  1.27s/it]\n",
      "100%|██████████████████████████████████████████████████████████████████████████████████| 10/10 [00:14<00:00,  1.41s/it]\n",
      "100%|██████████████████████████████████████████████████████████████████████████████████| 10/10 [00:13<00:00,  1.31s/it]\n",
      "100%|██████████████████████████████████████████████████████████████████████████████████| 10/10 [00:12<00:00,  1.25s/it]\n",
      "100%|██████████████████████████████████████████████████████████████████████████████████| 10/10 [00:13<00:00,  1.37s/it]\n",
      "100%|██████████████████████████████████████████████████████████████████████████████████| 10/10 [00:10<00:00,  1.07s/it]\n"
     ]
    },
    {
     "data": {
      "text/plain": [
       "{'consistent_map_2x2': [10, 10, 10, 10, 10, 10, 10, 10, 10, 10],\n",
       " 'consistent_map_4x4': [10, 10, 10, 10, 10, 10, 10, 10, 10, 10],\n",
       " 'consistent_map_6x6': [10, 10, 10, 10, 10, 10, 10, 10, 10, 10],\n",
       " 'consistent_map_8x8': [10, 10, 10, 10, 10, 10, 10, 10, 10, 10]}"
      ]
     },
     "execution_count": 240,
     "metadata": {},
     "output_type": "execute_result"
    }
   ],
   "source": [
    "consistent_convergence_epochs = {'consistent_map_2x2': [], 'consistent_map_4x4': [],\n",
    "                        'consistent_map_6x6': [], 'consistent_map_8x8': []}\n",
    "\n",
    "consistent_alg_model_save_path = 'models/consistent_model.npy'\n",
    "\n",
    "least_error = np.inf\n",
    "\n",
    "for map_name, map_shape in consistent_maps.items():\n",
    "    print(map_name)\n",
    "    for launch in range(LAUNCHES):\n",
    "        kohonen_map_model = KohonenMapsConsistentAlg(map_shape)\n",
    "        train_history = train(kohonen_map_model, X_train, X_test, \n",
    "              learning_time=10, converge_interval=10)\n",
    "        consistent_convergence_epochs[map_name].append(len(train_history))\n",
    "        test_error = get_kohonen_map_error(kohonen_map_model, X_test)\n",
    "        \n",
    "        if test_error < least_error:\n",
    "            least_error = test_error\n",
    "            # Сохраняем лучший результат на диск\n",
    "            kohonen_map_model.save_weights(consistent_alg_model_save_path)\n",
    "            \n",
    "consistent_convergence_epochs"
   ]
  },
  {
   "cell_type": "code",
   "execution_count": 243,
   "id": "cff5a965",
   "metadata": {},
   "outputs": [
    {
     "data": {
      "text/html": [
       "<div>\n",
       "<style scoped>\n",
       "    .dataframe tbody tr th:only-of-type {\n",
       "        vertical-align: middle;\n",
       "    }\n",
       "\n",
       "    .dataframe tbody tr th {\n",
       "        vertical-align: top;\n",
       "    }\n",
       "\n",
       "    .dataframe thead th {\n",
       "        text-align: right;\n",
       "    }\n",
       "</style>\n",
       "<table border=\"1\" class=\"dataframe\">\n",
       "  <thead>\n",
       "    <tr style=\"text-align: right;\">\n",
       "      <th></th>\n",
       "      <th>consistent_map_2x2</th>\n",
       "      <th>consistent_map_4x4</th>\n",
       "      <th>consistent_map_6x6</th>\n",
       "      <th>consistent_map_8x8</th>\n",
       "    </tr>\n",
       "  </thead>\n",
       "  <tbody>\n",
       "    <tr>\n",
       "      <th>count</th>\n",
       "      <td>10.0</td>\n",
       "      <td>10.0</td>\n",
       "      <td>10.0</td>\n",
       "      <td>10.0</td>\n",
       "    </tr>\n",
       "    <tr>\n",
       "      <th>mean</th>\n",
       "      <td>10.0</td>\n",
       "      <td>10.0</td>\n",
       "      <td>10.0</td>\n",
       "      <td>10.0</td>\n",
       "    </tr>\n",
       "    <tr>\n",
       "      <th>std</th>\n",
       "      <td>0.0</td>\n",
       "      <td>0.0</td>\n",
       "      <td>0.0</td>\n",
       "      <td>0.0</td>\n",
       "    </tr>\n",
       "    <tr>\n",
       "      <th>min</th>\n",
       "      <td>10.0</td>\n",
       "      <td>10.0</td>\n",
       "      <td>10.0</td>\n",
       "      <td>10.0</td>\n",
       "    </tr>\n",
       "    <tr>\n",
       "      <th>25%</th>\n",
       "      <td>10.0</td>\n",
       "      <td>10.0</td>\n",
       "      <td>10.0</td>\n",
       "      <td>10.0</td>\n",
       "    </tr>\n",
       "    <tr>\n",
       "      <th>50%</th>\n",
       "      <td>10.0</td>\n",
       "      <td>10.0</td>\n",
       "      <td>10.0</td>\n",
       "      <td>10.0</td>\n",
       "    </tr>\n",
       "    <tr>\n",
       "      <th>75%</th>\n",
       "      <td>10.0</td>\n",
       "      <td>10.0</td>\n",
       "      <td>10.0</td>\n",
       "      <td>10.0</td>\n",
       "    </tr>\n",
       "    <tr>\n",
       "      <th>max</th>\n",
       "      <td>10.0</td>\n",
       "      <td>10.0</td>\n",
       "      <td>10.0</td>\n",
       "      <td>10.0</td>\n",
       "    </tr>\n",
       "  </tbody>\n",
       "</table>\n",
       "</div>"
      ],
      "text/plain": [
       "       consistent_map_2x2  consistent_map_4x4  consistent_map_6x6  \\\n",
       "count                10.0                10.0                10.0   \n",
       "mean                 10.0                10.0                10.0   \n",
       "std                   0.0                 0.0                 0.0   \n",
       "min                  10.0                10.0                10.0   \n",
       "25%                  10.0                10.0                10.0   \n",
       "50%                  10.0                10.0                10.0   \n",
       "75%                  10.0                10.0                10.0   \n",
       "max                  10.0                10.0                10.0   \n",
       "\n",
       "       consistent_map_8x8  \n",
       "count                10.0  \n",
       "mean                 10.0  \n",
       "std                   0.0  \n",
       "min                  10.0  \n",
       "25%                  10.0  \n",
       "50%                  10.0  \n",
       "75%                  10.0  \n",
       "max                  10.0  "
      ]
     },
     "execution_count": 243,
     "metadata": {},
     "output_type": "execute_result"
    }
   ],
   "source": [
    "consistent_launch_analytics = pd.DataFrame(consistent_convergence_epochs)\n",
    "consistent_launch_analytics.describe()"
   ]
  },
  {
   "cell_type": "markdown",
   "id": "d9b85f84",
   "metadata": {},
   "source": [
    "### Сходимость пакетного алгоритма"
   ]
  },
  {
   "cell_type": "markdown",
   "id": "2c98e056",
   "metadata": {},
   "source": [
    "Для анализа сходимости используем обучение карт Кохонена по пакетному алгоритму используем следущие модели:"
   ]
  },
  {
   "cell_type": "code",
   "execution_count": 266,
   "id": "7346d154",
   "metadata": {},
   "outputs": [],
   "source": [
    "package_maps = {\n",
    "    'package_map_2x2':(2,2,9),\n",
    "    'package_map_4x4':(4,4,9),\n",
    "    'package_map_6x6':(6,6,9),\n",
    "    'package_map_8x8':(8,8,9)\n",
    "}"
   ]
  },
  {
   "cell_type": "code",
   "execution_count": 267,
   "id": "388ae0c7",
   "metadata": {},
   "outputs": [
    {
     "name": "stderr",
     "output_type": "stream",
     "text": [
      " 20%|████████████████▌                                                                  | 2/10 [00:00<00:00, 16.00it/s]"
     ]
    },
    {
     "name": "stdout",
     "output_type": "stream",
     "text": [
      "package_map_2x2\n"
     ]
    },
    {
     "name": "stderr",
     "output_type": "stream",
     "text": [
      "100%|██████████████████████████████████████████████████████████████████████████████████| 10/10 [00:00<00:00, 17.03it/s]\n",
      "100%|██████████████████████████████████████████████████████████████████████████████████| 10/10 [00:00<00:00, 20.72it/s]\n",
      "100%|██████████████████████████████████████████████████████████████████████████████████| 10/10 [00:00<00:00, 18.94it/s]\n",
      "100%|██████████████████████████████████████████████████████████████████████████████████| 10/10 [00:00<00:00, 18.67it/s]\n",
      "100%|██████████████████████████████████████████████████████████████████████████████████| 10/10 [00:00<00:00, 20.45it/s]\n",
      "100%|██████████████████████████████████████████████████████████████████████████████████| 10/10 [00:00<00:00, 20.49it/s]\n",
      "100%|██████████████████████████████████████████████████████████████████████████████████| 10/10 [00:00<00:00, 18.70it/s]\n",
      "100%|██████████████████████████████████████████████████████████████████████████████████| 10/10 [00:00<00:00, 18.00it/s]\n",
      "100%|██████████████████████████████████████████████████████████████████████████████████| 10/10 [00:00<00:00, 18.53it/s]\n",
      "100%|██████████████████████████████████████████████████████████████████████████████████| 10/10 [00:00<00:00, 19.47it/s]\n",
      " 10%|████████▎                                                                          | 1/10 [00:00<00:01,  8.24it/s]"
     ]
    },
    {
     "name": "stdout",
     "output_type": "stream",
     "text": [
      "package_map_4x4\n"
     ]
    },
    {
     "name": "stderr",
     "output_type": "stream",
     "text": [
      "100%|██████████████████████████████████████████████████████████████████████████████████| 10/10 [00:01<00:00,  7.35it/s]\n",
      "100%|██████████████████████████████████████████████████████████████████████████████████| 10/10 [00:01<00:00,  8.70it/s]\n",
      "100%|██████████████████████████████████████████████████████████████████████████████████| 10/10 [00:01<00:00,  7.21it/s]\n",
      "100%|██████████████████████████████████████████████████████████████████████████████████| 10/10 [00:01<00:00,  7.73it/s]\n",
      "100%|██████████████████████████████████████████████████████████████████████████████████| 10/10 [00:01<00:00,  7.63it/s]\n",
      "100%|██████████████████████████████████████████████████████████████████████████████████| 10/10 [00:02<00:00,  4.27it/s]\n",
      "100%|██████████████████████████████████████████████████████████████████████████████████| 10/10 [00:01<00:00,  9.30it/s]\n",
      "100%|██████████████████████████████████████████████████████████████████████████████████| 10/10 [00:01<00:00,  8.44it/s]\n",
      "100%|██████████████████████████████████████████████████████████████████████████████████| 10/10 [00:01<00:00,  7.79it/s]\n",
      "100%|██████████████████████████████████████████████████████████████████████████████████| 10/10 [00:01<00:00,  6.50it/s]\n",
      "  0%|                                                                                           | 0/10 [00:00<?, ?it/s]"
     ]
    },
    {
     "name": "stdout",
     "output_type": "stream",
     "text": [
      "package_map_6x6\n"
     ]
    },
    {
     "name": "stderr",
     "output_type": "stream",
     "text": [
      "100%|██████████████████████████████████████████████████████████████████████████████████| 10/10 [00:02<00:00,  3.46it/s]\n",
      "100%|██████████████████████████████████████████████████████████████████████████████████| 10/10 [00:02<00:00,  4.24it/s]\n",
      "100%|██████████████████████████████████████████████████████████████████████████████████| 10/10 [00:02<00:00,  4.45it/s]\n",
      "100%|██████████████████████████████████████████████████████████████████████████████████| 10/10 [00:02<00:00,  4.60it/s]\n",
      "100%|██████████████████████████████████████████████████████████████████████████████████| 10/10 [00:02<00:00,  4.58it/s]\n",
      "100%|██████████████████████████████████████████████████████████████████████████████████| 10/10 [00:02<00:00,  4.61it/s]\n",
      "100%|██████████████████████████████████████████████████████████████████████████████████| 10/10 [00:02<00:00,  4.53it/s]\n",
      "100%|██████████████████████████████████████████████████████████████████████████████████| 10/10 [00:02<00:00,  4.52it/s]\n",
      "100%|██████████████████████████████████████████████████████████████████████████████████| 10/10 [00:02<00:00,  4.49it/s]\n",
      "100%|██████████████████████████████████████████████████████████████████████████████████| 10/10 [00:02<00:00,  4.48it/s]\n",
      "  0%|                                                                                           | 0/10 [00:00<?, ?it/s]"
     ]
    },
    {
     "name": "stdout",
     "output_type": "stream",
     "text": [
      "package_map_8x8\n"
     ]
    },
    {
     "name": "stderr",
     "output_type": "stream",
     "text": [
      "100%|██████████████████████████████████████████████████████████████████████████████████| 10/10 [00:04<00:00,  2.32it/s]\n",
      "100%|██████████████████████████████████████████████████████████████████████████████████| 10/10 [00:03<00:00,  2.56it/s]\n",
      "100%|██████████████████████████████████████████████████████████████████████████████████| 10/10 [00:03<00:00,  2.54it/s]\n",
      "100%|██████████████████████████████████████████████████████████████████████████████████| 10/10 [00:04<00:00,  2.13it/s]\n",
      "100%|██████████████████████████████████████████████████████████████████████████████████| 10/10 [00:05<00:00,  1.70it/s]\n",
      "100%|██████████████████████████████████████████████████████████████████████████████████| 10/10 [00:05<00:00,  1.76it/s]\n",
      "100%|██████████████████████████████████████████████████████████████████████████████████| 10/10 [00:05<00:00,  1.78it/s]\n",
      "100%|██████████████████████████████████████████████████████████████████████████████████| 10/10 [00:03<00:00,  2.57it/s]\n",
      "100%|██████████████████████████████████████████████████████████████████████████████████| 10/10 [00:04<00:00,  2.36it/s]\n",
      "100%|██████████████████████████████████████████████████████████████████████████████████| 10/10 [00:04<00:00,  2.43it/s]\n"
     ]
    },
    {
     "data": {
      "text/plain": [
       "{'package_map_2x2': [10, 10, 10, 10, 10, 10, 10, 10, 10, 10],\n",
       " 'package_map_4x4': [10, 10, 10, 10, 10, 10, 10, 10, 10, 10],\n",
       " 'package_map_6x6': [10, 10, 10, 10, 10, 10, 10, 10, 10, 10],\n",
       " 'package_map_8x8': [10, 10, 10, 10, 10, 10, 10, 10, 10, 10]}"
      ]
     },
     "execution_count": 267,
     "metadata": {},
     "output_type": "execute_result"
    }
   ],
   "source": [
    "package_convergence_epochs = {'package_map_2x2': [], 'package_map_4x4': [],\n",
    "                        'package_map_6x6': [], 'package_map_8x8': []}\n",
    "\n",
    "package_alg_model_save_path = 'models/package_model.npy'\n",
    "\n",
    "least_error = np.inf\n",
    "\n",
    "for map_name, map_shape in package_maps.items():\n",
    "    print(map_name)\n",
    "    for launch in range(LAUNCHES):\n",
    "        kohonen_map_model = KohonenMapsPackageAlg(map_shape)\n",
    "        train_history = train_package(kohonen_map_model, X_train, X_test, \n",
    "              learning_time=10, converge_interval=10)\n",
    "        package_convergence_epochs[map_name].append(len(train_history))\n",
    "        test_error = get_kohonen_map_error(kohonen_map_model, X_test)\n",
    "        \n",
    "        if test_error < least_error:\n",
    "            least_error = test_error\n",
    "            # Сохраняем лучший результат на диск\n",
    "            kohonen_map_model.save_weights(package_alg_model_save_path)\n",
    "            \n",
    "package_convergence_epochs"
   ]
  },
  {
   "cell_type": "code",
   "execution_count": 268,
   "id": "3ef4136d",
   "metadata": {},
   "outputs": [
    {
     "data": {
      "text/html": [
       "<div>\n",
       "<style scoped>\n",
       "    .dataframe tbody tr th:only-of-type {\n",
       "        vertical-align: middle;\n",
       "    }\n",
       "\n",
       "    .dataframe tbody tr th {\n",
       "        vertical-align: top;\n",
       "    }\n",
       "\n",
       "    .dataframe thead th {\n",
       "        text-align: right;\n",
       "    }\n",
       "</style>\n",
       "<table border=\"1\" class=\"dataframe\">\n",
       "  <thead>\n",
       "    <tr style=\"text-align: right;\">\n",
       "      <th></th>\n",
       "      <th>package_map_2x2</th>\n",
       "      <th>package_map_4x4</th>\n",
       "      <th>package_map_6x6</th>\n",
       "      <th>package_map_8x8</th>\n",
       "    </tr>\n",
       "  </thead>\n",
       "  <tbody>\n",
       "    <tr>\n",
       "      <th>count</th>\n",
       "      <td>10.0</td>\n",
       "      <td>10.0</td>\n",
       "      <td>10.0</td>\n",
       "      <td>10.0</td>\n",
       "    </tr>\n",
       "    <tr>\n",
       "      <th>mean</th>\n",
       "      <td>10.0</td>\n",
       "      <td>10.0</td>\n",
       "      <td>10.0</td>\n",
       "      <td>10.0</td>\n",
       "    </tr>\n",
       "    <tr>\n",
       "      <th>std</th>\n",
       "      <td>0.0</td>\n",
       "      <td>0.0</td>\n",
       "      <td>0.0</td>\n",
       "      <td>0.0</td>\n",
       "    </tr>\n",
       "    <tr>\n",
       "      <th>min</th>\n",
       "      <td>10.0</td>\n",
       "      <td>10.0</td>\n",
       "      <td>10.0</td>\n",
       "      <td>10.0</td>\n",
       "    </tr>\n",
       "    <tr>\n",
       "      <th>25%</th>\n",
       "      <td>10.0</td>\n",
       "      <td>10.0</td>\n",
       "      <td>10.0</td>\n",
       "      <td>10.0</td>\n",
       "    </tr>\n",
       "    <tr>\n",
       "      <th>50%</th>\n",
       "      <td>10.0</td>\n",
       "      <td>10.0</td>\n",
       "      <td>10.0</td>\n",
       "      <td>10.0</td>\n",
       "    </tr>\n",
       "    <tr>\n",
       "      <th>75%</th>\n",
       "      <td>10.0</td>\n",
       "      <td>10.0</td>\n",
       "      <td>10.0</td>\n",
       "      <td>10.0</td>\n",
       "    </tr>\n",
       "    <tr>\n",
       "      <th>max</th>\n",
       "      <td>10.0</td>\n",
       "      <td>10.0</td>\n",
       "      <td>10.0</td>\n",
       "      <td>10.0</td>\n",
       "    </tr>\n",
       "  </tbody>\n",
       "</table>\n",
       "</div>"
      ],
      "text/plain": [
       "       package_map_2x2  package_map_4x4  package_map_6x6  package_map_8x8\n",
       "count             10.0             10.0             10.0             10.0\n",
       "mean              10.0             10.0             10.0             10.0\n",
       "std                0.0              0.0              0.0              0.0\n",
       "min               10.0             10.0             10.0             10.0\n",
       "25%               10.0             10.0             10.0             10.0\n",
       "50%               10.0             10.0             10.0             10.0\n",
       "75%               10.0             10.0             10.0             10.0\n",
       "max               10.0             10.0             10.0             10.0"
      ]
     },
     "execution_count": 268,
     "metadata": {},
     "output_type": "execute_result"
    }
   ],
   "source": [
    "package_launch_analytics = pd.DataFrame(package_convergence_epochs)\n",
    "package_launch_analytics.describe()"
   ]
  },
  {
   "cell_type": "code",
   "execution_count": null,
   "id": "301fab32",
   "metadata": {},
   "outputs": [],
   "source": []
  }
 ],
 "metadata": {
  "kernelspec": {
   "display_name": "Python 3",
   "language": "python",
   "name": "python3"
  },
  "language_info": {
   "codemirror_mode": {
    "name": "ipython",
    "version": 3
   },
   "file_extension": ".py",
   "mimetype": "text/x-python",
   "name": "python",
   "nbconvert_exporter": "python",
   "pygments_lexer": "ipython3",
   "version": "3.8.8"
  }
 },
 "nbformat": 4,
 "nbformat_minor": 5
}
