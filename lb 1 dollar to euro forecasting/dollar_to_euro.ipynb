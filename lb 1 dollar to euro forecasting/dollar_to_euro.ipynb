{
 "cells": [
  {
   "cell_type": "markdown",
   "id": "a6a64363",
   "metadata": {},
   "source": [
    "# Прогнозирование отношения доллара к евро"
   ]
  },
  {
   "cell_type": "markdown",
   "id": "42479861",
   "metadata": {},
   "source": [
    "## Подключение библиотек"
   ]
  },
  {
   "cell_type": "code",
   "execution_count": 1,
   "id": "301b3e35",
   "metadata": {},
   "outputs": [],
   "source": [
    "import pandas as pd\n",
    "import os\n",
    "\n",
    "import matplotlib.pyplot as plt\n",
    "%matplotlib inline\n",
    "import seaborn as sns\n",
    "sns.set(\n",
    "    rc = {\n",
    "        'figure.figsize': (16, 9),\n",
    "        'figure.dpi': 80,\n",
    "        'axes.grid': True,\n",
    "        'axes.grid.axis': 'x',\n",
    "        'axes.grid.which': 'both',\n",
    "        'grid.alpha': .4,\n",
    "        'xtick.minor.visible': True,\n",
    "        },\n",
    "    palette = 'colorblind',\n",
    "    style = 'ticks'\n",
    ")"
   ]
  },
  {
   "cell_type": "markdown",
   "id": "d4b8940a",
   "metadata": {},
   "source": [
    "## 1 Датасет"
   ]
  },
  {
   "cell_type": "markdown",
   "id": "cad100c3",
   "metadata": {},
   "source": [
    "### 1.1 Анализ и преобразование данных"
   ]
  },
  {
   "cell_type": "code",
   "execution_count": 2,
   "id": "8caee78d",
   "metadata": {},
   "outputs": [
    {
     "data": {
      "text/plain": [
       "['ECB_FX_USD-quote.csv', 'euro-dollar-exchange-rate-historical-chart.csv']"
      ]
     },
     "execution_count": 2,
     "metadata": {},
     "output_type": "execute_result"
    }
   ],
   "source": [
    "os.listdir('data')"
   ]
  },
  {
   "cell_type": "markdown",
   "id": "fbb986c6",
   "metadata": {},
   "source": [
    "Датасет взят отсюда: https://data.humdata.org/dataset/ecb-fx-rates?force_layout=desktop"
   ]
  },
  {
   "cell_type": "code",
   "execution_count": 3,
   "id": "aa062d9f",
   "metadata": {},
   "outputs": [
    {
     "data": {
      "text/html": [
       "<div>\n",
       "<style scoped>\n",
       "    .dataframe tbody tr th:only-of-type {\n",
       "        vertical-align: middle;\n",
       "    }\n",
       "\n",
       "    .dataframe tbody tr th {\n",
       "        vertical-align: top;\n",
       "    }\n",
       "\n",
       "    .dataframe thead th {\n",
       "        text-align: right;\n",
       "    }\n",
       "</style>\n",
       "<table border=\"1\" class=\"dataframe\">\n",
       "  <thead>\n",
       "    <tr style=\"text-align: right;\">\n",
       "      <th></th>\n",
       "      <th>Date</th>\n",
       "      <th>EUR</th>\n",
       "      <th>JPY</th>\n",
       "      <th>BGN</th>\n",
       "      <th>CZK</th>\n",
       "      <th>DKK</th>\n",
       "      <th>GBP</th>\n",
       "      <th>HUF</th>\n",
       "      <th>PLN</th>\n",
       "      <th>RON</th>\n",
       "      <th>...</th>\n",
       "      <th>ILS</th>\n",
       "      <th>INR</th>\n",
       "      <th>KRW</th>\n",
       "      <th>MXN</th>\n",
       "      <th>MYR</th>\n",
       "      <th>NZD</th>\n",
       "      <th>PHP</th>\n",
       "      <th>SGD</th>\n",
       "      <th>THB</th>\n",
       "      <th>ZAR</th>\n",
       "    </tr>\n",
       "  </thead>\n",
       "  <tbody>\n",
       "    <tr>\n",
       "      <th>0</th>\n",
       "      <td>#date</td>\n",
       "      <td>#value+eur</td>\n",
       "      <td>#value+jpy</td>\n",
       "      <td>#value+bgn</td>\n",
       "      <td>#value+czk</td>\n",
       "      <td>#value+dkk</td>\n",
       "      <td>#value+gbp</td>\n",
       "      <td>#value+huf</td>\n",
       "      <td>#value+pln</td>\n",
       "      <td>#value+ron</td>\n",
       "      <td>...</td>\n",
       "      <td>#value+ils</td>\n",
       "      <td>#value+inr</td>\n",
       "      <td>#value+krw</td>\n",
       "      <td>#value+mxn</td>\n",
       "      <td>#value+myr</td>\n",
       "      <td>#value+nzd</td>\n",
       "      <td>#value+php</td>\n",
       "      <td>#value+sgd</td>\n",
       "      <td>#value+thb</td>\n",
       "      <td>#value+zar</td>\n",
       "    </tr>\n",
       "    <tr>\n",
       "      <th>1</th>\n",
       "      <td>2021-10-11</td>\n",
       "      <td>1.1574</td>\n",
       "      <td>0.00885539403213466</td>\n",
       "      <td>0.5917783004397178</td>\n",
       "      <td>0.04556872317807788</td>\n",
       "      <td>0.15553942912433477</td>\n",
       "      <td>1.3636042319564552</td>\n",
       "      <td>0.0032087607429997227</td>\n",
       "      <td>0.25208546599002457</td>\n",
       "      <td>0.23385125169215848</td>\n",
       "      <td>...</td>\n",
       "      <td>0.3098131591626961</td>\n",
       "      <td>0.013252570591064189</td>\n",
       "      <td>0.0008366162364557657</td>\n",
       "      <td>0.04821475436469751</td>\n",
       "      <td>0.23980606663351567</td>\n",
       "      <td>0.693884892086331</td>\n",
       "      <td>0.019642251035231824</td>\n",
       "      <td>0.7388445579316949</td>\n",
       "      <td>0.029529276693455796</td>\n",
       "      <td>0.06685999491646832</td>\n",
       "    </tr>\n",
       "    <tr>\n",
       "      <th>2</th>\n",
       "      <td>2021-10-08</td>\n",
       "      <td>1.1569</td>\n",
       "      <td>0.00894602536343953</td>\n",
       "      <td>0.5915226505777688</td>\n",
       "      <td>0.045486356845167886</td>\n",
       "      <td>0.15547014634539663</td>\n",
       "      <td>1.3628224761456003</td>\n",
       "      <td>0.0032119159332574475</td>\n",
       "      <td>0.25050885626434544</td>\n",
       "      <td>0.23379746579633412</td>\n",
       "      <td>...</td>\n",
       "      <td>0.30954674372558466</td>\n",
       "      <td>0.013336099919884265</td>\n",
       "      <td>0.0008372412794905197</td>\n",
       "      <td>0.04854906733250803</td>\n",
       "      <td>0.23935036722871628</td>\n",
       "      <td>0.693335730552559</td>\n",
       "      <td>0.019799760397056308</td>\n",
       "      <td>0.7377718257764173</td>\n",
       "      <td>0.02954214652332678</td>\n",
       "      <td>0.06716049669393181</td>\n",
       "    </tr>\n",
       "    <tr>\n",
       "      <th>3</th>\n",
       "      <td>2021-10-07</td>\n",
       "      <td>1.1562</td>\n",
       "      <td>0.00897810218978102</td>\n",
       "      <td>0.59116474077104</td>\n",
       "      <td>0.045492819201259097</td>\n",
       "      <td>0.15540531458756165</td>\n",
       "      <td>1.3598673300165836</td>\n",
       "      <td>0.003228166182711637</td>\n",
       "      <td>0.2543446698050948</td>\n",
       "      <td>0.23369378473976754</td>\n",
       "      <td>...</td>\n",
       "      <td>0.3095333708135892</td>\n",
       "      <td>0.013380705490232384</td>\n",
       "      <td>0.0008403410205906081</td>\n",
       "      <td>0.04877822403726079</td>\n",
       "      <td>0.23903245813520776</td>\n",
       "      <td>0.6933317342288318</td>\n",
       "      <td>0.019829182959456678</td>\n",
       "      <td>0.736573867618016</td>\n",
       "      <td>0.02960743642928478</td>\n",
       "      <td>0.06719202203703058</td>\n",
       "    </tr>\n",
       "    <tr>\n",
       "      <th>4</th>\n",
       "      <td>2021-10-06</td>\n",
       "      <td>1.1542</td>\n",
       "      <td>0.008980703392468098</td>\n",
       "      <td>0.5901421413232436</td>\n",
       "      <td>0.0454141255164273</td>\n",
       "      <td>0.15513857899405897</td>\n",
       "      <td>1.358361774744027</td>\n",
       "      <td>0.003211195503992432</td>\n",
       "      <td>0.2513228089275993</td>\n",
       "      <td>0.2333697278498928</td>\n",
       "      <td>...</td>\n",
       "      <td>0.3081811385239773</td>\n",
       "      <td>0.013352923482727503</td>\n",
       "      <td>0.0008364313614656027</td>\n",
       "      <td>0.04816371155186299</td>\n",
       "      <td>0.23897964676895045</td>\n",
       "      <td>0.6899808703969392</td>\n",
       "      <td>0.01962791646826746</td>\n",
       "      <td>0.7345977596741344</td>\n",
       "      <td>0.02950710706616218</td>\n",
       "      <td>0.06612015284055431</td>\n",
       "    </tr>\n",
       "  </tbody>\n",
       "</table>\n",
       "<p>5 rows × 34 columns</p>\n",
       "</div>"
      ],
      "text/plain": [
       "         Date         EUR                   JPY                 BGN  \\\n",
       "0       #date  #value+eur            #value+jpy          #value+bgn   \n",
       "1  2021-10-11      1.1574   0.00885539403213466  0.5917783004397178   \n",
       "2  2021-10-08      1.1569   0.00894602536343953  0.5915226505777688   \n",
       "3  2021-10-07      1.1562   0.00897810218978102    0.59116474077104   \n",
       "4  2021-10-06      1.1542  0.008980703392468098  0.5901421413232436   \n",
       "\n",
       "                    CZK                  DKK                 GBP  \\\n",
       "0            #value+czk           #value+dkk          #value+gbp   \n",
       "1   0.04556872317807788  0.15553942912433477  1.3636042319564552   \n",
       "2  0.045486356845167886  0.15547014634539663  1.3628224761456003   \n",
       "3  0.045492819201259097  0.15540531458756165  1.3598673300165836   \n",
       "4    0.0454141255164273  0.15513857899405897   1.358361774744027   \n",
       "\n",
       "                     HUF                  PLN                  RON  ...  \\\n",
       "0             #value+huf           #value+pln           #value+ron  ...   \n",
       "1  0.0032087607429997227  0.25208546599002457  0.23385125169215848  ...   \n",
       "2  0.0032119159332574475  0.25050885626434544  0.23379746579633412  ...   \n",
       "3   0.003228166182711637   0.2543446698050948  0.23369378473976754  ...   \n",
       "4   0.003211195503992432   0.2513228089275993   0.2333697278498928  ...   \n",
       "\n",
       "                   ILS                   INR                    KRW  \\\n",
       "0           #value+ils            #value+inr             #value+krw   \n",
       "1   0.3098131591626961  0.013252570591064189  0.0008366162364557657   \n",
       "2  0.30954674372558466  0.013336099919884265  0.0008372412794905197   \n",
       "3   0.3095333708135892  0.013380705490232384  0.0008403410205906081   \n",
       "4   0.3081811385239773  0.013352923482727503  0.0008364313614656027   \n",
       "\n",
       "                   MXN                  MYR                 NZD  \\\n",
       "0           #value+mxn           #value+myr          #value+nzd   \n",
       "1  0.04821475436469751  0.23980606663351567   0.693884892086331   \n",
       "2  0.04854906733250803  0.23935036722871628   0.693335730552559   \n",
       "3  0.04877822403726079  0.23903245813520776  0.6933317342288318   \n",
       "4  0.04816371155186299  0.23897964676895045  0.6899808703969392   \n",
       "\n",
       "                    PHP                 SGD                   THB  \\\n",
       "0            #value+php          #value+sgd            #value+thb   \n",
       "1  0.019642251035231824  0.7388445579316949  0.029529276693455796   \n",
       "2  0.019799760397056308  0.7377718257764173   0.02954214652332678   \n",
       "3  0.019829182959456678   0.736573867618016   0.02960743642928478   \n",
       "4   0.01962791646826746  0.7345977596741344   0.02950710706616218   \n",
       "\n",
       "                   ZAR  \n",
       "0           #value+zar  \n",
       "1  0.06685999491646832  \n",
       "2  0.06716049669393181  \n",
       "3  0.06719202203703058  \n",
       "4  0.06612015284055431  \n",
       "\n",
       "[5 rows x 34 columns]"
      ]
     },
     "execution_count": 3,
     "metadata": {},
     "output_type": "execute_result"
    }
   ],
   "source": [
    "df = pd.read_csv('data/ECB_FX_USD-quote.csv')\n",
    "df.head()"
   ]
  },
  {
   "cell_type": "markdown",
   "id": "c6bd88c9",
   "metadata": {},
   "source": [
    "Избавимся от первой строки с технической информацией, а также и от лишних столбцов."
   ]
  },
  {
   "cell_type": "code",
   "execution_count": 4,
   "id": "fdd3acca",
   "metadata": {},
   "outputs": [
    {
     "data": {
      "text/html": [
       "<div>\n",
       "<style scoped>\n",
       "    .dataframe tbody tr th:only-of-type {\n",
       "        vertical-align: middle;\n",
       "    }\n",
       "\n",
       "    .dataframe tbody tr th {\n",
       "        vertical-align: top;\n",
       "    }\n",
       "\n",
       "    .dataframe thead th {\n",
       "        text-align: right;\n",
       "    }\n",
       "</style>\n",
       "<table border=\"1\" class=\"dataframe\">\n",
       "  <thead>\n",
       "    <tr style=\"text-align: right;\">\n",
       "      <th></th>\n",
       "      <th>Date</th>\n",
       "      <th>EUR</th>\n",
       "    </tr>\n",
       "  </thead>\n",
       "  <tbody>\n",
       "    <tr>\n",
       "      <th>0</th>\n",
       "      <td>2021-10-11</td>\n",
       "      <td>1.1574</td>\n",
       "    </tr>\n",
       "    <tr>\n",
       "      <th>1</th>\n",
       "      <td>2021-10-08</td>\n",
       "      <td>1.1569</td>\n",
       "    </tr>\n",
       "    <tr>\n",
       "      <th>2</th>\n",
       "      <td>2021-10-07</td>\n",
       "      <td>1.1562</td>\n",
       "    </tr>\n",
       "    <tr>\n",
       "      <th>3</th>\n",
       "      <td>2021-10-06</td>\n",
       "      <td>1.1542</td>\n",
       "    </tr>\n",
       "    <tr>\n",
       "      <th>4</th>\n",
       "      <td>2021-10-05</td>\n",
       "      <td>1.1602</td>\n",
       "    </tr>\n",
       "  </tbody>\n",
       "</table>\n",
       "</div>"
      ],
      "text/plain": [
       "         Date     EUR\n",
       "0  2021-10-11  1.1574\n",
       "1  2021-10-08  1.1569\n",
       "2  2021-10-07  1.1562\n",
       "3  2021-10-06  1.1542\n",
       "4  2021-10-05  1.1602"
      ]
     },
     "execution_count": 4,
     "metadata": {},
     "output_type": "execute_result"
    }
   ],
   "source": [
    "df = df.drop(labels=0)\n",
    "df.reset_index(inplace=True)\n",
    "df = df.loc[:,[\"Date\",\"EUR\"]]\n",
    "df.head()"
   ]
  },
  {
   "cell_type": "markdown",
   "id": "ecb0ed38",
   "metadata": {},
   "source": [
    "Выведем информацию о данных."
   ]
  },
  {
   "cell_type": "code",
   "execution_count": 5,
   "id": "b9c79bf6",
   "metadata": {},
   "outputs": [
    {
     "name": "stdout",
     "output_type": "stream",
     "text": [
      "<class 'pandas.core.frame.DataFrame'>\n",
      "RangeIndex: 5831 entries, 0 to 5830\n",
      "Data columns (total 2 columns):\n",
      " #   Column  Non-Null Count  Dtype \n",
      "---  ------  --------------  ----- \n",
      " 0   Date    5831 non-null   object\n",
      " 1   EUR     5831 non-null   object\n",
      "dtypes: object(2)\n",
      "memory usage: 91.2+ KB\n"
     ]
    }
   ],
   "source": [
    "df.info()"
   ]
  },
  {
   "cell_type": "markdown",
   "id": "7de5d564",
   "metadata": {},
   "source": [
    "Преобразуем значения столбца Date в тип datetime, а столбец EUR во float."
   ]
  },
  {
   "cell_type": "code",
   "execution_count": 6,
   "id": "a876c287",
   "metadata": {},
   "outputs": [
    {
     "name": "stdout",
     "output_type": "stream",
     "text": [
      "<class 'pandas.core.frame.DataFrame'>\n",
      "RangeIndex: 5831 entries, 0 to 5830\n",
      "Data columns (total 2 columns):\n",
      " #   Column  Non-Null Count  Dtype         \n",
      "---  ------  --------------  -----         \n",
      " 0   Date    5831 non-null   datetime64[ns]\n",
      " 1   EUR     5831 non-null   float64       \n",
      "dtypes: datetime64[ns](1), float64(1)\n",
      "memory usage: 91.2 KB\n"
     ]
    }
   ],
   "source": [
    "df['Date'] = pd.to_datetime(df['Date'])\n",
    "df['EUR'] = df['EUR'].astype(float)\n",
    "df.info()"
   ]
  },
  {
   "cell_type": "code",
   "execution_count": 7,
   "id": "660b5e00",
   "metadata": {},
   "outputs": [
    {
     "data": {
      "text/html": [
       "<div>\n",
       "<style scoped>\n",
       "    .dataframe tbody tr th:only-of-type {\n",
       "        vertical-align: middle;\n",
       "    }\n",
       "\n",
       "    .dataframe tbody tr th {\n",
       "        vertical-align: top;\n",
       "    }\n",
       "\n",
       "    .dataframe thead th {\n",
       "        text-align: right;\n",
       "    }\n",
       "</style>\n",
       "<table border=\"1\" class=\"dataframe\">\n",
       "  <thead>\n",
       "    <tr style=\"text-align: right;\">\n",
       "      <th></th>\n",
       "      <th>Date</th>\n",
       "      <th>EUR</th>\n",
       "    </tr>\n",
       "  </thead>\n",
       "  <tbody>\n",
       "    <tr>\n",
       "      <th>0</th>\n",
       "      <td>2021-10-11</td>\n",
       "      <td>1.1574</td>\n",
       "    </tr>\n",
       "    <tr>\n",
       "      <th>1</th>\n",
       "      <td>2021-10-08</td>\n",
       "      <td>1.1569</td>\n",
       "    </tr>\n",
       "    <tr>\n",
       "      <th>2</th>\n",
       "      <td>2021-10-07</td>\n",
       "      <td>1.1562</td>\n",
       "    </tr>\n",
       "    <tr>\n",
       "      <th>3</th>\n",
       "      <td>2021-10-06</td>\n",
       "      <td>1.1542</td>\n",
       "    </tr>\n",
       "    <tr>\n",
       "      <th>4</th>\n",
       "      <td>2021-10-05</td>\n",
       "      <td>1.1602</td>\n",
       "    </tr>\n",
       "  </tbody>\n",
       "</table>\n",
       "</div>"
      ],
      "text/plain": [
       "        Date     EUR\n",
       "0 2021-10-11  1.1574\n",
       "1 2021-10-08  1.1569\n",
       "2 2021-10-07  1.1562\n",
       "3 2021-10-06  1.1542\n",
       "4 2021-10-05  1.1602"
      ]
     },
     "execution_count": 7,
     "metadata": {},
     "output_type": "execute_result"
    }
   ],
   "source": [
    "df.head()"
   ]
  },
  {
   "cell_type": "code",
   "execution_count": 8,
   "id": "2704ee00",
   "metadata": {},
   "outputs": [
    {
     "data": {
      "text/plain": [
       "<AxesSubplot:xlabel='Date', ylabel='EUR'>"
      ]
     },
     "execution_count": 8,
     "metadata": {},
     "output_type": "execute_result"
    },
    {
     "data": {
      "image/png": "[encoded data removed]",
      "text/plain": [
       "<Figure size 1280x720 with 1 Axes>"
      ]
     },
     "metadata": {},
     "output_type": "display_data"
    }
   ],
   "source": [
    "sns.lineplot(x=df['Date'],y=df['EUR'])"
   ]
  },
  {
   "cell_type": "markdown",
   "id": "82a4f800",
   "metadata": {},
   "source": [
    "### 1.2 Разбивка датасета на обучающую и тренировочную выборки"
   ]
  },
  {
   "cell_type": "code",
   "execution_count": 9,
   "id": "ea20c41d",
   "metadata": {},
   "outputs": [],
   "source": [
    "border_line = int(len(df)*0.8)\n",
    "\n",
    "data_train,data_test = df.iloc[:border_line], df.iloc[border_line:]"
   ]
  },
  {
   "cell_type": "markdown",
   "id": "87dfed51",
   "metadata": {},
   "source": [
    "## 2 Выбор значения глубины прогноза"
   ]
  },
  {
   "cell_type": "code",
   "execution_count": null,
   "id": "8e5226c5",
   "metadata": {},
   "outputs": [],
   "source": [
    "tau = [1,7,14,30,60,365]"
   ]
  },
  {
   "cell_type": "markdown",
   "id": "d43390fd",
   "metadata": {},
   "source": [
    "## 3 Выбор структуры ИНС"
   ]
  },
  {
   "cell_type": "code",
   "execution_count": null,
   "id": "f9129b51",
   "metadata": {},
   "outputs": [],
   "source": [
    "class NN:\n",
    "    pass"
   ]
  }
 ],
 "metadata": {
  "kernelspec": {
   "display_name": "Python 3",
   "language": "python",
   "name": "python3"
  },
  "language_info": {
   "codemirror_mode": {
    "name": "ipython",
    "version": 3
   },
   "file_extension": ".py",
   "mimetype": "text/x-python",
   "name": "python",
   "nbconvert_exporter": "python",
   "pygments_lexer": "ipython3",
   "version": "3.8.8"
  }
 },
 "nbformat": 4,
 "nbformat_minor": 5
}
