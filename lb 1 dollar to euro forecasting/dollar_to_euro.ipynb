{
 "cells": [
  {
   "cell_type": "markdown",
   "id": "a6a64363",
   "metadata": {},
   "source": [
    "# Прогнозирование отношения доллара к евро"
   ]
  },
  {
   "cell_type": "markdown",
   "id": "42479861",
   "metadata": {},
   "source": [
    "## Подключение библиотек"
   ]
  },
  {
   "cell_type": "code",
   "execution_count": 1,
   "id": "301b3e35",
   "metadata": {},
   "outputs": [],
   "source": [
    "import os\n",
    "\n",
    "import pandas as pd\n",
    "import numpy as np\n",
    "\n",
    "import matplotlib.pyplot as plt\n",
    "%matplotlib inline\n",
    "import seaborn as sns\n",
    "sns.set(\n",
    "    rc = {\n",
    "        'figure.figsize': (16, 9),\n",
    "        'figure.dpi': 80,\n",
    "        'axes.grid': True,\n",
    "        'axes.grid.axis': 'x',\n",
    "        'axes.grid.which': 'both',\n",
    "        'grid.alpha': .4,\n",
    "        'xtick.minor.visible': True,\n",
    "        },\n",
    "    palette = 'colorblind',\n",
    "    style = 'ticks'\n",
    ")\n",
    "from copy import deepcopy\n",
    "from sklearn.preprocessing import StandardScaler\n",
    "from tqdm import tqdm"
   ]
  },
  {
   "cell_type": "markdown",
   "id": "d4b8940a",
   "metadata": {},
   "source": [
    "## 1 Датасет"
   ]
  },
  {
   "cell_type": "markdown",
   "id": "cad100c3",
   "metadata": {},
   "source": [
    "### 1.1 Анализ и преобразование данных"
   ]
  },
  {
   "cell_type": "code",
   "execution_count": 2,
   "id": "8caee78d",
   "metadata": {},
   "outputs": [
    {
     "data": {
      "text/plain": [
       "['ECB_FX_USD-quote.csv', 'euro-dollar-exchange-rate-historical-chart.csv']"
      ]
     },
     "execution_count": 2,
     "metadata": {},
     "output_type": "execute_result"
    }
   ],
   "source": [
    "os.listdir('data')"
   ]
  },
  {
   "cell_type": "markdown",
   "id": "fbb986c6",
   "metadata": {},
   "source": [
    "Датасет взят отсюда: https://data.humdata.org/dataset/ecb-fx-rates?force_layout=desktop"
   ]
  },
  {
   "cell_type": "code",
   "execution_count": 3,
   "id": "aa062d9f",
   "metadata": {},
   "outputs": [
    {
     "data": {
      "text/html": [
       "<div>\n",
       "<style scoped>\n",
       "    .dataframe tbody tr th:only-of-type {\n",
       "        vertical-align: middle;\n",
       "    }\n",
       "\n",
       "    .dataframe tbody tr th {\n",
       "        vertical-align: top;\n",
       "    }\n",
       "\n",
       "    .dataframe thead th {\n",
       "        text-align: right;\n",
       "    }\n",
       "</style>\n",
       "<table border=\"1\" class=\"dataframe\">\n",
       "  <thead>\n",
       "    <tr style=\"text-align: right;\">\n",
       "      <th></th>\n",
       "      <th>Date</th>\n",
       "      <th>EUR</th>\n",
       "      <th>JPY</th>\n",
       "      <th>BGN</th>\n",
       "      <th>CZK</th>\n",
       "      <th>DKK</th>\n",
       "      <th>GBP</th>\n",
       "      <th>HUF</th>\n",
       "      <th>PLN</th>\n",
       "      <th>RON</th>\n",
       "      <th>...</th>\n",
       "      <th>ILS</th>\n",
       "      <th>INR</th>\n",
       "      <th>KRW</th>\n",
       "      <th>MXN</th>\n",
       "      <th>MYR</th>\n",
       "      <th>NZD</th>\n",
       "      <th>PHP</th>\n",
       "      <th>SGD</th>\n",
       "      <th>THB</th>\n",
       "      <th>ZAR</th>\n",
       "    </tr>\n",
       "  </thead>\n",
       "  <tbody>\n",
       "    <tr>\n",
       "      <th>0</th>\n",
       "      <td>#date</td>\n",
       "      <td>#value+eur</td>\n",
       "      <td>#value+jpy</td>\n",
       "      <td>#value+bgn</td>\n",
       "      <td>#value+czk</td>\n",
       "      <td>#value+dkk</td>\n",
       "      <td>#value+gbp</td>\n",
       "      <td>#value+huf</td>\n",
       "      <td>#value+pln</td>\n",
       "      <td>#value+ron</td>\n",
       "      <td>...</td>\n",
       "      <td>#value+ils</td>\n",
       "      <td>#value+inr</td>\n",
       "      <td>#value+krw</td>\n",
       "      <td>#value+mxn</td>\n",
       "      <td>#value+myr</td>\n",
       "      <td>#value+nzd</td>\n",
       "      <td>#value+php</td>\n",
       "      <td>#value+sgd</td>\n",
       "      <td>#value+thb</td>\n",
       "      <td>#value+zar</td>\n",
       "    </tr>\n",
       "    <tr>\n",
       "      <th>1</th>\n",
       "      <td>2021-10-11</td>\n",
       "      <td>1.1574</td>\n",
       "      <td>0.00885539403213466</td>\n",
       "      <td>0.5917783004397178</td>\n",
       "      <td>0.04556872317807788</td>\n",
       "      <td>0.15553942912433477</td>\n",
       "      <td>1.3636042319564552</td>\n",
       "      <td>0.0032087607429997227</td>\n",
       "      <td>0.25208546599002457</td>\n",
       "      <td>0.23385125169215848</td>\n",
       "      <td>...</td>\n",
       "      <td>0.3098131591626961</td>\n",
       "      <td>0.013252570591064189</td>\n",
       "      <td>0.0008366162364557657</td>\n",
       "      <td>0.04821475436469751</td>\n",
       "      <td>0.23980606663351567</td>\n",
       "      <td>0.693884892086331</td>\n",
       "      <td>0.019642251035231824</td>\n",
       "      <td>0.7388445579316949</td>\n",
       "      <td>0.029529276693455796</td>\n",
       "      <td>0.06685999491646832</td>\n",
       "    </tr>\n",
       "    <tr>\n",
       "      <th>2</th>\n",
       "      <td>2021-10-08</td>\n",
       "      <td>1.1569</td>\n",
       "      <td>0.00894602536343953</td>\n",
       "      <td>0.5915226505777688</td>\n",
       "      <td>0.045486356845167886</td>\n",
       "      <td>0.15547014634539663</td>\n",
       "      <td>1.3628224761456003</td>\n",
       "      <td>0.0032119159332574475</td>\n",
       "      <td>0.25050885626434544</td>\n",
       "      <td>0.23379746579633412</td>\n",
       "      <td>...</td>\n",
       "      <td>0.30954674372558466</td>\n",
       "      <td>0.013336099919884265</td>\n",
       "      <td>0.0008372412794905197</td>\n",
       "      <td>0.04854906733250803</td>\n",
       "      <td>0.23935036722871628</td>\n",
       "      <td>0.693335730552559</td>\n",
       "      <td>0.019799760397056308</td>\n",
       "      <td>0.7377718257764173</td>\n",
       "      <td>0.02954214652332678</td>\n",
       "      <td>0.06716049669393181</td>\n",
       "    </tr>\n",
       "    <tr>\n",
       "      <th>3</th>\n",
       "      <td>2021-10-07</td>\n",
       "      <td>1.1562</td>\n",
       "      <td>0.00897810218978102</td>\n",
       "      <td>0.59116474077104</td>\n",
       "      <td>0.045492819201259097</td>\n",
       "      <td>0.15540531458756165</td>\n",
       "      <td>1.3598673300165836</td>\n",
       "      <td>0.003228166182711637</td>\n",
       "      <td>0.2543446698050948</td>\n",
       "      <td>0.23369378473976754</td>\n",
       "      <td>...</td>\n",
       "      <td>0.3095333708135892</td>\n",
       "      <td>0.013380705490232384</td>\n",
       "      <td>0.0008403410205906081</td>\n",
       "      <td>0.04877822403726079</td>\n",
       "      <td>0.23903245813520776</td>\n",
       "      <td>0.6933317342288318</td>\n",
       "      <td>0.019829182959456678</td>\n",
       "      <td>0.736573867618016</td>\n",
       "      <td>0.02960743642928478</td>\n",
       "      <td>0.06719202203703058</td>\n",
       "    </tr>\n",
       "    <tr>\n",
       "      <th>4</th>\n",
       "      <td>2021-10-06</td>\n",
       "      <td>1.1542</td>\n",
       "      <td>0.008980703392468098</td>\n",
       "      <td>0.5901421413232436</td>\n",
       "      <td>0.0454141255164273</td>\n",
       "      <td>0.15513857899405897</td>\n",
       "      <td>1.358361774744027</td>\n",
       "      <td>0.003211195503992432</td>\n",
       "      <td>0.2513228089275993</td>\n",
       "      <td>0.2333697278498928</td>\n",
       "      <td>...</td>\n",
       "      <td>0.3081811385239773</td>\n",
       "      <td>0.013352923482727503</td>\n",
       "      <td>0.0008364313614656027</td>\n",
       "      <td>0.04816371155186299</td>\n",
       "      <td>0.23897964676895045</td>\n",
       "      <td>0.6899808703969392</td>\n",
       "      <td>0.01962791646826746</td>\n",
       "      <td>0.7345977596741344</td>\n",
       "      <td>0.02950710706616218</td>\n",
       "      <td>0.06612015284055431</td>\n",
       "    </tr>\n",
       "  </tbody>\n",
       "</table>\n",
       "<p>5 rows × 34 columns</p>\n",
       "</div>"
      ],
      "text/plain": [
       "         Date         EUR                   JPY                 BGN  \\\n",
       "0       #date  #value+eur            #value+jpy          #value+bgn   \n",
       "1  2021-10-11      1.1574   0.00885539403213466  0.5917783004397178   \n",
       "2  2021-10-08      1.1569   0.00894602536343953  0.5915226505777688   \n",
       "3  2021-10-07      1.1562   0.00897810218978102    0.59116474077104   \n",
       "4  2021-10-06      1.1542  0.008980703392468098  0.5901421413232436   \n",
       "\n",
       "                    CZK                  DKK                 GBP  \\\n",
       "0            #value+czk           #value+dkk          #value+gbp   \n",
       "1   0.04556872317807788  0.15553942912433477  1.3636042319564552   \n",
       "2  0.045486356845167886  0.15547014634539663  1.3628224761456003   \n",
       "3  0.045492819201259097  0.15540531458756165  1.3598673300165836   \n",
       "4    0.0454141255164273  0.15513857899405897   1.358361774744027   \n",
       "\n",
       "                     HUF                  PLN                  RON  ...  \\\n",
       "0             #value+huf           #value+pln           #value+ron  ...   \n",
       "1  0.0032087607429997227  0.25208546599002457  0.23385125169215848  ...   \n",
       "2  0.0032119159332574475  0.25050885626434544  0.23379746579633412  ...   \n",
       "3   0.003228166182711637   0.2543446698050948  0.23369378473976754  ...   \n",
       "4   0.003211195503992432   0.2513228089275993   0.2333697278498928  ...   \n",
       "\n",
       "                   ILS                   INR                    KRW  \\\n",
       "0           #value+ils            #value+inr             #value+krw   \n",
       "1   0.3098131591626961  0.013252570591064189  0.0008366162364557657   \n",
       "2  0.30954674372558466  0.013336099919884265  0.0008372412794905197   \n",
       "3   0.3095333708135892  0.013380705490232384  0.0008403410205906081   \n",
       "4   0.3081811385239773  0.013352923482727503  0.0008364313614656027   \n",
       "\n",
       "                   MXN                  MYR                 NZD  \\\n",
       "0           #value+mxn           #value+myr          #value+nzd   \n",
       "1  0.04821475436469751  0.23980606663351567   0.693884892086331   \n",
       "2  0.04854906733250803  0.23935036722871628   0.693335730552559   \n",
       "3  0.04877822403726079  0.23903245813520776  0.6933317342288318   \n",
       "4  0.04816371155186299  0.23897964676895045  0.6899808703969392   \n",
       "\n",
       "                    PHP                 SGD                   THB  \\\n",
       "0            #value+php          #value+sgd            #value+thb   \n",
       "1  0.019642251035231824  0.7388445579316949  0.029529276693455796   \n",
       "2  0.019799760397056308  0.7377718257764173   0.02954214652332678   \n",
       "3  0.019829182959456678   0.736573867618016   0.02960743642928478   \n",
       "4   0.01962791646826746  0.7345977596741344   0.02950710706616218   \n",
       "\n",
       "                   ZAR  \n",
       "0           #value+zar  \n",
       "1  0.06685999491646832  \n",
       "2  0.06716049669393181  \n",
       "3  0.06719202203703058  \n",
       "4  0.06612015284055431  \n",
       "\n",
       "[5 rows x 34 columns]"
      ]
     },
     "execution_count": 3,
     "metadata": {},
     "output_type": "execute_result"
    }
   ],
   "source": [
    "df = pd.read_csv('data/ECB_FX_USD-quote.csv')\n",
    "df.head()"
   ]
  },
  {
   "cell_type": "markdown",
   "id": "c6bd88c9",
   "metadata": {},
   "source": [
    "Избавимся от первой строки с технической информацией, а также и от лишних столбцов."
   ]
  },
  {
   "cell_type": "code",
   "execution_count": 4,
   "id": "fdd3acca",
   "metadata": {},
   "outputs": [
    {
     "data": {
      "text/html": [
       "<div>\n",
       "<style scoped>\n",
       "    .dataframe tbody tr th:only-of-type {\n",
       "        vertical-align: middle;\n",
       "    }\n",
       "\n",
       "    .dataframe tbody tr th {\n",
       "        vertical-align: top;\n",
       "    }\n",
       "\n",
       "    .dataframe thead th {\n",
       "        text-align: right;\n",
       "    }\n",
       "</style>\n",
       "<table border=\"1\" class=\"dataframe\">\n",
       "  <thead>\n",
       "    <tr style=\"text-align: right;\">\n",
       "      <th></th>\n",
       "      <th>Date</th>\n",
       "      <th>EUR</th>\n",
       "    </tr>\n",
       "  </thead>\n",
       "  <tbody>\n",
       "    <tr>\n",
       "      <th>0</th>\n",
       "      <td>2021-10-11</td>\n",
       "      <td>1.1574</td>\n",
       "    </tr>\n",
       "    <tr>\n",
       "      <th>1</th>\n",
       "      <td>2021-10-08</td>\n",
       "      <td>1.1569</td>\n",
       "    </tr>\n",
       "    <tr>\n",
       "      <th>2</th>\n",
       "      <td>2021-10-07</td>\n",
       "      <td>1.1562</td>\n",
       "    </tr>\n",
       "    <tr>\n",
       "      <th>3</th>\n",
       "      <td>2021-10-06</td>\n",
       "      <td>1.1542</td>\n",
       "    </tr>\n",
       "    <tr>\n",
       "      <th>4</th>\n",
       "      <td>2021-10-05</td>\n",
       "      <td>1.1602</td>\n",
       "    </tr>\n",
       "  </tbody>\n",
       "</table>\n",
       "</div>"
      ],
      "text/plain": [
       "         Date     EUR\n",
       "0  2021-10-11  1.1574\n",
       "1  2021-10-08  1.1569\n",
       "2  2021-10-07  1.1562\n",
       "3  2021-10-06  1.1542\n",
       "4  2021-10-05  1.1602"
      ]
     },
     "execution_count": 4,
     "metadata": {},
     "output_type": "execute_result"
    }
   ],
   "source": [
    "df = df.drop(labels=0)\n",
    "df.reset_index(inplace=True)\n",
    "df = df.loc[:,[\"Date\",\"EUR\"]]\n",
    "df.head()"
   ]
  },
  {
   "cell_type": "markdown",
   "id": "ecb0ed38",
   "metadata": {},
   "source": [
    "Выведем информацию о данных."
   ]
  },
  {
   "cell_type": "code",
   "execution_count": 5,
   "id": "b9c79bf6",
   "metadata": {},
   "outputs": [
    {
     "name": "stdout",
     "output_type": "stream",
     "text": [
      "<class 'pandas.core.frame.DataFrame'>\n",
      "RangeIndex: 5831 entries, 0 to 5830\n",
      "Data columns (total 2 columns):\n",
      " #   Column  Non-Null Count  Dtype \n",
      "---  ------  --------------  ----- \n",
      " 0   Date    5831 non-null   object\n",
      " 1   EUR     5831 non-null   object\n",
      "dtypes: object(2)\n",
      "memory usage: 91.2+ KB\n"
     ]
    }
   ],
   "source": [
    "df.info()"
   ]
  },
  {
   "cell_type": "markdown",
   "id": "7de5d564",
   "metadata": {},
   "source": [
    "Преобразуем значения столбца Date в тип datetime, а столбец EUR во float."
   ]
  },
  {
   "cell_type": "code",
   "execution_count": 6,
   "id": "a876c287",
   "metadata": {},
   "outputs": [
    {
     "name": "stdout",
     "output_type": "stream",
     "text": [
      "<class 'pandas.core.frame.DataFrame'>\n",
      "RangeIndex: 5831 entries, 0 to 5830\n",
      "Data columns (total 2 columns):\n",
      " #   Column  Non-Null Count  Dtype         \n",
      "---  ------  --------------  -----         \n",
      " 0   Date    5831 non-null   datetime64[ns]\n",
      " 1   EUR     5831 non-null   float64       \n",
      "dtypes: datetime64[ns](1), float64(1)\n",
      "memory usage: 91.2 KB\n"
     ]
    }
   ],
   "source": [
    "df['Date'] = pd.to_datetime(df['Date'])\n",
    "df['EUR'] = df['EUR'].astype(float)\n",
    "df.info()"
   ]
  },
  {
   "cell_type": "code",
   "execution_count": 7,
   "id": "660b5e00",
   "metadata": {},
   "outputs": [
    {
     "data": {
      "text/html": [
       "<div>\n",
       "<style scoped>\n",
       "    .dataframe tbody tr th:only-of-type {\n",
       "        vertical-align: middle;\n",
       "    }\n",
       "\n",
       "    .dataframe tbody tr th {\n",
       "        vertical-align: top;\n",
       "    }\n",
       "\n",
       "    .dataframe thead th {\n",
       "        text-align: right;\n",
       "    }\n",
       "</style>\n",
       "<table border=\"1\" class=\"dataframe\">\n",
       "  <thead>\n",
       "    <tr style=\"text-align: right;\">\n",
       "      <th></th>\n",
       "      <th>Date</th>\n",
       "      <th>EUR</th>\n",
       "    </tr>\n",
       "  </thead>\n",
       "  <tbody>\n",
       "    <tr>\n",
       "      <th>0</th>\n",
       "      <td>2021-10-11</td>\n",
       "      <td>1.1574</td>\n",
       "    </tr>\n",
       "    <tr>\n",
       "      <th>1</th>\n",
       "      <td>2021-10-08</td>\n",
       "      <td>1.1569</td>\n",
       "    </tr>\n",
       "    <tr>\n",
       "      <th>2</th>\n",
       "      <td>2021-10-07</td>\n",
       "      <td>1.1562</td>\n",
       "    </tr>\n",
       "    <tr>\n",
       "      <th>3</th>\n",
       "      <td>2021-10-06</td>\n",
       "      <td>1.1542</td>\n",
       "    </tr>\n",
       "    <tr>\n",
       "      <th>4</th>\n",
       "      <td>2021-10-05</td>\n",
       "      <td>1.1602</td>\n",
       "    </tr>\n",
       "  </tbody>\n",
       "</table>\n",
       "</div>"
      ],
      "text/plain": [
       "        Date     EUR\n",
       "0 2021-10-11  1.1574\n",
       "1 2021-10-08  1.1569\n",
       "2 2021-10-07  1.1562\n",
       "3 2021-10-06  1.1542\n",
       "4 2021-10-05  1.1602"
      ]
     },
     "execution_count": 7,
     "metadata": {},
     "output_type": "execute_result"
    }
   ],
   "source": [
    "df.head()"
   ]
  },
  {
   "cell_type": "markdown",
   "id": "5c3add84",
   "metadata": {},
   "source": [
    "Для удобстава инвертируем таблицу."
   ]
  },
  {
   "cell_type": "code",
   "execution_count": 8,
   "id": "1021e41b",
   "metadata": {},
   "outputs": [
    {
     "data": {
      "text/html": [
       "<div>\n",
       "<style scoped>\n",
       "    .dataframe tbody tr th:only-of-type {\n",
       "        vertical-align: middle;\n",
       "    }\n",
       "\n",
       "    .dataframe tbody tr th {\n",
       "        vertical-align: top;\n",
       "    }\n",
       "\n",
       "    .dataframe thead th {\n",
       "        text-align: right;\n",
       "    }\n",
       "</style>\n",
       "<table border=\"1\" class=\"dataframe\">\n",
       "  <thead>\n",
       "    <tr style=\"text-align: right;\">\n",
       "      <th></th>\n",
       "      <th>Date</th>\n",
       "      <th>EUR</th>\n",
       "    </tr>\n",
       "  </thead>\n",
       "  <tbody>\n",
       "    <tr>\n",
       "      <th>0</th>\n",
       "      <td>1999-01-04</td>\n",
       "      <td>1.1789</td>\n",
       "    </tr>\n",
       "    <tr>\n",
       "      <th>1</th>\n",
       "      <td>1999-01-05</td>\n",
       "      <td>1.1790</td>\n",
       "    </tr>\n",
       "    <tr>\n",
       "      <th>2</th>\n",
       "      <td>1999-01-06</td>\n",
       "      <td>1.1743</td>\n",
       "    </tr>\n",
       "    <tr>\n",
       "      <th>3</th>\n",
       "      <td>1999-01-07</td>\n",
       "      <td>1.1632</td>\n",
       "    </tr>\n",
       "    <tr>\n",
       "      <th>4</th>\n",
       "      <td>1999-01-08</td>\n",
       "      <td>1.1659</td>\n",
       "    </tr>\n",
       "  </tbody>\n",
       "</table>\n",
       "</div>"
      ],
      "text/plain": [
       "        Date     EUR\n",
       "0 1999-01-04  1.1789\n",
       "1 1999-01-05  1.1790\n",
       "2 1999-01-06  1.1743\n",
       "3 1999-01-07  1.1632\n",
       "4 1999-01-08  1.1659"
      ]
     },
     "execution_count": 8,
     "metadata": {},
     "output_type": "execute_result"
    }
   ],
   "source": [
    "df = df.iloc[::-1]\n",
    "df = df.reset_index(drop=True)\n",
    "df.head()"
   ]
  },
  {
   "cell_type": "code",
   "execution_count": 9,
   "id": "2704ee00",
   "metadata": {},
   "outputs": [
    {
     "data": {
      "text/plain": [
       "<AxesSubplot:xlabel='Date', ylabel='EUR'>"
      ]
     },
     "execution_count": 9,
     "metadata": {},
     "output_type": "execute_result"
    },
    {
     "data": {
      "image/png": "[encoded data removed]",
      "text/plain": [
       "<Figure size 1280x720 with 1 Axes>"
      ]
     },
     "metadata": {},
     "output_type": "display_data"
    }
   ],
   "source": [
    "sns.lineplot(x=df['Date'],y=df['EUR'])"
   ]
  },
  {
   "cell_type": "markdown",
   "id": "82a4f800",
   "metadata": {},
   "source": [
    "### 1.2 Разбивка датасета на обучающую и тренировочную выборки"
   ]
  },
  {
   "cell_type": "markdown",
   "id": "e8643556",
   "metadata": {},
   "source": [
    "Перед разбивкой датасета на основании столбца получим более удобную величину чем даты - столбец с номером даты. Так как датасет ежедневные наблюдения, то проблем при обучении возникнуть не должно."
   ]
  },
  {
   "cell_type": "code",
   "execution_count": 10,
   "id": "4798a771",
   "metadata": {},
   "outputs": [],
   "source": [
    "# df['time'] = np.arange(len(df['Date']))\n",
    "# df.head()"
   ]
  },
  {
   "cell_type": "code",
   "execution_count": 11,
   "id": "da96052f",
   "metadata": {},
   "outputs": [],
   "source": [
    "# df['lag_1'] = df['EUR'].shift(1)\n",
    "# df.head()"
   ]
  },
  {
   "cell_type": "markdown",
   "id": "ef1cf907",
   "metadata": {},
   "source": [
    "Произведём стандартизацию данных."
   ]
  },
  {
   "cell_type": "code",
   "execution_count": 12,
   "id": "05012993",
   "metadata": {},
   "outputs": [],
   "source": [
    "df.loc[:,'EUR'] = (df['EUR'] - df['EUR'].mean()) / df['EUR'].std()"
   ]
  },
  {
   "cell_type": "markdown",
   "id": "e73a3a63",
   "metadata": {},
   "source": [
    "Разбивка датасета на тренировочную и тестовую выборки"
   ]
  },
  {
   "cell_type": "code",
   "execution_count": 13,
   "id": "ea20c41d",
   "metadata": {},
   "outputs": [],
   "source": [
    "border_line = int(len(df)*0.8)\n",
    "\n",
    "data_train, data_test = df.iloc[:border_line], df.iloc[border_line:]\n",
    "data_test.index = np.arange(len(data_test))"
   ]
  },
  {
   "cell_type": "markdown",
   "id": "87dfed51",
   "metadata": {},
   "source": [
    "## 2 Выбор значения глубины прогноза"
   ]
  },
  {
   "cell_type": "code",
   "execution_count": 14,
   "id": "8e5226c5",
   "metadata": {},
   "outputs": [],
   "source": [
    "tau = [1,7,14,30,60,365]"
   ]
  },
  {
   "cell_type": "markdown",
   "id": "d43390fd",
   "metadata": {},
   "source": [
    "## 3 Выбор структуры ИНС"
   ]
  },
  {
   "cell_type": "code",
   "execution_count": 29,
   "id": "8c2a1d2b",
   "metadata": {},
   "outputs": [],
   "source": [
    "class NN:\n",
    "    def __init__(self,nn_shape):\n",
    "        self.nn_shape = nn_shape\n",
    "        self.layers = []\n",
    "        self.weights = []\n",
    "        self.bias = []\n",
    "        self.dw = []\n",
    "        self.db = []\n",
    "        self.vw = []\n",
    "        self.vb = []\n",
    "        self.RHO = 0.90\n",
    "        \n",
    "        for layer_n in range(len(nn_shape)):\n",
    "            self.layers.append(np.zeros(nn_shape[layer_n],dtype=np.float64))\n",
    "            if layer_n!=0:\n",
    "                self.weights.append(np.random.normal(size=(nn_shape[layer_n-1],nn_shape[layer_n])))\n",
    "                self.bias.append(np.random.normal(size=nn_shape[layer_n]))\n",
    "                \n",
    "                # массивы для значений градиентов\n",
    "                self.dw.append(np.zeros((nn_shape[layer_n-1],nn_shape[layer_n]),dtype = np.float64)) \n",
    "                self.db.append(np.zeros(nn_shape[layer_n],dtype = np.float64))\n",
    "\n",
    "        self.vw = deepcopy(self.weights)\n",
    "        self.vb = deepcopy(self.bias)\n",
    "                    \n",
    "    def sigmoid(self,x):\n",
    "        return 1/(1 + np.exp(-x))\n",
    "    \n",
    "    def forward(self,x):\n",
    "        for i in range(len(self.layers)):\n",
    "            if i== 0:\n",
    "                self.layers[i]=x\n",
    "            else:\n",
    "                self.layers[i]=self.sigmoid(x+self.bias[i-1])\n",
    "            if i!= len(self.layers)-1:\n",
    "                x = np.dot(self.weights[i].T,self.layers[i])\n",
    "#                 x = self.weights[i].T@self.layers[i]\n",
    "                \n",
    "        return self.sigmoid(x + self.bias[-1])\n",
    "    \n",
    "    def back_propagation(self,y,lr=10e-4*5,weight_decay=0.0005):\n",
    "        # вычисляем градиенты для weights\n",
    "        for L in range(1,len(self.layers)):\n",
    "            for i in range(len(self.layers[-L])):\n",
    "                for j in range(len(self.layers[-L-1])):\n",
    "                    if L == 1:\n",
    "                        # dw\n",
    "                        try:\n",
    "                            dE_w = (self.layers[-L][i]-y[i])\n",
    "                        except IndexError:\n",
    "                            dE_w = (self.layers[-L][i]-y)\n",
    "                        da_w = self.layers[-L][i]*(1-self.layers[-L][i])                                              \n",
    "                        dz_w = self.layers[-L-1][j]\n",
    "                        \n",
    "\n",
    "                    else:\n",
    "                        # dw\n",
    "                        dE_w = np.dot(self.dw[-L+1][i,:],self.weights[-L+1][i,:])\n",
    "                        da_w = self.layers[-L][i]*(1-self.layers[-L][i])\n",
    "                        try:\n",
    "                            dz_w = self.layers[-L-1][j]\n",
    "                        except KeyError:\n",
    "                            dz_w = self.layers[-L-1]\n",
    "                    self.dw[-L][j,i] = dE_w*da_w*dz_w         \n",
    "        \n",
    "         # вычисляем градиенты для bias  \n",
    "        for L in range(1,len(self.db)+1):\n",
    "            for i in range(len(self.db[-L])):\n",
    "                if L!=1:\n",
    "                    dE_b = np.dot(self.weights[-L+1][i],self.db[-L+1])\n",
    "                    da_b = self.layers[-L][i]*(1-self.layers[-L][i])\n",
    "                    dz_b = 1\n",
    "                        \n",
    "                else:\n",
    "#                     dE_b = self.layers[-L][i]*(self.layers[-L+1][i]-y[i])\n",
    "                    try:\n",
    "                        dE_b = (self.layers[-L+1][i]-y[i])\n",
    "                    except IndexError:\n",
    "                        dE_b = (self.layers[-L+1][i]-y)\n",
    "                    da_b = self.layers[-L+1][i]*(1-self.layers[-L+1][i])\n",
    "                    dz_b = 1\n",
    "                    \n",
    "                self.db[-L][i] = dE_b*da_b*dz_b\n",
    "                \n",
    "        # применяем градиенты к weights        \n",
    "        for L in range(len(self.dw)):\n",
    "            self.vw[L] = self.RHO * self.vw[L] + self.dw[L] + weight_decay * self.weights[L]\n",
    "            self.weights[L]-=lr * self.vw[L]\n",
    "        \n",
    "        # применяем градиенты к bias\n",
    "        for L in range(len(self.db)):\n",
    "#             self.vb[L] = self.RHO * self.vb[L] + self.db[L] + weight_decay * self.bias[L]\n",
    "#             self.bias[L] -= lr * self.vb[L]\n",
    "            self.bias[L] -= lr * self.db[L]\n",
    "    \n",
    "    def __repr__(self):\n",
    "        return f'NN({self.nn_shape})'\n"
   ]
  },
  {
   "cell_type": "markdown",
   "id": "6d79cff5",
   "metadata": {},
   "source": [
    "## Обучение"
   ]
  },
  {
   "cell_type": "code",
   "execution_count": 16,
   "id": "cc0717de",
   "metadata": {},
   "outputs": [],
   "source": [
    "def train(model,X_train,epochs=1,tau = 2,X_val=None):\n",
    "    train_loss_history = []\n",
    "#     validation_accuracy_history = []\n",
    "    for i in tqdm(range(epochs)):\n",
    "        running_loss = 0\n",
    "        for i in range(len(X_train)//tau - 1):\n",
    "            X_pred = net.forward(X_train[i*tau:i*tau+tau])\n",
    "            running_loss += np.sum(np.square(X_pred-X_train[i*tau+tau]))/2\n",
    "            net.back_propagation(X_train[i*tau+tau])\n",
    "        epoch_loss = running_loss/len(X_train)\n",
    "        train_loss_history.append(epoch_loss)\n",
    "    return train_loss_history\n",
    "#         print(\"train loss: {train_loss:.4f}\".format(train_loss = epoch_loss))\n",
    "\n",
    "#     return train_loss_history, validation_accuracy_history"
   ]
  },
  {
   "cell_type": "code",
   "execution_count": 17,
   "id": "d8e6018b",
   "metadata": {},
   "outputs": [
    {
     "name": "stderr",
     "output_type": "stream",
     "text": [
      "100%|██████████████████████████████████████████████████████████████████████████████████| 10/10 [00:55<00:00,  5.51s/it]\n"
     ]
    }
   ],
   "source": [
    "tau_current_experiment = 2\n",
    "net = NN((tau_current_experiment,6,6,1))\n",
    "\n",
    "train_loss = train(net,data_train['EUR'].to_numpy(),epochs=10)"
   ]
  },
  {
   "cell_type": "code",
   "execution_count": 18,
   "id": "53565ca9",
   "metadata": {},
   "outputs": [
    {
     "data": {
      "image/png": "[encoded data removed]",
      "text/plain": [
       "<Figure size 1280x720 with 1 Axes>"
      ]
     },
     "metadata": {},
     "output_type": "display_data"
    }
   ],
   "source": [
    "plt.plot(train_loss)\n",
    "plt.title(\"Train Loss to Epoch\")\n",
    "plt.show()"
   ]
  },
  {
   "cell_type": "code",
   "execution_count": 19,
   "id": "2c3889ce",
   "metadata": {},
   "outputs": [
    {
     "data": {
      "text/plain": [
       "0   -0.129132\n",
       "1   -0.128506\n",
       "2   -0.157947\n",
       "3   -0.227479\n",
       "Name: EUR, dtype: float64"
      ]
     },
     "execution_count": 19,
     "metadata": {},
     "output_type": "execute_result"
    }
   ],
   "source": [
    "data_train.loc[:3,'EUR']"
   ]
  },
  {
   "cell_type": "markdown",
   "id": "daa6e9fd",
   "metadata": {},
   "source": [
    "## Тест предсказаний"
   ]
  },
  {
   "cell_type": "code",
   "execution_count": 20,
   "id": "fb941020",
   "metadata": {},
   "outputs": [
    {
     "name": "stdout",
     "output_type": "stream",
     "text": [
      "Среднеквадратичная ошибка: 0.14822554553595377\n"
     ]
    }
   ],
   "source": [
    "# tau_current_experiment\n",
    "eur_pred_list = []\n",
    "date_list = []\n",
    "mean_square_error = 0\n",
    "for ind in range(len(data_test)-tau_current_experiment):\n",
    "    eur_pred = float(net.forward(data_test.loc[ind:ind+tau_current_experiment-1,'EUR'].to_numpy()))\n",
    "    mean_square_error += (data_test.loc[ind+tau_current_experiment-1,'EUR'])**2\n",
    "    date = data_test.loc[ind+tau_current_experiment-1,'Date']\n",
    "    eur_pred_list.append(eur_pred)\n",
    "    date_list.append(date)\n",
    "    \n",
    "mean_square_error = mean_square_error / len(eur_pred_list)\n",
    "print('Среднеквадратичная ошибка:',mean_square_error)"
   ]
  },
  {
   "cell_type": "code",
   "execution_count": 21,
   "id": "0126b497",
   "metadata": {},
   "outputs": [
    {
     "data": {
      "text/plain": [
       "<AxesSubplot:>"
      ]
     },
     "execution_count": 21,
     "metadata": {},
     "output_type": "execute_result"
    },
    {
     "data": {
      "image/png": "[encoded data removed]",
      "text/plain": [
       "<Figure size 1280x720 with 1 Axes>"
      ]
     },
     "metadata": {},
     "output_type": "display_data"
    }
   ],
   "source": [
    "sns.lineplot(x=date_list,y=eur_pred_list)"
   ]
  },
  {
   "cell_type": "markdown",
   "id": "4618cd1a",
   "metadata": {},
   "source": [
    "## Исследование влияния гиперпараметров на точность прогноза"
   ]
  },
  {
   "cell_type": "code",
   "execution_count": 22,
   "id": "5769c436",
   "metadata": {},
   "outputs": [
    {
     "data": {
      "text/plain": [
       "0.14822554553595377"
      ]
     },
     "execution_count": 22,
     "metadata": {},
     "output_type": "execute_result"
    }
   ],
   "source": [
    "def test_model(model,data_test,tau):\n",
    "    eur_pred_list = []\n",
    "    date_list = []\n",
    "    mean_square_error = 0\n",
    "    for ind in range(len(data_test)-tau):\n",
    "        eur_pred = float(model.forward(data_test.loc[ind:ind+tau-1,'EUR'].to_numpy()))\n",
    "        mean_square_error += (data_test.loc[ind+tau-1,'EUR'])**2\n",
    "        date = data_test.loc[ind+tau-1,'Date']\n",
    "        eur_pred_list.append(eur_pred)\n",
    "        date_list.append(date)\n",
    "        \n",
    "    mean_square_error = mean_square_error / len(eur_pred_list)\n",
    "    return mean_square_error\n",
    "\n",
    "test_model(net,data_test,2)"
   ]
  },
  {
   "cell_type": "markdown",
   "id": "c11555ed",
   "metadata": {},
   "source": [
    "### Персептрон без скрытых слоёв"
   ]
  },
  {
   "cell_type": "code",
   "execution_count": 33,
   "id": "e3b47344",
   "metadata": {},
   "outputs": [
    {
     "name": "stderr",
     "output_type": "stream",
     "text": [
      "100%|██████████████████████████████████████████████████████████████████████████████████| 10/10 [00:06<00:00,  1.53it/s]\n",
      "100%|██████████████████████████████████████████████████████████████████████████████████| 10/10 [00:06<00:00,  1.58it/s]\n",
      "100%|██████████████████████████████████████████████████████████████████████████████████| 10/10 [00:07<00:00,  1.27it/s]\n",
      "100%|██████████████████████████████████████████████████████████████████████████████████| 10/10 [00:06<00:00,  1.60it/s]\n",
      "100%|██████████████████████████████████████████████████████████████████████████████████| 10/10 [00:06<00:00,  1.56it/s]\n",
      "100%|██████████████████████████████████████████████████████████████████████████████████| 10/10 [00:07<00:00,  1.42it/s]\n",
      "100%|██████████████████████████████████████████████████████████████████████████████████| 10/10 [00:07<00:00,  1.33it/s]\n",
      "100%|██████████████████████████████████████████████████████████████████████████████████| 10/10 [00:06<00:00,  1.54it/s]\n",
      "100%|██████████████████████████████████████████████████████████████████████████████████| 10/10 [00:06<00:00,  1.61it/s]\n",
      "100%|██████████████████████████████████████████████████████████████████████████████████| 10/10 [00:06<00:00,  1.49it/s]\n",
      "  0%|                                                                                           | 0/10 [00:00<?, ?it/s]"
     ]
    },
    {
     "name": "stdout",
     "output_type": "stream",
     "text": [
      "2\n",
      "mean: 0.14822554553595377\n",
      "std: 0.0\n"
     ]
    },
    {
     "name": "stderr",
     "output_type": "stream",
     "text": [
      "100%|██████████████████████████████████████████████████████████████████████████████████| 10/10 [00:02<00:00,  3.96it/s]\n",
      "100%|██████████████████████████████████████████████████████████████████████████████████| 10/10 [00:03<00:00,  3.08it/s]\n",
      "100%|██████████████████████████████████████████████████████████████████████████████████| 10/10 [00:02<00:00,  3.89it/s]\n",
      "100%|██████████████████████████████████████████████████████████████████████████████████| 10/10 [00:02<00:00,  4.08it/s]\n",
      "100%|██████████████████████████████████████████████████████████████████████████████████| 10/10 [00:02<00:00,  3.93it/s]\n",
      "100%|██████████████████████████████████████████████████████████████████████████████████| 10/10 [00:02<00:00,  4.07it/s]\n",
      "100%|██████████████████████████████████████████████████████████████████████████████████| 10/10 [00:03<00:00,  3.22it/s]\n",
      "100%|██████████████████████████████████████████████████████████████████████████████████| 10/10 [00:02<00:00,  4.00it/s]\n",
      "100%|██████████████████████████████████████████████████████████████████████████████████| 10/10 [00:03<00:00,  3.17it/s]\n",
      "100%|██████████████████████████████████████████████████████████████████████████████████| 10/10 [00:02<00:00,  3.50it/s]\n",
      "  0%|                                                                                           | 0/10 [00:00<?, ?it/s]"
     ]
    },
    {
     "name": "stdout",
     "output_type": "stream",
     "text": [
      "7\n",
      "mean: 0.14640888772372335\n",
      "std: 2.7755575615628914e-17\n"
     ]
    },
    {
     "name": "stderr",
     "output_type": "stream",
     "text": [
      "100%|██████████████████████████████████████████████████████████████████████████████████| 10/10 [00:01<00:00,  5.31it/s]\n",
      "100%|██████████████████████████████████████████████████████████████████████████████████| 10/10 [00:01<00:00,  5.07it/s]\n",
      "100%|██████████████████████████████████████████████████████████████████████████████████| 10/10 [00:01<00:00,  5.77it/s]\n",
      "100%|██████████████████████████████████████████████████████████████████████████████████| 10/10 [00:01<00:00,  5.03it/s]\n",
      "100%|██████████████████████████████████████████████████████████████████████████████████| 10/10 [00:01<00:00,  5.75it/s]\n",
      "100%|██████████████████████████████████████████████████████████████████████████████████| 10/10 [00:01<00:00,  5.68it/s]\n",
      "100%|██████████████████████████████████████████████████████████████████████████████████| 10/10 [00:03<00:00,  3.28it/s]\n",
      "100%|██████████████████████████████████████████████████████████████████████████████████| 10/10 [00:02<00:00,  4.89it/s]\n",
      "100%|██████████████████████████████████████████████████████████████████████████████████| 10/10 [00:02<00:00,  3.52it/s]\n",
      "100%|██████████████████████████████████████████████████████████████████████████████████| 10/10 [00:02<00:00,  4.96it/s]\n",
      " 10%|████████▎                                                                          | 1/10 [00:00<00:01,  6.70it/s]"
     ]
    },
    {
     "name": "stdout",
     "output_type": "stream",
     "text": [
      "14\n",
      "mean: 0.14357456086743953\n",
      "std: 0.0\n"
     ]
    },
    {
     "name": "stderr",
     "output_type": "stream",
     "text": [
      "100%|██████████████████████████████████████████████████████████████████████████████████| 10/10 [00:01<00:00,  7.07it/s]\n",
      "100%|██████████████████████████████████████████████████████████████████████████████████| 10/10 [00:01<00:00,  7.03it/s]\n",
      "100%|██████████████████████████████████████████████████████████████████████████████████| 10/10 [00:01<00:00,  6.95it/s]\n",
      "100%|██████████████████████████████████████████████████████████████████████████████████| 10/10 [00:01<00:00,  7.02it/s]\n",
      "100%|██████████████████████████████████████████████████████████████████████████████████| 10/10 [00:01<00:00,  6.96it/s]\n",
      "100%|██████████████████████████████████████████████████████████████████████████████████| 10/10 [00:01<00:00,  7.00it/s]\n",
      "100%|██████████████████████████████████████████████████████████████████████████████████| 10/10 [00:01<00:00,  7.04it/s]\n",
      "100%|██████████████████████████████████████████████████████████████████████████████████| 10/10 [00:01<00:00,  6.55it/s]\n",
      "100%|██████████████████████████████████████████████████████████████████████████████████| 10/10 [00:01<00:00,  7.14it/s]\n",
      "100%|██████████████████████████████████████████████████████████████████████████████████| 10/10 [00:01<00:00,  7.19it/s]\n",
      " 10%|████████▎                                                                          | 1/10 [00:00<00:01,  6.28it/s]"
     ]
    },
    {
     "name": "stdout",
     "output_type": "stream",
     "text": [
      "30\n",
      "mean: 0.13669784226910892\n",
      "std: 0.0\n"
     ]
    },
    {
     "name": "stderr",
     "output_type": "stream",
     "text": [
      "100%|██████████████████████████████████████████████████████████████████████████████████| 10/10 [00:01<00:00,  8.15it/s]\n",
      "100%|██████████████████████████████████████████████████████████████████████████████████| 10/10 [00:01<00:00,  8.55it/s]\n",
      "100%|██████████████████████████████████████████████████████████████████████████████████| 10/10 [00:01<00:00,  8.70it/s]\n",
      "100%|██████████████████████████████████████████████████████████████████████████████████| 10/10 [00:01<00:00,  8.45it/s]\n",
      "100%|██████████████████████████████████████████████████████████████████████████████████| 10/10 [00:01<00:00,  8.58it/s]\n",
      "100%|██████████████████████████████████████████████████████████████████████████████████| 10/10 [00:01<00:00,  7.13it/s]\n",
      "100%|██████████████████████████████████████████████████████████████████████████████████| 10/10 [00:01<00:00,  8.20it/s]\n",
      "100%|██████████████████████████████████████████████████████████████████████████████████| 10/10 [00:01<00:00,  8.44it/s]\n",
      "100%|██████████████████████████████████████████████████████████████████████████████████| 10/10 [00:01<00:00,  8.47it/s]\n",
      "100%|██████████████████████████████████████████████████████████████████████████████████| 10/10 [00:01<00:00,  8.28it/s]\n",
      " 20%|████████████████▌                                                                  | 2/10 [00:00<00:00, 11.44it/s]"
     ]
    },
    {
     "name": "stdout",
     "output_type": "stream",
     "text": [
      "60\n",
      "mean: 0.13170613951644877\n",
      "std: 0.0\n"
     ]
    },
    {
     "name": "stderr",
     "output_type": "stream",
     "text": [
      "100%|██████████████████████████████████████████████████████████████████████████████████| 10/10 [00:00<00:00, 11.46it/s]\n",
      "100%|██████████████████████████████████████████████████████████████████████████████████| 10/10 [00:00<00:00, 11.41it/s]\n",
      "100%|██████████████████████████████████████████████████████████████████████████████████| 10/10 [00:00<00:00, 11.17it/s]\n",
      "100%|██████████████████████████████████████████████████████████████████████████████████| 10/10 [00:00<00:00, 11.73it/s]\n",
      "100%|██████████████████████████████████████████████████████████████████████████████████| 10/10 [00:00<00:00, 11.69it/s]\n",
      "100%|██████████████████████████████████████████████████████████████████████████████████| 10/10 [00:00<00:00, 12.20it/s]\n",
      "100%|██████████████████████████████████████████████████████████████████████████████████| 10/10 [00:01<00:00,  8.71it/s]\n",
      "100%|██████████████████████████████████████████████████████████████████████████████████| 10/10 [00:00<00:00, 12.13it/s]\n",
      "100%|██████████████████████████████████████████████████████████████████████████████████| 10/10 [00:00<00:00, 10.24it/s]\n",
      "100%|██████████████████████████████████████████████████████████████████████████████████| 10/10 [00:01<00:00,  9.68it/s]\n"
     ]
    },
    {
     "name": "stdout",
     "output_type": "stream",
     "text": [
      "365\n",
      "mean: 0.16410990705184525\n",
      "std: 0.0\n"
     ]
    }
   ],
   "source": [
    "TAU_LIST = [2,7,14,30,60,365]\n",
    "ITERATIONS = 10\n",
    "\n",
    "for tau_current_experiment in TAU_LIST:\n",
    "    mse = np.array([])\n",
    "    for iteration in range(ITERATIONS):\n",
    "        net = NN((tau_current_experiment,1))\n",
    "        train_loss = train(net,data_train['EUR'].to_numpy(),epochs=10,tau=tau_current_experiment)\n",
    "        mse_current = test_model(net,data_test,tau_current_experiment)\n",
    "        mse = np.hstack((mse,mse_current))\n",
    "    print(tau_current_experiment)\n",
    "    print('mean:',mse.mean())\n",
    "    print('std:',mse.std())"
   ]
  },
  {
   "cell_type": "markdown",
   "id": "6598a995",
   "metadata": {},
   "source": [
    "### Персептрон с одним скрытым слоем"
   ]
  },
  {
   "cell_type": "code",
   "execution_count": 34,
   "id": "7108b8c7",
   "metadata": {},
   "outputs": [
    {
     "name": "stderr",
     "output_type": "stream",
     "text": [
      "100%|██████████████████████████████████████████████████████████████████████████████████| 10/10 [00:07<00:00,  1.30it/s]\n",
      "100%|██████████████████████████████████████████████████████████████████████████████████| 10/10 [00:10<00:00,  1.00s/it]\n",
      "100%|██████████████████████████████████████████████████████████████████████████████████| 10/10 [00:07<00:00,  1.26it/s]\n",
      "100%|██████████████████████████████████████████████████████████████████████████████████| 10/10 [00:09<00:00,  1.05it/s]\n",
      "100%|██████████████████████████████████████████████████████████████████████████████████| 10/10 [00:08<00:00,  1.19it/s]\n",
      "100%|██████████████████████████████████████████████████████████████████████████████████| 10/10 [00:07<00:00,  1.25it/s]\n",
      "100%|██████████████████████████████████████████████████████████████████████████████████| 10/10 [00:07<00:00,  1.29it/s]\n",
      "100%|██████████████████████████████████████████████████████████████████████████████████| 10/10 [00:07<00:00,  1.27it/s]\n",
      "100%|██████████████████████████████████████████████████████████████████████████████████| 10/10 [00:07<00:00,  1.26it/s]\n",
      "100%|██████████████████████████████████████████████████████████████████████████████████| 10/10 [00:09<00:00,  1.05it/s]\n",
      "  0%|                                                                                           | 0/10 [00:00<?, ?it/s]"
     ]
    },
    {
     "name": "stdout",
     "output_type": "stream",
     "text": [
      "2\n",
      "mean: 0.14822554553595377\n",
      "std: 0.0\n"
     ]
    },
    {
     "name": "stderr",
     "output_type": "stream",
     "text": [
      "100%|██████████████████████████████████████████████████████████████████████████████████| 10/10 [00:02<00:00,  3.80it/s]\n",
      "100%|██████████████████████████████████████████████████████████████████████████████████| 10/10 [00:02<00:00,  4.44it/s]\n",
      "100%|██████████████████████████████████████████████████████████████████████████████████| 10/10 [00:05<00:00,  1.90it/s]\n",
      "100%|██████████████████████████████████████████████████████████████████████████████████| 10/10 [00:03<00:00,  2.75it/s]\n",
      "100%|██████████████████████████████████████████████████████████████████████████████████| 10/10 [00:03<00:00,  2.98it/s]\n",
      "100%|██████████████████████████████████████████████████████████████████████████████████| 10/10 [00:02<00:00,  3.97it/s]\n",
      "100%|██████████████████████████████████████████████████████████████████████████████████| 10/10 [00:02<00:00,  4.58it/s]\n",
      "100%|██████████████████████████████████████████████████████████████████████████████████| 10/10 [00:02<00:00,  4.50it/s]\n",
      "100%|██████████████████████████████████████████████████████████████████████████████████| 10/10 [00:03<00:00,  2.60it/s]\n",
      "100%|██████████████████████████████████████████████████████████████████████████████████| 10/10 [00:02<00:00,  4.60it/s]\n",
      " 10%|████████▎                                                                          | 1/10 [00:00<00:01,  8.90it/s]"
     ]
    },
    {
     "name": "stdout",
     "output_type": "stream",
     "text": [
      "7\n",
      "mean: 0.14640888772372335\n",
      "std: 2.7755575615628914e-17\n"
     ]
    },
    {
     "name": "stderr",
     "output_type": "stream",
     "text": [
      "100%|██████████████████████████████████████████████████████████████████████████████████| 10/10 [00:01<00:00,  8.69it/s]\n",
      "100%|██████████████████████████████████████████████████████████████████████████████████| 10/10 [00:01<00:00,  6.53it/s]\n",
      "100%|██████████████████████████████████████████████████████████████████████████████████| 10/10 [00:01<00:00,  8.30it/s]\n",
      "100%|██████████████████████████████████████████████████████████████████████████████████| 10/10 [00:01<00:00,  5.56it/s]\n",
      "100%|██████████████████████████████████████████████████████████████████████████████████| 10/10 [00:01<00:00,  8.83it/s]\n",
      "100%|██████████████████████████████████████████████████████████████████████████████████| 10/10 [00:01<00:00,  8.96it/s]\n",
      "100%|██████████████████████████████████████████████████████████████████████████████████| 10/10 [00:01<00:00,  8.91it/s]\n",
      "100%|██████████████████████████████████████████████████████████████████████████████████| 10/10 [00:01<00:00,  8.82it/s]\n",
      "100%|██████████████████████████████████████████████████████████████████████████████████| 10/10 [00:01<00:00,  9.09it/s]\n",
      "100%|██████████████████████████████████████████████████████████████████████████████████| 10/10 [00:01<00:00,  6.38it/s]\n",
      " 20%|████████████████▌                                                                  | 2/10 [00:00<00:00, 15.07it/s]"
     ]
    },
    {
     "name": "stdout",
     "output_type": "stream",
     "text": [
      "14\n",
      "mean: 0.14357456086743953\n",
      "std: 0.0\n"
     ]
    },
    {
     "name": "stderr",
     "output_type": "stream",
     "text": [
      "100%|██████████████████████████████████████████████████████████████████████████████████| 10/10 [00:00<00:00, 12.50it/s]\n",
      "100%|██████████████████████████████████████████████████████████████████████████████████| 10/10 [00:00<00:00, 12.13it/s]\n",
      "100%|██████████████████████████████████████████████████████████████████████████████████| 10/10 [00:00<00:00, 10.63it/s]\n",
      "100%|██████████████████████████████████████████████████████████████████████████████████| 10/10 [00:00<00:00, 12.45it/s]\n",
      "100%|██████████████████████████████████████████████████████████████████████████████████| 10/10 [00:00<00:00, 12.01it/s]\n",
      "100%|██████████████████████████████████████████████████████████████████████████████████| 10/10 [00:00<00:00, 10.92it/s]\n",
      "100%|██████████████████████████████████████████████████████████████████████████████████| 10/10 [00:01<00:00,  8.72it/s]\n",
      "100%|██████████████████████████████████████████████████████████████████████████████████| 10/10 [00:01<00:00,  8.97it/s]\n",
      "100%|██████████████████████████████████████████████████████████████████████████████████| 10/10 [00:00<00:00, 15.41it/s]\n",
      "100%|██████████████████████████████████████████████████████████████████████████████████| 10/10 [00:00<00:00, 16.80it/s]\n",
      " 40%|█████████████████████████████████▏                                                 | 4/10 [00:00<00:00, 36.43it/s]"
     ]
    },
    {
     "name": "stdout",
     "output_type": "stream",
     "text": [
      "30\n",
      "mean: 0.13669784226910892\n",
      "std: 0.0\n"
     ]
    },
    {
     "name": "stderr",
     "output_type": "stream",
     "text": [
      "100%|██████████████████████████████████████████████████████████████████████████████████| 10/10 [00:00<00:00, 33.58it/s]\n",
      "100%|██████████████████████████████████████████████████████████████████████████████████| 10/10 [00:00<00:00, 37.86it/s]\n",
      "100%|██████████████████████████████████████████████████████████████████████████████████| 10/10 [00:00<00:00, 23.15it/s]\n",
      "100%|██████████████████████████████████████████████████████████████████████████████████| 10/10 [00:00<00:00, 16.58it/s]\n",
      "100%|██████████████████████████████████████████████████████████████████████████████████| 10/10 [00:00<00:00, 29.87it/s]\n",
      "100%|██████████████████████████████████████████████████████████████████████████████████| 10/10 [00:00<00:00, 19.75it/s]\n",
      "100%|██████████████████████████████████████████████████████████████████████████████████| 10/10 [00:00<00:00, 24.28it/s]\n",
      "100%|██████████████████████████████████████████████████████████████████████████████████| 10/10 [00:00<00:00, 19.90it/s]\n",
      "100%|██████████████████████████████████████████████████████████████████████████████████| 10/10 [00:00<00:00, 32.63it/s]\n",
      "100%|██████████████████████████████████████████████████████████████████████████████████| 10/10 [00:00<00:00, 32.14it/s]\n",
      "100%|█████████████████████████████████████████████████████████████████████████████████| 10/10 [00:00<00:00, 212.64it/s]"
     ]
    },
    {
     "name": "stdout",
     "output_type": "stream",
     "text": [
      "60\n",
      "mean: 0.13170613951644877\n",
      "std: 0.0\n"
     ]
    },
    {
     "name": "stderr",
     "output_type": "stream",
     "text": [
      "\n",
      "100%|█████████████████████████████████████████████████████████████████████████████████| 10/10 [00:00<00:00, 194.77it/s]\n",
      "100%|█████████████████████████████████████████████████████████████████████████████████| 10/10 [00:00<00:00, 213.43it/s]\n",
      "100%|█████████████████████████████████████████████████████████████████████████████████| 10/10 [00:00<00:00, 249.64it/s]\n",
      "100%|█████████████████████████████████████████████████████████████████████████████████| 10/10 [00:00<00:00, 169.22it/s]\n",
      "100%|█████████████████████████████████████████████████████████████████████████████████| 10/10 [00:00<00:00, 213.92it/s]\n",
      "100%|█████████████████████████████████████████████████████████████████████████████████| 10/10 [00:00<00:00, 200.10it/s]\n",
      "100%|█████████████████████████████████████████████████████████████████████████████████| 10/10 [00:00<00:00, 219.85it/s]\n",
      "100%|█████████████████████████████████████████████████████████████████████████████████| 10/10 [00:00<00:00, 128.52it/s]\n",
      "100%|█████████████████████████████████████████████████████████████████████████████████| 10/10 [00:00<00:00, 321.39it/s]\n"
     ]
    },
    {
     "name": "stdout",
     "output_type": "stream",
     "text": [
      "365\n",
      "mean: 0.16410990705184525\n",
      "std: 0.0\n"
     ]
    }
   ],
   "source": [
    "TAU_LIST = [2,7,14,30,60,365]\n",
    "ITERATIONS = 10\n",
    "\n",
    "for tau_current_experiment in TAU_LIST:\n",
    "    mse = np.array([])\n",
    "    for iteration in range(ITERATIONS):\n",
    "        net = NN((tau_current_experiment,int(3/2/tau_current_experiment),1))\n",
    "        train_loss = train(net,data_train['EUR'].to_numpy(),epochs=10,tau=tau_current_experiment)\n",
    "        mse_current = test_model(net,data_test,tau_current_experiment)\n",
    "        mse = np.hstack((mse,mse_current))\n",
    "    print(tau_current_experiment)\n",
    "    print('mean:',mse.mean())\n",
    "    print('std:',mse.std())"
   ]
  },
  {
   "cell_type": "markdown",
   "id": "27b0ef92",
   "metadata": {},
   "source": [
    "### Персептрон с двумя скрытыми слоями"
   ]
  },
  {
   "cell_type": "code",
   "execution_count": null,
   "id": "bc612fb8",
   "metadata": {},
   "outputs": [
    {
     "name": "stderr",
     "output_type": "stream",
     "text": [
      "100%|██████████████████████████████████████████████████████████████████████████████████| 10/10 [00:14<00:00,  1.43s/it]\n",
      " 30%|████████████████████████▉                                                          | 3/10 [00:04<00:09,  1.35s/it]"
     ]
    }
   ],
   "source": [
    "TAU_LIST = [2,7,14,30,60,365]\n",
    "ITERATIONS = 10\n",
    "\n",
    "for tau_current_experiment in TAU_LIST:\n",
    "    mse = np.array([])\n",
    "    for iteration in range(ITERATIONS):\n",
    "        net = NN((tau_current_experiment,int(3/2/tau_current_experiment),tau_current_experiment,1))\n",
    "        train_loss = train(net,data_train['EUR'].to_numpy(),epochs=10,tau=tau_current_experiment)\n",
    "        mse_current = test_model(net,data_test,tau_current_experiment)\n",
    "        mse = np.hstack((mse,mse_current))\n",
    "    print(tau_current_experiment)\n",
    "    print('mean:',mse.mean())\n",
    "    print('std:',mse.std())"
   ]
  },
  {
   "cell_type": "code",
   "execution_count": null,
   "id": "5446a296",
   "metadata": {},
   "outputs": [],
   "source": []
  }
 ],
 "metadata": {
  "kernelspec": {
   "display_name": "Python 3",
   "language": "python",
   "name": "python3"
  },
  "language_info": {
   "codemirror_mode": {
    "name": "ipython",
    "version": 3
   },
   "file_extension": ".py",
   "mimetype": "text/x-python",
   "name": "python",
   "nbconvert_exporter": "python",
   "pygments_lexer": "ipython3",
   "version": "3.8.8"
  }
 },
 "nbformat": 4,
 "nbformat_minor": 5
}
